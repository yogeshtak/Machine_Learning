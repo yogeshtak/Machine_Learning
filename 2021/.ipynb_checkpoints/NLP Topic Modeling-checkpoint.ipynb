{
 "cells": [
  {
   "cell_type": "code",
   "execution_count": 31,
   "id": "dbd866bf",
   "metadata": {},
   "outputs": [],
   "source": [
    "#importing libraries\n",
    "import pandas as pd\n",
    "import numpy as np\n",
    "import os\n",
    "import matplotlib.pyplot as plt\n",
    "from matplotlib import style\n",
    "import seaborn as sns"
   ]
  },
  {
   "cell_type": "code",
   "execution_count": 32,
   "id": "c536d32d",
   "metadata": {},
   "outputs": [],
   "source": [
    "df = pd.read_csv(\"comments.csv\")"
   ]
  },
  {
   "cell_type": "code",
   "execution_count": 33,
   "id": "61e6343f",
   "metadata": {},
   "outputs": [
    {
     "data": {
      "text/html": [
       "<div>\n",
       "<style scoped>\n",
       "    .dataframe tbody tr th:only-of-type {\n",
       "        vertical-align: middle;\n",
       "    }\n",
       "\n",
       "    .dataframe tbody tr th {\n",
       "        vertical-align: top;\n",
       "    }\n",
       "\n",
       "    .dataframe thead th {\n",
       "        text-align: right;\n",
       "    }\n",
       "</style>\n",
       "<table border=\"1\" class=\"dataframe\">\n",
       "  <thead>\n",
       "    <tr style=\"text-align: right;\">\n",
       "      <th></th>\n",
       "      <th>InternalID_NEW</th>\n",
       "      <th>Comments</th>\n",
       "      <th>Unnamed: 2</th>\n",
       "      <th>Unnamed: 3</th>\n",
       "      <th>Unnamed: 4</th>\n",
       "      <th>Comments2</th>\n",
       "      <th>Unnamed: 6</th>\n",
       "      <th>Unnamed: 7</th>\n",
       "      <th>Unnamed: 8</th>\n",
       "      <th>Unnamed: 9</th>\n",
       "    </tr>\n",
       "  </thead>\n",
       "  <tbody>\n",
       "    <tr>\n",
       "      <th>0</th>\n",
       "      <td>1364</td>\n",
       "      <td>Decent condition for a good price.</td>\n",
       "      <td>1.0</td>\n",
       "      <td>3.0</td>\n",
       "      <td>NaN</td>\n",
       "      <td>Already have preferred retailers.</td>\n",
       "      <td>7.0</td>\n",
       "      <td>NaN</td>\n",
       "      <td>NaN</td>\n",
       "      <td>NaN</td>\n",
       "    </tr>\n",
       "    <tr>\n",
       "      <th>1</th>\n",
       "      <td>1176</td>\n",
       "      <td>a clean well set materials. Such as a mice, ne...</td>\n",
       "      <td>99.0</td>\n",
       "      <td>3.0</td>\n",
       "      <td>NaN</td>\n",
       "      <td>although GameStop has great service, other inf...</td>\n",
       "      <td>2.0</td>\n",
       "      <td>99.0</td>\n",
       "      <td>NaN</td>\n",
       "      <td>NaN</td>\n",
       "    </tr>\n",
       "    <tr>\n",
       "      <th>2</th>\n",
       "      <td>1534</td>\n",
       "      <td>NaN</td>\n",
       "      <td>NaN</td>\n",
       "      <td>NaN</td>\n",
       "      <td>NaN</td>\n",
       "      <td>Always found them to be overpriced</td>\n",
       "      <td>99.0</td>\n",
       "      <td>6.0</td>\n",
       "      <td>NaN</td>\n",
       "      <td>NaN</td>\n",
       "    </tr>\n",
       "    <tr>\n",
       "      <th>3</th>\n",
       "      <td>1430</td>\n",
       "      <td>NaN</td>\n",
       "      <td>NaN</td>\n",
       "      <td>NaN</td>\n",
       "      <td>NaN</td>\n",
       "      <td>Amazon and Steam does it all better, with Newe...</td>\n",
       "      <td>5.0</td>\n",
       "      <td>4.0</td>\n",
       "      <td>NaN</td>\n",
       "      <td>NaN</td>\n",
       "    </tr>\n",
       "    <tr>\n",
       "      <th>4</th>\n",
       "      <td>359</td>\n",
       "      <td>Open box or gently used</td>\n",
       "      <td>3.0</td>\n",
       "      <td>NaN</td>\n",
       "      <td>NaN</td>\n",
       "      <td>Amazon is better</td>\n",
       "      <td>4.0</td>\n",
       "      <td>NaN</td>\n",
       "      <td>NaN</td>\n",
       "      <td>NaN</td>\n",
       "    </tr>\n",
       "  </tbody>\n",
       "</table>\n",
       "</div>"
      ],
      "text/plain": [
       "   InternalID_NEW                                           Comments  \\\n",
       "0            1364                 Decent condition for a good price.   \n",
       "1            1176  a clean well set materials. Such as a mice, ne...   \n",
       "2            1534                                                NaN   \n",
       "3            1430                                                NaN   \n",
       "4             359                            Open box or gently used   \n",
       "\n",
       "   Unnamed: 2  Unnamed: 3  Unnamed: 4  \\\n",
       "0         1.0         3.0         NaN   \n",
       "1        99.0         3.0         NaN   \n",
       "2         NaN         NaN         NaN   \n",
       "3         NaN         NaN         NaN   \n",
       "4         3.0         NaN         NaN   \n",
       "\n",
       "                                           Comments2  Unnamed: 6  Unnamed: 7  \\\n",
       "0                  Already have preferred retailers.         7.0         NaN   \n",
       "1  although GameStop has great service, other inf...         2.0        99.0   \n",
       "2                 Always found them to be overpriced        99.0         6.0   \n",
       "3  Amazon and Steam does it all better, with Newe...         5.0         4.0   \n",
       "4                                   Amazon is better         4.0         NaN   \n",
       "\n",
       "   Unnamed: 8  Unnamed: 9  \n",
       "0         NaN         NaN  \n",
       "1         NaN         NaN  \n",
       "2         NaN         NaN  \n",
       "3         NaN         NaN  \n",
       "4         NaN         NaN  "
      ]
     },
     "execution_count": 33,
     "metadata": {},
     "output_type": "execute_result"
    }
   ],
   "source": [
    "df.head()"
   ]
  },
  {
   "cell_type": "code",
   "execution_count": 34,
   "id": "3a6e39fb",
   "metadata": {},
   "outputs": [],
   "source": [
    "df.drop(['InternalID_NEW','Unnamed: 2','Unnamed: 3','Unnamed: 4',\n",
    "         'Comments2','Unnamed: 6','Unnamed: 7','Unnamed: 8','Unnamed: 9'],\n",
    "         axis =1, inplace=True)"
   ]
  },
  {
   "cell_type": "code",
   "execution_count": 35,
   "id": "27f62e92",
   "metadata": {},
   "outputs": [
    {
     "data": {
      "text/html": [
       "<div>\n",
       "<style scoped>\n",
       "    .dataframe tbody tr th:only-of-type {\n",
       "        vertical-align: middle;\n",
       "    }\n",
       "\n",
       "    .dataframe tbody tr th {\n",
       "        vertical-align: top;\n",
       "    }\n",
       "\n",
       "    .dataframe thead th {\n",
       "        text-align: right;\n",
       "    }\n",
       "</style>\n",
       "<table border=\"1\" class=\"dataframe\">\n",
       "  <thead>\n",
       "    <tr style=\"text-align: right;\">\n",
       "      <th></th>\n",
       "      <th>Comments</th>\n",
       "    </tr>\n",
       "  </thead>\n",
       "  <tbody>\n",
       "    <tr>\n",
       "      <th>0</th>\n",
       "      <td>Decent condition for a good price.</td>\n",
       "    </tr>\n",
       "    <tr>\n",
       "      <th>1</th>\n",
       "      <td>a clean well set materials. Such as a mice, ne...</td>\n",
       "    </tr>\n",
       "    <tr>\n",
       "      <th>2</th>\n",
       "      <td>NaN</td>\n",
       "    </tr>\n",
       "    <tr>\n",
       "      <th>3</th>\n",
       "      <td>NaN</td>\n",
       "    </tr>\n",
       "    <tr>\n",
       "      <th>4</th>\n",
       "      <td>Open box or gently used</td>\n",
       "    </tr>\n",
       "  </tbody>\n",
       "</table>\n",
       "</div>"
      ],
      "text/plain": [
       "                                            Comments\n",
       "0                 Decent condition for a good price.\n",
       "1  a clean well set materials. Such as a mice, ne...\n",
       "2                                                NaN\n",
       "3                                                NaN\n",
       "4                            Open box or gently used"
      ]
     },
     "execution_count": 35,
     "metadata": {},
     "output_type": "execute_result"
    }
   ],
   "source": [
    "df.head()"
   ]
  },
  {
   "cell_type": "code",
   "execution_count": 36,
   "id": "491eaab1",
   "metadata": {},
   "outputs": [],
   "source": [
    "#removing null values\n",
    "df.dropna(inplace=True)"
   ]
  },
  {
   "cell_type": "code",
   "execution_count": 37,
   "id": "1f629ab3",
   "metadata": {},
   "outputs": [
    {
     "data": {
      "text/html": [
       "<div>\n",
       "<style scoped>\n",
       "    .dataframe tbody tr th:only-of-type {\n",
       "        vertical-align: middle;\n",
       "    }\n",
       "\n",
       "    .dataframe tbody tr th {\n",
       "        vertical-align: top;\n",
       "    }\n",
       "\n",
       "    .dataframe thead th {\n",
       "        text-align: right;\n",
       "    }\n",
       "</style>\n",
       "<table border=\"1\" class=\"dataframe\">\n",
       "  <thead>\n",
       "    <tr style=\"text-align: right;\">\n",
       "      <th></th>\n",
       "      <th>Comments</th>\n",
       "    </tr>\n",
       "  </thead>\n",
       "  <tbody>\n",
       "    <tr>\n",
       "      <th>0</th>\n",
       "      <td>Decent condition for a good price.</td>\n",
       "    </tr>\n",
       "    <tr>\n",
       "      <th>1</th>\n",
       "      <td>a clean well set materials. Such as a mice, ne...</td>\n",
       "    </tr>\n",
       "    <tr>\n",
       "      <th>4</th>\n",
       "      <td>Open box or gently used</td>\n",
       "    </tr>\n",
       "    <tr>\n",
       "      <th>5</th>\n",
       "      <td>Its the only one available</td>\n",
       "    </tr>\n",
       "    <tr>\n",
       "      <th>9</th>\n",
       "      <td>Used</td>\n",
       "    </tr>\n",
       "  </tbody>\n",
       "</table>\n",
       "</div>"
      ],
      "text/plain": [
       "                                            Comments\n",
       "0                 Decent condition for a good price.\n",
       "1  a clean well set materials. Such as a mice, ne...\n",
       "4                            Open box or gently used\n",
       "5                         Its the only one available\n",
       "9                                               Used"
      ]
     },
     "execution_count": 37,
     "metadata": {},
     "output_type": "execute_result"
    }
   ],
   "source": [
    "df.head()"
   ]
  },
  {
   "cell_type": "code",
   "execution_count": 38,
   "id": "3c41f3e9",
   "metadata": {},
   "outputs": [
    {
     "data": {
      "text/html": [
       "<div>\n",
       "<style scoped>\n",
       "    .dataframe tbody tr th:only-of-type {\n",
       "        vertical-align: middle;\n",
       "    }\n",
       "\n",
       "    .dataframe tbody tr th {\n",
       "        vertical-align: top;\n",
       "    }\n",
       "\n",
       "    .dataframe thead th {\n",
       "        text-align: right;\n",
       "    }\n",
       "</style>\n",
       "<table border=\"1\" class=\"dataframe\">\n",
       "  <thead>\n",
       "    <tr style=\"text-align: right;\">\n",
       "      <th></th>\n",
       "      <th>index</th>\n",
       "      <th>Comments</th>\n",
       "    </tr>\n",
       "  </thead>\n",
       "  <tbody>\n",
       "    <tr>\n",
       "      <th>0</th>\n",
       "      <td>0</td>\n",
       "      <td>Decent condition for a good price.</td>\n",
       "    </tr>\n",
       "    <tr>\n",
       "      <th>1</th>\n",
       "      <td>1</td>\n",
       "      <td>a clean well set materials. Such as a mice, ne...</td>\n",
       "    </tr>\n",
       "    <tr>\n",
       "      <th>2</th>\n",
       "      <td>4</td>\n",
       "      <td>Open box or gently used</td>\n",
       "    </tr>\n",
       "    <tr>\n",
       "      <th>3</th>\n",
       "      <td>5</td>\n",
       "      <td>Its the only one available</td>\n",
       "    </tr>\n",
       "    <tr>\n",
       "      <th>4</th>\n",
       "      <td>9</td>\n",
       "      <td>Used</td>\n",
       "    </tr>\n",
       "    <tr>\n",
       "      <th>...</th>\n",
       "      <td>...</td>\n",
       "      <td>...</td>\n",
       "    </tr>\n",
       "    <tr>\n",
       "      <th>1043</th>\n",
       "      <td>1309</td>\n",
       "      <td>Would have to be in good condition/lightly used</td>\n",
       "    </tr>\n",
       "    <tr>\n",
       "      <th>1044</th>\n",
       "      <td>1310</td>\n",
       "      <td>Yeah yeah it’s a little bit of it a lot better...</td>\n",
       "    </tr>\n",
       "    <tr>\n",
       "      <th>1045</th>\n",
       "      <td>1311</td>\n",
       "      <td>yers I agree with this concept</td>\n",
       "    </tr>\n",
       "    <tr>\n",
       "      <th>1046</th>\n",
       "      <td>1312</td>\n",
       "      <td>yes i have</td>\n",
       "    </tr>\n",
       "    <tr>\n",
       "      <th>1047</th>\n",
       "      <td>1313</td>\n",
       "      <td>yes right now</td>\n",
       "    </tr>\n",
       "  </tbody>\n",
       "</table>\n",
       "<p>1048 rows × 2 columns</p>\n",
       "</div>"
      ],
      "text/plain": [
       "      index                                           Comments\n",
       "0         0                 Decent condition for a good price.\n",
       "1         1  a clean well set materials. Such as a mice, ne...\n",
       "2         4                            Open box or gently used\n",
       "3         5                         Its the only one available\n",
       "4         9                                               Used\n",
       "...     ...                                                ...\n",
       "1043   1309    Would have to be in good condition/lightly used\n",
       "1044   1310  Yeah yeah it’s a little bit of it a lot better...\n",
       "1045   1311                     yers I agree with this concept\n",
       "1046   1312                                         yes i have\n",
       "1047   1313                                      yes right now\n",
       "\n",
       "[1048 rows x 2 columns]"
      ]
     },
     "execution_count": 38,
     "metadata": {},
     "output_type": "execute_result"
    }
   ],
   "source": [
    "df.reset_index()"
   ]
  },
  {
   "cell_type": "code",
   "execution_count": 39,
   "id": "f483f4ca",
   "metadata": {},
   "outputs": [
    {
     "data": {
      "text/plain": [
       "Index(['Comments'], dtype='object')"
      ]
     },
     "execution_count": 39,
     "metadata": {},
     "output_type": "execute_result"
    }
   ],
   "source": [
    "df.columns"
   ]
  },
  {
   "cell_type": "code",
   "execution_count": 40,
   "id": "fb7da7e5",
   "metadata": {},
   "outputs": [
    {
     "data": {
      "text/html": [
       "<div>\n",
       "<style scoped>\n",
       "    .dataframe tbody tr th:only-of-type {\n",
       "        vertical-align: middle;\n",
       "    }\n",
       "\n",
       "    .dataframe tbody tr th {\n",
       "        vertical-align: top;\n",
       "    }\n",
       "\n",
       "    .dataframe thead th {\n",
       "        text-align: right;\n",
       "    }\n",
       "</style>\n",
       "<table border=\"1\" class=\"dataframe\">\n",
       "  <thead>\n",
       "    <tr style=\"text-align: right;\">\n",
       "      <th></th>\n",
       "      <th>Comments</th>\n",
       "    </tr>\n",
       "  </thead>\n",
       "  <tbody>\n",
       "    <tr>\n",
       "      <th>0</th>\n",
       "      <td>Decent condition for a good price.</td>\n",
       "    </tr>\n",
       "    <tr>\n",
       "      <th>1</th>\n",
       "      <td>a clean well set materials. Such as a mice, ne...</td>\n",
       "    </tr>\n",
       "    <tr>\n",
       "      <th>4</th>\n",
       "      <td>Open box or gently used</td>\n",
       "    </tr>\n",
       "    <tr>\n",
       "      <th>5</th>\n",
       "      <td>Its the only one available</td>\n",
       "    </tr>\n",
       "    <tr>\n",
       "      <th>9</th>\n",
       "      <td>Used</td>\n",
       "    </tr>\n",
       "  </tbody>\n",
       "</table>\n",
       "</div>"
      ],
      "text/plain": [
       "                                            Comments\n",
       "0                 Decent condition for a good price.\n",
       "1  a clean well set materials. Such as a mice, ne...\n",
       "4                            Open box or gently used\n",
       "5                         Its the only one available\n",
       "9                                               Used"
      ]
     },
     "execution_count": 40,
     "metadata": {},
     "output_type": "execute_result"
    }
   ],
   "source": [
    "df.head()"
   ]
  },
  {
   "cell_type": "markdown",
   "id": "275d9c0a",
   "metadata": {},
   "source": [
    "## Data Cleaning and Preprocessing"
   ]
  },
  {
   "cell_type": "code",
   "execution_count": 41,
   "id": "312c061a",
   "metadata": {},
   "outputs": [],
   "source": [
    "#importing preprocessing libraries\n",
    "from nltk.corpus import stopwords\n",
    "from nltk import word_tokenize, sent_tokenize\n",
    "from nltk.stem import PorterStemmer, LancasterStemmer\n",
    "from nltk.stem.snowball import SnowballStemmer\n",
    "from nltk.stem import WordNetLemmatizer"
   ]
  },
  {
   "cell_type": "code",
   "execution_count": 42,
   "id": "b2efcb44",
   "metadata": {},
   "outputs": [],
   "source": [
    "def clean_text(text):\n",
    "    le = WordNetLemmatizer()\n",
    "    word_tokens = word_tokenize(text)\n",
    "    tokens = [le.lemmatize(w) \n",
    "              for w in word_tokens if w not in stop_words and len(w)>3 ]\n",
    "    \n",
    "    cleaned_text = \" \".join(tokens)\n",
    "    return cleaned_text"
   ]
  },
  {
   "cell_type": "code",
   "execution_count": 43,
   "id": "1f593019",
   "metadata": {},
   "outputs": [],
   "source": [
    "comments_work = df.copy()"
   ]
  },
  {
   "cell_type": "code",
   "execution_count": 46,
   "id": "b16840d1",
   "metadata": {},
   "outputs": [
    {
     "name": "stderr",
     "output_type": "stream",
     "text": [
      "[nltk_data] Downloading package punkt to /Users/yogeshtak/nltk_data...\n",
      "[nltk_data]   Package punkt is already up-to-date!\n",
      "[nltk_data] Downloading package stopwords to\n",
      "[nltk_data]     /Users/yogeshtak/nltk_data...\n",
      "[nltk_data]   Package stopwords is already up-to-date!\n",
      "[nltk_data] Downloading package wordnet to\n",
      "[nltk_data]     /Users/yogeshtak/nltk_data...\n",
      "[nltk_data]   Unzipping corpora/wordnet.zip.\n"
     ]
    }
   ],
   "source": [
    "import nltk #fixing some error\n",
    "nltk.download('punkt') #fixing some error\n",
    "nltk.download('stopwords')\n",
    "nltk.download('wordnet')\n",
    "\n",
    "#stopwords\n",
    "stop_words = set(nltk.corpus.stopwords.words('english'))\n",
    "\n",
    "#applying above function to our comments\n",
    "comments_work['cleaned_text'] = comments_work['Comments'].apply(clean_text)"
   ]
  },
  {
   "cell_type": "markdown",
   "id": "44d71f42",
   "metadata": {},
   "source": [
    "**Check the data now - Stop words are removed**"
   ]
  },
  {
   "cell_type": "code",
   "execution_count": 47,
   "id": "c8784987",
   "metadata": {},
   "outputs": [
    {
     "data": {
      "text/html": [
       "<div>\n",
       "<style scoped>\n",
       "    .dataframe tbody tr th:only-of-type {\n",
       "        vertical-align: middle;\n",
       "    }\n",
       "\n",
       "    .dataframe tbody tr th {\n",
       "        vertical-align: top;\n",
       "    }\n",
       "\n",
       "    .dataframe thead th {\n",
       "        text-align: right;\n",
       "    }\n",
       "</style>\n",
       "<table border=\"1\" class=\"dataframe\">\n",
       "  <thead>\n",
       "    <tr style=\"text-align: right;\">\n",
       "      <th></th>\n",
       "      <th>Comments</th>\n",
       "      <th>cleaned_text</th>\n",
       "    </tr>\n",
       "  </thead>\n",
       "  <tbody>\n",
       "    <tr>\n",
       "      <th>0</th>\n",
       "      <td>Decent condition for a good price.</td>\n",
       "      <td>Decent condition good price</td>\n",
       "    </tr>\n",
       "    <tr>\n",
       "      <th>1</th>\n",
       "      <td>a clean well set materials. Such as a mice, ne...</td>\n",
       "      <td>clean well material Such mouse networking</td>\n",
       "    </tr>\n",
       "    <tr>\n",
       "      <th>4</th>\n",
       "      <td>Open box or gently used</td>\n",
       "      <td>Open gently used</td>\n",
       "    </tr>\n",
       "    <tr>\n",
       "      <th>5</th>\n",
       "      <td>Its the only one available</td>\n",
       "      <td>available</td>\n",
       "    </tr>\n",
       "    <tr>\n",
       "      <th>9</th>\n",
       "      <td>Used</td>\n",
       "      <td>Used</td>\n",
       "    </tr>\n",
       "  </tbody>\n",
       "</table>\n",
       "</div>"
      ],
      "text/plain": [
       "                                            Comments  \\\n",
       "0                 Decent condition for a good price.   \n",
       "1  a clean well set materials. Such as a mice, ne...   \n",
       "4                            Open box or gently used   \n",
       "5                         Its the only one available   \n",
       "9                                               Used   \n",
       "\n",
       "                                cleaned_text  \n",
       "0                Decent condition good price  \n",
       "1  clean well material Such mouse networking  \n",
       "4                           Open gently used  \n",
       "5                                  available  \n",
       "9                                       Used  "
      ]
     },
     "execution_count": 47,
     "metadata": {},
     "output_type": "execute_result"
    }
   ],
   "source": [
    "comments_work.head()"
   ]
  },
  {
   "cell_type": "code",
   "execution_count": 48,
   "id": "fe85f58b",
   "metadata": {},
   "outputs": [],
   "source": [
    "#dropping original text\n",
    "comments_work.drop(['Comments'], axis=1, inplace=True)"
   ]
  },
  {
   "cell_type": "markdown",
   "id": "37a52a21",
   "metadata": {},
   "source": [
    "### Creating DTM Document Term Matrix\n",
    "\n",
    "It is a matrix that describe the frequency of terms that ocuure in a collection of documents"
   ]
  },
  {
   "cell_type": "code",
   "execution_count": 49,
   "id": "7c525f0c",
   "metadata": {},
   "outputs": [],
   "source": [
    "#importing libraires \n",
    "from sklearn.feature_extraction.text import TfidfVectorizer, CountVectorizer"
   ]
  },
  {
   "cell_type": "code",
   "execution_count": 50,
   "id": "e1a00c5b",
   "metadata": {},
   "outputs": [],
   "source": [
    "vect = TfidfVectorizer(stop_words = stop_words,\n",
    "                      max_features=1000)"
   ]
  },
  {
   "cell_type": "code",
   "execution_count": 51,
   "id": "2d4bc110",
   "metadata": {},
   "outputs": [],
   "source": [
    "vect_text = vect.fit_transform(comments_work['cleaned_text'])"
   ]
  },
  {
   "cell_type": "code",
   "execution_count": 52,
   "id": "023a0247",
   "metadata": {},
   "outputs": [
    {
     "name": "stdout",
     "output_type": "stream",
     "text": [
      "['2080ti', '3000', 'ability', 'able', 'absence', 'absolutely', 'abuse', 'access', 'accessory', 'account', 'accurate', 'acomputer', 'acquire', 'actually', 'add', 'added', 'addition', 'advance', 'advantageous', 'affect', 'afford', 'affordable', 'afraid', 'agree', 'ahead', 'almost', 'alot', 'already', 'alright', 'also', 'altered', 'alternative', 'amazing', 'amazon', 'amount', 'another', 'answer', 'anxious', 'anymore', 'anything', 'anywhere', 'apprehensive', 'arises', 'article', 'asap', 'aside', 'asked', 'asking', 'assurance', 'assure', 'assured', 'attempt', 'availability', 'available', 'average', 'away', 'back', 'backed', 'background', 'backup', 'badly', 'barely', 'bargain', 'barley', 'based', 'basic', 'basically', 'beat', 'beforehand', 'behind', 'believe', 'beneficial', 'benefit', 'best', 'better', 'biggest', 'black', 'blew', 'board', 'body', 'boil', 'bos', 'bought', 'brand', 'bread', 'break', 'breakdown', 'breaking', 'bricked', 'bring', 'brocken', 'broke', 'broken', 'buddy', 'budget', 'build', 'building', 'built', 'bunch', 'buyer', 'buying', 'called', 'came', 'cant', 'capacity', 'card', 'care', 'cared', 'carefully', 'case', 'cash', 'cause', 'celebrity', 'centaim', 'century', 'certain', 'certainly', 'certainty', 'certified', 'chance', 'change', 'cheap', 'cheaper', 'check', 'checked', 'child', 'choose', 'civic', 'clean', 'cleaned', 'cleanliness', 'clear', 'clearance', 'click', 'close', 'closely', 'code', 'coding', 'come', 'comfortable', 'comforting', 'coming', 'company', 'compent', 'completely', 'complicated', 'component', 'components', 'computer', 'concept', 'concern', 'condicsion', 'condiiction', 'condition', 'condsole', 'confidence', 'configured', 'confirmed', 'consider', 'considered', 'considering', 'constantly', 'contact', 'controlled', 'controller', 'cool', 'copy', 'corona', 'correctly', 'corrupted', 'cost', 'costly', 'could', 'couldnt', 'couple', 'courage', 'course', 'cover', 'coverage', 'covid', 'cpu', 'craigslist', 'crap', 'crash', 'critical', 'curb', 'current', 'currently', 'daily', 'damage', 'damaged', 'dark', 'data', 'date', 'day', 'dead', 'deal', 'dealer', 'decent', 'decided', 'decision', 'deep', 'deeply', 'defect', 'definite', 'definitely', 'degradable', 'demonstration', 'depend', 'depending', 'depends', 'depreciation', 'description', 'desesperación', 'design', 'desired', 'desperate', 'desperately', 'desperation', 'despite', 'determine', 'determined', 'device', 'devices', 'diags', 'didnt', 'difference', 'different', 'difficult', 'difficulty', 'digital', 'dip', 'dire', 'direct', 'dirt', 'dirty', 'disc', 'discontinued', 'discount', 'discounted', 'disease', 'disgusting', 'disinfected', 'doesnt', 'done', 'dont', 'drive', 'drop', 'durable', 'dust', 'ease', 'easily', 'easy', 'ebay', 'edition', 'effect', 'either', 'el', 'electronics', 'else', 'elsewhere', 'emergency', 'ended', 'enjoy', 'enough', 'entertainment', 'entry', 'environment', 'epic', 'equipment', 'equipped', 'especially', 'essential', 'evaluate', 'even', 'ever', 'everyone', 'everything', 'evidence', 'exact', 'exactly', 'exam', 'example', 'excellent', 'exchange', 'existing', 'exorbitantly', 'expect', 'expense', 'expensive', 'experimenting', 'exposed', 'extended', 'extent', 'exterior', 'external', 'extreme', 'extremely', 'face', 'fact', 'factor', 'fail', 'failed', 'fails', 'fair', 'fairly', 'familiar', 'familiarity', 'family', 'fantastic', 'fast', 'faster', 'fault', 'faulty', 'feature', 'feedback', 'feel', 'feeling', 'felt', 'financially', 'financials', 'find', 'finding', 'fine', 'first', 'fit', 'flaw', 'flawlessly', 'form', 'found', 'free', 'friend', 'full', 'fully', 'function', 'functional', 'functionality', 'functioning', 'fygvubhnj', 'game', 'gamed', 'gamer', 'gamestop', 'gaming', 'garuntees', 'gauge', 'generation', 'gently', 'genuine', 'germ', 'germs', 'get', 'getting', 'gift', 'give', 'given', 'giving', 'glich', 'going', 'good', 'google', 'gpu', 'gpus', 'grandkids', 'graphic', 'grate', 'great', 'gross', 'group', 'guarantee', 'guaranteed', 'guarentee', 'guess', 'gurantee', 'guy', 'guys', 'hair', 'half', 'hand', 'handed', 'handle', 'handled', 'hanf', 'happened', 'happens', 'happy', 'hard', 'harder', 'hardly', 'hardware', 'head', 'headgear', 'headphone', 'headset', 'heaily', 'health', 'heat', 'heavy', 'hell', 'help', 'helpful', 'hhhhhhhhhhhhhh', 'high', 'history', 'hold', 'home', 'homework', 'honestly', 'hope', 'horror', 'hour', 'house', 'however', 'hurry', 'hurting', 'hygiene', 'idea', 'important', 'included', 'instance', 'instead', 'intended', 'internal', 'involved', 'irresistible', 'issue', 'issues', 'item', 'items', 'itmes', 'itvwiykd', 'iwth', 'jhjm', 'job', 'join', 'joystick', 'junk', 'keep', 'kept', 'keyboard', 'kids', 'kill', 'kind', 'kinda', 'knew', 'knit', 'know', 'lack', 'last', 'lasting', 'latest', 'le', 'least', 'left', 'legacy', 'length', 'level', 'life', 'lifespan', 'lifetime', 'lightly', 'like', 'likely', 'limit', 'limited', 'line', 'listed', 'little', 'live', 'load', 'location', 'long', 'longer', 'look', 'looked', 'looking', 'lose', 'lost', 'lot', 'louse', 'love', 'lower', 'lunch', 'lying', 'maintained', 'major', 'majority', 'make', 'manufactured', 'manufacturer', 'many', 'market', 'match', 'matched', 'material', 'matter', 'maybe', 'meet', 'member', 'memory', 'messed', 'might', 'mind', 'mine', 'minimal', 'mining', 'mint', 'miss', 'missing', 'model', 'modem', 'modern', 'modified', 'moment', 'money', 'monitor', 'monitors', 'month', 'montiros', 'moot', 'mostly', 'mother', 'motherboard', 'motherboards', 'mouse', 'much', 'must', 'nature', 'near', 'nearby', 'nearly', 'necessarily', 'need', 'needed', 'networking', 'never', 'new', 'newer', 'newly', 'next', 'nice', 'noir', 'non', 'none', 'normal', 'normally', 'nothing', 'notice', 'nowhere', 'number', 'obtain', 'obviously', 'obvisily', 'oddity', 'offer', 'offered', 'official', 'often', 'ofter', 'okay', 'old', 'older', 'one', 'online', 'open', 'opened', 'operable', 'operating', 'opportunity', 'option', 'order', 'original', 'originally', 'otherwise', 'outdated', 'outstanding', 'overall', 'overclocking', 'overheating', 'overly', 'overpriced', 'overseas', 'owened', 'ownecthem', 'owned', 'owner', 'ownership', 'owning', 'packagein', 'part', 'particular', 'party', 'pas', 'passionate', 'past', 'paying', 'peices', 'people', 'percent', 'percentje', 'perfect', 'perfectly', 'perfeormce', 'perfomance', 'perform', 'performance', 'performing', 'peripheral', 'periphrials', 'person', 'personal', 'personally', 'phenomenal', 'photo', 'physical', 'physically', 'picking', 'pictures', 'piece', 'place', 'plan', 'play', 'playing', 'plenty', 'plug', 'plus', 'point', 'policy', 'polluting', 'poor', 'popular', 'possible', 'possibly', 'power', 'powerful', 'practically', 'pre', 'precision', 'prefer', 'preferably', 'preforming', 'premium', 'preowned', 'preowners', 'prepared', 'pressing', 'pretty', 'previous', 'previously', 'price', 'priced', 'pricey', 'pricing', 'prior', 'pristine', 'privacy', 'probably', 'problem', 'processor', 'produced', 'product', 'professional', 'progressive', 'proof', 'properly', 'prove', 'provided', 'psychally', 'purchace', 'purchase', 'purchased', 'purchasing', 'pushed', 'qualification', 'quality', 'question', 'quick', 'quickly', 'quite', 'rage', 'rare', 'rarely', 'rarity', 'rate', 'rather', 'rating', 'ready', 'real', 'really', 'reason', 'reasonable', 'reasonably', 'rebuilt', 'recent', 'recieve', 'recommendation', 'reconditioned', 'reduced', 'reduction', 'referbished', 'refreshed', 'refund', 'refurbished', 'refuse', 'refused', 'regarding', 'regular', 'regularly', 'rehuse', 'relaitvely', 'relatively', 'released', 'relevant', 'reliable', 'reliably', 'repair', 'replace', 'replaced', 'replacement', 'reputable', 'reputation', 'request', 'require', 'required', 'resale', 'research', 'reselling', 'reshelfing', 'resolution', 'responsive', 'rest', 'restored', 'restraint', 'retail', 'retailer', 'retro', 'return', 'returnable', 'returned', 'revamped', 'review', 'right', 'ripple', 'risk', 'rock', 'ruin', 'ruined', 'run', 'running', 'rush', 'safe', 'said', 'sale', 'saler', 'sanitary', 'sanitation', 'sanitize', 'satisfactory', 'satisfied', 'save', 'saving', 'say', 'scalped', 'scarce', 'school', 'screen', 'scrutinous', 'sealer', 'searching', 'second', 'secondary', 'secondhand', 'security', 'seem', 'seemed', 'seems', 'sellable', 'seller', 'selling', 'semi', 'sense', 'sensitive', 'sent', 'serial', 'series', 'service', 'setup', 'several', 'severe', 'shape', 'shart', 'shipping', 'shop', 'short', 'show', 'showing', 'sign', 'significant', 'significantly', 'similar', 'sims', 'since', 'single', 'situation', 'sizeable', 'slammed', 'slow', 'smoke', 'smoker', 'smoothly', 'software', 'sold', 'solid', 'somebody', 'someone', 'someplace', 'something', 'sometimes', 'somewhat', 'soon', 'sophisticated', 'sorry', 'sort', 'source', 'span', 'spec', 'special', 'specific', 'specification', 'specifications', 'speed', 'spend', 'spot', 'spyware', 'standard', 'star', 'start', 'state', 'sterilize', 'sticky', 'still', 'stock', 'stolen', 'stop', 'stopped', 'storage', 'store', 'stranger', 'strapped', 'strict', 'strong', 'stuff', 'style', 'sufficient', 'suit', 'suped', 'super', 'supply', 'supposed', 'sure', 'swapped', 'sweat', 'system', 'take', 'taken', 'taker', 'taking', 'tampering', 'tear', 'technical', 'technology', 'telling', 'temporarily', 'term', 'test', 'tested', 'testeing', 'testing', 'thanks', 'thats', 'thing', 'things', 'think', 'third', 'thorough', 'thoroughly', 'though', 'thought', 'three', 'thrown', 'ticket', 'tight', 'time', 'tip', 'today', 'took', 'top', 'totally', 'totaly', 'touch', 'touched', 'touching', 'towards', 'tracking', 'translation', 'transparent', 'trick', 'tried', 'trouble', 'true', 'truly', 'trust', 'trusted', 'trustworthy', 'turned', 'twice', 'type', 'uesd', 'ultimately', 'unable', 'unaffected', 'unavailable', 'understand', 'unit', 'unless', 'unreasonably', 'unsanitary', 'unuseable', 'updating', 'upgrade', 'upgraded', 'upgrading', 'usable', 'usage', 'used', 'user', 'using', 'usuable', 'usually', 'uuuytreee', 'valid', 'value', 'variable', 'variant', 'vendor', 'verifiable', 'verification', 'verified', 'verify', 'version', 'vibe', 'video', 'virus', 'visible', 'visual', 'waited', 'want', 'wanted', 'warehouse', 'warranteed', 'warrantied', 'warranty', 'warrenty', 'wary', 'wasnt', 'wear', 'wearable', 'week', 'well', 'went', 'wherein', 'whether', 'whiped', 'whole', 'willing', 'wiped', 'wire', 'wise', 'within', 'without', 'woman', 'wondering', 'wont', 'wore', 'work', 'worked', 'worker', 'working', 'workload', 'worn', 'worned', 'worried', 'worth', 'worthwhile', 'would', 'wouldnt', 'wrong', 'yeah', 'year', 'yers']\n"
     ]
    }
   ],
   "source": [
    "print(vect.get_feature_names())"
   ]
  },
  {
   "cell_type": "code",
   "execution_count": 53,
   "id": "41bd6d26",
   "metadata": {},
   "outputs": [
    {
     "data": {
      "text/plain": [
       "(1048, 1000)"
      ]
     },
     "execution_count": 53,
     "metadata": {},
     "output_type": "execute_result"
    }
   ],
   "source": [
    "vect_text.shape"
   ]
  },
  {
   "cell_type": "code",
   "execution_count": 54,
   "id": "02dc8247",
   "metadata": {},
   "outputs": [],
   "source": [
    "idf = vect.idf_"
   ]
  },
  {
   "cell_type": "code",
   "execution_count": 55,
   "id": "d72d7bb0",
   "metadata": {},
   "outputs": [],
   "source": [
    "data_dict = dict(zip(vect.get_feature_names(), idf))\n",
    "dict_sort = sorted(data_dict, key=(data_dict).get)"
   ]
  },
  {
   "cell_type": "code",
   "execution_count": 58,
   "id": "7c4de850",
   "metadata": {},
   "outputs": [
    {
     "name": "stdout",
     "output_type": "stream",
     "text": [
      "used component\n"
     ]
    }
   ],
   "source": [
    "print(dict_sort[4], dict_sort[45])"
   ]
  },
  {
   "cell_type": "code",
   "execution_count": 59,
   "id": "786bb144",
   "metadata": {},
   "outputs": [
    {
     "name": "stdout",
     "output_type": "stream",
     "text": [
      "2.9719859866879608\n"
     ]
    }
   ],
   "source": [
    "print(data_dict['used'])"
   ]
  },
  {
   "cell_type": "code",
   "execution_count": 60,
   "id": "d3f10f43",
   "metadata": {},
   "outputs": [
    {
     "name": "stdout",
     "output_type": "stream",
     "text": [
      "4.959860334842306\n"
     ]
    }
   ],
   "source": [
    "print(data_dict['component'])"
   ]
  },
  {
   "cell_type": "markdown",
   "id": "4e5e324a",
   "metadata": {},
   "source": [
    "**Higher the idf score lesser the frequency of the word. SO, 'used' is more frequent word than 'component'**"
   ]
  },
  {
   "cell_type": "code",
   "execution_count": 61,
   "id": "5e850790",
   "metadata": {},
   "outputs": [
    {
     "data": {
      "text/html": [
       "<div>\n",
       "<style scoped>\n",
       "    .dataframe tbody tr th:only-of-type {\n",
       "        vertical-align: middle;\n",
       "    }\n",
       "\n",
       "    .dataframe tbody tr th {\n",
       "        vertical-align: top;\n",
       "    }\n",
       "\n",
       "    .dataframe thead th {\n",
       "        text-align: right;\n",
       "    }\n",
       "</style>\n",
       "<table border=\"1\" class=\"dataframe\">\n",
       "  <thead>\n",
       "    <tr style=\"text-align: right;\">\n",
       "      <th></th>\n",
       "      <th>cleaned_text</th>\n",
       "    </tr>\n",
       "  </thead>\n",
       "  <tbody>\n",
       "    <tr>\n",
       "      <th>0</th>\n",
       "      <td>Decent condition good price</td>\n",
       "    </tr>\n",
       "    <tr>\n",
       "      <th>1</th>\n",
       "      <td>clean well material Such mouse networking</td>\n",
       "    </tr>\n",
       "    <tr>\n",
       "      <th>4</th>\n",
       "      <td>Open gently used</td>\n",
       "    </tr>\n",
       "    <tr>\n",
       "      <th>5</th>\n",
       "      <td>available</td>\n",
       "    </tr>\n",
       "    <tr>\n",
       "      <th>9</th>\n",
       "      <td>Used</td>\n",
       "    </tr>\n",
       "  </tbody>\n",
       "</table>\n",
       "</div>"
      ],
      "text/plain": [
       "                                cleaned_text\n",
       "0                Decent condition good price\n",
       "1  clean well material Such mouse networking\n",
       "4                           Open gently used\n",
       "5                                  available\n",
       "9                                       Used"
      ]
     },
     "execution_count": 61,
     "metadata": {},
     "output_type": "execute_result"
    }
   ],
   "source": [
    "comments_work.head()"
   ]
  },
  {
   "cell_type": "markdown",
   "id": "573acb5e",
   "metadata": {},
   "source": [
    "### Doing Topic Modeling\n",
    "\n",
    "**LSA - Latent Semantic Analysis** "
   ]
  },
  {
   "cell_type": "code",
   "execution_count": 62,
   "id": "a0da09eb",
   "metadata": {},
   "outputs": [],
   "source": [
    "#importing libraries\n",
    "from sklearn.decomposition import TruncatedSVD"
   ]
  },
  {
   "cell_type": "code",
   "execution_count": 63,
   "id": "5f8a71d6",
   "metadata": {},
   "outputs": [],
   "source": [
    "lsa_model = TruncatedSVD(n_components=10,\n",
    "                         algorithm='randomized',\n",
    "                         n_iter=10,\n",
    "                         random_state=42)\n",
    "\n",
    "lsa_top = lsa_model.fit_transform(vect_text)"
   ]
  },
  {
   "cell_type": "code",
   "execution_count": 64,
   "id": "696975da",
   "metadata": {},
   "outputs": [
    {
     "name": "stdout",
     "output_type": "stream",
     "text": [
      "[ 0.5574893  -0.25203337  0.17162615  0.12169443  0.00655447 -0.00453349\n",
      "  0.01330855  0.00496107  0.00585125  0.08245759]\n"
     ]
    }
   ],
   "source": [
    "print(lsa_top[0])"
   ]
  },
  {
   "cell_type": "code",
   "execution_count": 65,
   "id": "75547f7f",
   "metadata": {},
   "outputs": [
    {
     "data": {
      "text/plain": [
       "(1048, 10)"
      ]
     },
     "execution_count": 65,
     "metadata": {},
     "output_type": "execute_result"
    }
   ],
   "source": [
    "#number of comments and topics\n",
    "lsa_top.shape"
   ]
  },
  {
   "cell_type": "code",
   "execution_count": 66,
   "id": "6bf6e2b3",
   "metadata": {},
   "outputs": [
    {
     "name": "stdout",
     "output_type": "stream",
     "text": [
      "Topic 0 : 55.74892977218418\n",
      "Topic 1 : -25.203337068184194\n",
      "Topic 2 : 17.16261490533448\n",
      "Topic 3 : 12.169442540651547\n",
      "Topic 4 : 0.6554467191422271\n",
      "Topic 5 : -0.4533494791678715\n",
      "Topic 6 : 1.3308550190891042\n",
      "Topic 7 : 0.49610684406169\n",
      "Topic 8 : 0.585125122769571\n",
      "Topic 9 : 8.245759358791807\n"
     ]
    }
   ],
   "source": [
    "first_comment =lsa_top[0]\n",
    "\n",
    "for i, topic in enumerate(first_comment):\n",
    "    print(f\"Topic {i} : {topic*100}\")"
   ]
  },
  {
   "cell_type": "markdown",
   "id": "a7387ba4",
   "metadata": {},
   "source": [
    "**NOTE** : This above numbers won't add to 100 or 1 because in LSA it is not probability of a topic in a document"
   ]
  },
  {
   "cell_type": "code",
   "execution_count": 67,
   "id": "14175db4",
   "metadata": {},
   "outputs": [
    {
     "data": {
      "text/plain": [
       "(10, 1000)"
      ]
     },
     "execution_count": 67,
     "metadata": {},
     "output_type": "execute_result"
    }
   ],
   "source": [
    "lsa_model.components_.shape"
   ]
  },
  {
   "cell_type": "markdown",
   "id": "7b2b04eb",
   "metadata": {},
   "source": [
    "Let's get important words for each topic"
   ]
  },
  {
   "cell_type": "code",
   "execution_count": 71,
   "id": "248e6364",
   "metadata": {},
   "outputs": [
    {
     "name": "stdout",
     "output_type": "stream",
     "text": [
      "Topic 0 : \n",
      "good condition price would item used like working great deal \n",
      "\n",
      "Topic 1 : \n",
      "would item used like need owned pre know purchase something \n",
      "\n",
      "Topic 2 : \n",
      "price great item used better cheap reasonable owned lower pre \n",
      "\n",
      "Topic 3 : \n",
      "condition great excellent perfect clean like working depends cheaper near \n",
      "\n",
      "Topic 4 : \n",
      "would like need warranty price something return policy really shape \n",
      "\n",
      "Topic 5 : \n",
      "know person someone used trust seller friend would selling product \n",
      "\n",
      "Topic 6 : \n",
      "like used something barely owned pre never still look much \n",
      "\n",
      "Topic 7 : \n",
      "would warranty used working purchase policy return purchasing consider clean \n",
      "\n",
      "Topic 8 : \n",
      "used need barely really money condition cheap lightly available never \n",
      "\n",
      "Topic 9 : \n",
      "owned pre need purchase condition price certified gaming nothing working \n",
      "\n"
     ]
    }
   ],
   "source": [
    "vocab = vect.get_feature_names()\n",
    "\n",
    "for i, comp in enumerate(lsa_model.components_):\n",
    "    vocab_comp = zip(vocab, comp)\n",
    "    sorted_words = sorted(vocab_comp, key= lambda x:x[1], reverse=True)[:10]\n",
    "    print(f\"Topic {str(i)} : \")\n",
    "    for word in sorted_words:\n",
    "        print(word[0], end=\" \")\n",
    "    print(\"\\n\")"
   ]
  },
  {
   "cell_type": "markdown",
   "id": "cecb652d",
   "metadata": {},
   "source": [
    "### LDA - Latent Dirichlet Allocation\n",
    "\n",
    "LDA is a very popular technique. Topics then generate words based on their probability distribution.\n",
    "\n",
    "LDA backtracks and tries to figure out what topics would create those documents in teh first place."
   ]
  },
  {
   "cell_type": "code",
   "execution_count": 72,
   "id": "c6f7c54c",
   "metadata": {},
   "outputs": [],
   "source": [
    "#importing libraries\n",
    "from sklearn.decomposition import LatentDirichletAllocation\n",
    "lda_model = LatentDirichletAllocation(n_components=10,  #n_component is number of topics\n",
    "                                      learning_method = 'online',\n",
    "                                      random_state = 21,\n",
    "                                      max_iter = 1)"
   ]
  },
  {
   "cell_type": "code",
   "execution_count": 73,
   "id": "b409183d",
   "metadata": {},
   "outputs": [],
   "source": [
    "lda_top = lda_model.fit_transform(vect_text)"
   ]
  },
  {
   "cell_type": "code",
   "execution_count": 74,
   "id": "3e18e7a6",
   "metadata": {},
   "outputs": [
    {
     "data": {
      "text/plain": [
       "(1048, 10)"
      ]
     },
     "execution_count": 74,
     "metadata": {},
     "output_type": "execute_result"
    }
   ],
   "source": [
    "lda_top.shape"
   ]
  },
  {
   "cell_type": "code",
   "execution_count": 75,
   "id": "d450c3ef",
   "metadata": {},
   "outputs": [
    {
     "data": {
      "text/plain": [
       "array([0.03472784, 0.03472865, 0.03472843, 0.36043989, 0.03472923,\n",
       "       0.03474114, 0.034729  , 0.03472759, 0.36172007, 0.03472815])"
      ]
     },
     "execution_count": 75,
     "metadata": {},
     "output_type": "execute_result"
    }
   ],
   "source": [
    "lda_top[0]"
   ]
  },
  {
   "cell_type": "markdown",
   "id": "cbad9cdf",
   "metadata": {},
   "source": [
    "**This above things should add to 1 because each denotes % contribution of the corresponding topic**"
   ]
  },
  {
   "cell_type": "code",
   "execution_count": 77,
   "id": "a982a63d",
   "metadata": {},
   "outputs": [
    {
     "data": {
      "text/plain": [
       "1.0000000000000002"
      ]
     },
     "execution_count": 77,
     "metadata": {},
     "output_type": "execute_result"
    }
   ],
   "source": [
    "sum = 0\n",
    "\n",
    "for i in lda_top[0]:\n",
    "    sum = sum + i\n",
    "    \n",
    "sum"
   ]
  },
  {
   "cell_type": "code",
   "execution_count": 79,
   "id": "409ac2ce",
   "metadata": {},
   "outputs": [
    {
     "name": "stdout",
     "output_type": "stream",
     "text": [
      "Comment 1\n",
      "Topic 0 : 3.47%\n",
      "Topic 1 : 3.47%\n",
      "Topic 2 : 3.47%\n",
      "Topic 3 : 36.04%\n",
      "Topic 4 : 3.47%\n",
      "Topic 5 : 3.47%\n",
      "Topic 6 : 3.47%\n",
      "Topic 7 : 3.47%\n",
      "Topic 8 : 36.17%\n",
      "Topic 9 : 3.47%\n"
     ]
    }
   ],
   "source": [
    "#composition of first comment 1\n",
    "print(\"Comment 1\")\n",
    "\n",
    "for i, topic in enumerate(lda_top[0]):\n",
    "    print(f\"Topic {i} : {round(topic*100,2)}%\")"
   ]
  },
  {
   "cell_type": "markdown",
   "id": "f0ae11e4",
   "metadata": {},
   "source": [
    "**Getting important words - this time just 5**"
   ]
  },
  {
   "cell_type": "code",
   "execution_count": 80,
   "id": "3f427d89",
   "metadata": {},
   "outputs": [
    {
     "name": "stdout",
     "output_type": "stream",
     "text": [
      "Topic 0: \n",
      "perfect slow look discount used \n",
      "\n",
      "Topic 1: \n",
      "right purchase would knew crash \n",
      "\n",
      "Topic 2: \n",
      "none happy refurbished certified tested \n",
      "\n",
      "Topic 3: \n",
      "good would condition item like \n",
      "\n",
      "Topic 4: \n",
      "friend game deal really good \n",
      "\n",
      "Topic 5: \n",
      "need price warranty good sure \n",
      "\n",
      "Topic 6: \n",
      "budget depends concept yers agree \n",
      "\n",
      "Topic 7: \n",
      "satisfied product reliable like something \n",
      "\n",
      "Topic 8: \n",
      "cheaper better price one would \n",
      "\n",
      "Topic 9: \n",
      "know pre available owned year \n",
      "\n"
     ]
    }
   ],
   "source": [
    "#getting most important words\n",
    "vocab = vect.get_feature_names()\n",
    "\n",
    "for i, comp in enumerate (lda_model.components_):\n",
    "    vocab_comp = zip(vocab, comp)\n",
    "    sorted_words = sorted(vocab_comp,\n",
    "                          key= lambda x:x[1], reverse=True)[:5]\n",
    "    print(f\"Topic {str(i)}: \")\n",
    "    for word in sorted_words:\n",
    "        print(word[0], end=\" \")\n",
    "    print(\"\\n\")"
   ]
  },
  {
   "cell_type": "markdown",
   "id": "b673ae01",
   "metadata": {},
   "source": [
    "**To better visualise words in topic we can see wordcloud - 25 words**"
   ]
  },
  {
   "cell_type": "code",
   "execution_count": 82,
   "id": "b903ad05",
   "metadata": {},
   "outputs": [],
   "source": [
    "#importing libraries\n",
    "from wordcloud import WordCloud\n",
    "\n",
    "#generate a wordcloud image for a given topic\n",
    "def draw_cloud(index):\n",
    "    imp_words_topic = \"\"\n",
    "    comp = lda_model.components_[index]\n",
    "    vocab_comp = zip(vocab, comp)\n",
    "    sorted_words = sorted(vocab_comp,\n",
    "                         key = lambda x:x[1],\n",
    "                         reverse=True)[:25]\n",
    "    \n",
    "    for word in sorted_words:\n",
    "        imp_words_topic = imp_words_topic+\" \"+word[0]\n",
    "        \n",
    "    wordcloud = WordCloud(width=900, height=600).generate(imp_words_topic)\n",
    "    plt.figure(figsize=(5,5))\n",
    "    plt.imshow(wordcloud)\n",
    "    plt.axis(\"off\")\n",
    "    plt.tight_layout()\n",
    "    plt.show()"
   ]
  },
  {
   "cell_type": "code",
   "execution_count": 83,
   "id": "56603584",
   "metadata": {},
   "outputs": [
    {
     "data": {
      "image/png": "[encoded data removed]",
      "text/plain": [
       "<Figure size 360x360 with 1 Axes>"
      ]
     },
     "metadata": {
      "needs_background": "light"
     },
     "output_type": "display_data"
    }
   ],
   "source": [
    "draw_cloud(0)"
   ]
  },
  {
   "cell_type": "code",
   "execution_count": 84,
   "id": "9b519935",
   "metadata": {},
   "outputs": [
    {
     "data": {
      "image/png": "[encoded data removed]",
      "text/plain": [
       "<Figure size 360x360 with 1 Axes>"
      ]
     },
     "metadata": {
      "needs_background": "light"
     },
     "output_type": "display_data"
    }
   ],
   "source": [
    "#topic1\n",
    "draw_cloud(1)"
   ]
  },
  {
   "cell_type": "code",
   "execution_count": null,
   "id": "8cb0134a",
   "metadata": {},
   "outputs": [],
   "source": []
  }
 ],
 "metadata": {
  "kernelspec": {
   "display_name": "Python 3",
   "language": "python",
   "name": "python3"
  },
  "language_info": {
   "codemirror_mode": {
    "name": "ipython",
    "version": 3
   },
   "file_extension": ".py",
   "mimetype": "text/x-python",
   "name": "python",
   "nbconvert_exporter": "python",
   "pygments_lexer": "ipython3",
   "version": "3.9.5"
  }
 },
 "nbformat": 4,
 "nbformat_minor": 5
}
