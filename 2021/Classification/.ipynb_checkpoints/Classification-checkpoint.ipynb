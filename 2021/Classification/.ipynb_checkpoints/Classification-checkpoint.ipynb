{
 "cells": [
  {
   "cell_type": "markdown",
   "id": "ca3d9fcf",
   "metadata": {},
   "source": [
    "# Classification\n",
    "\n",
    "**Following code from book - Hands-on Machine Learning with Scikit Learn, Keras, and TensorFlow** <br>\n",
    "**Author - Aurélien Géron**\n",
    "Link to book - https://www.oreilly.com/library/view/hands-on-machine-learning/9781492032632/ \n",
    "\n",
    "We'll be using MNIST dataset, which is a set of 70,000 small images of digital handwritten by high school students and employees of the US Census Bureau.\n",
    "\n",
    "This dataset is called the **\"Hello World\"** of Machine Learning."
   ]
  },
  {
   "cell_type": "code",
   "execution_count": 1,
   "id": "cc7ff8ae",
   "metadata": {},
   "outputs": [
    {
     "data": {
      "text/plain": [
       "dict_keys(['data', 'target', 'frame', 'categories', 'feature_names', 'target_names', 'DESCR', 'details', 'url'])"
      ]
     },
     "execution_count": 1,
     "metadata": {},
     "output_type": "execute_result"
    }
   ],
   "source": [
    "from sklearn.datasets import fetch_openml\n",
    "mnist = fetch_openml('mnist_784', version=1)\n",
    "mnist.keys()"
   ]
  },
  {
   "cell_type": "markdown",
   "id": "73c96b25",
   "metadata": {},
   "source": [
    "- DESCR key describing the dataset\n",
    "- data key containing an array with one row per instamce and one column per feature\n",
    "- target key containing an array with labels"
   ]
  },
  {
   "cell_type": "code",
   "execution_count": 6,
   "id": "4370e6ff",
   "metadata": {},
   "outputs": [],
   "source": [
    "X,y = mnist['data'], mnist['target']"
   ]
  },
  {
   "cell_type": "code",
   "execution_count": 7,
   "id": "810b4839",
   "metadata": {},
   "outputs": [
    {
     "data": {
      "text/plain": [
       "((70000, 784), (70000,))"
      ]
     },
     "execution_count": 7,
     "metadata": {},
     "output_type": "execute_result"
    }
   ],
   "source": [
    "X.shape, y.shape"
   ]
  },
  {
   "cell_type": "code",
   "execution_count": 17,
   "id": "527ed397",
   "metadata": {},
   "outputs": [
    {
     "data": {
      "text/plain": [
       "pixel1      0.0\n",
       "pixel2      0.0\n",
       "pixel3      0.0\n",
       "pixel4      0.0\n",
       "pixel5      0.0\n",
       "           ... \n",
       "pixel780    0.0\n",
       "pixel781    0.0\n",
       "pixel782    0.0\n",
       "pixel783    0.0\n",
       "pixel784    0.0\n",
       "Name: 0, Length: 784, dtype: float64"
      ]
     },
     "execution_count": 17,
     "metadata": {},
     "output_type": "execute_result"
    }
   ],
   "source": [
    "X.loc[0]"
   ]
  },
  {
   "cell_type": "markdown",
   "id": "dfa01857",
   "metadata": {},
   "source": [
    "There are 70,000 images and each image have 784 features. This is because each image is 28x28 pixels, and each feature simply represents one pixel;s intensity, from 0 to 255(black).\n",
    "\n",
    "Let's look at one of the digit. We mneed to grab an instance's feature vector, reshape it to 28x28 array and display using Matplotlib's `imshow()` function."
   ]
  },
  {
   "cell_type": "code",
   "execution_count": 20,
   "id": "6c90d108",
   "metadata": {},
   "outputs": [
    {
     "data": {
      "image/png": "[encoded data removed]",
      "text/plain": [
       "<Figure size 432x288 with 1 Axes>"
      ]
     },
     "metadata": {
      "needs_background": "light"
     },
     "output_type": "display_data"
    }
   ],
   "source": [
    "import matplotlib as mpl\n",
    "import matplotlib.pyplot as plt\n",
    "\n",
    "some_digit = X.loc[5] #any random digit\n",
    "some_digit_image = some_digit.values.reshape(28,28)\n",
    "\n",
    "plt.imshow(some_digit_image)\n",
    "plt.show()"
   ]
  },
  {
   "cell_type": "markdown",
   "id": "58ffce0d",
   "metadata": {},
   "source": [
    "This looks like number 2\n",
    "\n",
    "let's check the target for this."
   ]
  },
  {
   "cell_type": "code",
   "execution_count": 24,
   "id": "7f7e9855",
   "metadata": {},
   "outputs": [
    {
     "data": {
      "text/plain": [
       "'2'"
      ]
     },
     "execution_count": 24,
     "metadata": {},
     "output_type": "execute_result"
    }
   ],
   "source": [
    "y[5]"
   ]
  },
  {
   "cell_type": "markdown",
   "id": "391530d4",
   "metadata": {},
   "source": [
    "Note that the label is a string. We prefer numbers. So, let's cast y to integres"
   ]
  },
  {
   "cell_type": "code",
   "execution_count": 26,
   "id": "e3c60da1",
   "metadata": {},
   "outputs": [],
   "source": [
    "import numpy as np\n",
    "\n",
    "y = y.astype(np.uint8)"
   ]
  },
  {
   "cell_type": "markdown",
   "id": "2b2ee29d",
   "metadata": {},
   "source": [
    "Let's split the data before inspecting anything."
   ]
  },
  {
   "cell_type": "code",
   "execution_count": 27,
   "id": "f872af7c",
   "metadata": {},
   "outputs": [],
   "source": [
    "X_train, X_test , y_train, y_test = X[:60000], X[60000:], y[:60000], y[60000:]"
   ]
  },
  {
   "cell_type": "markdown",
   "id": "911803e0",
   "metadata": {},
   "source": [
    "## Training a Binary Classifier\n",
    "\n",
    "Let's simplify the problem and just try to identify one digit - number 2. This 2 detector is an example of binary classifier. So, it will give output \"num 2\" or \"not num 2\""
   ]
  },
  {
   "cell_type": "code",
   "execution_count": 28,
   "id": "27ec6990",
   "metadata": {},
   "outputs": [],
   "source": [
    "y_train_2 = (y_train == 2) #True for all 2s, False for other digits\n",
    "y_test_2 = (y_test ==2)"
   ]
  },
  {
   "cell_type": "markdown",
   "id": "f830d856",
   "metadata": {},
   "source": [
    "We'll use **Stochastic Gradient Descent (SGD)** classifer, using scikit learn's `SGDClassifier` class. This classifier has the advantage of being capable of handling large datasets efficiently."
   ]
  },
  {
   "cell_type": "code",
   "execution_count": 29,
   "id": "7f6abdc2",
   "metadata": {},
   "outputs": [
    {
     "data": {
      "text/plain": [
       "SGDClassifier()"
      ]
     },
     "execution_count": 29,
     "metadata": {},
     "output_type": "execute_result"
    }
   ],
   "source": [
    "from sklearn.linear_model import SGDClassifier\n",
    "\n",
    "#SGDClassifier relies on randomness during training hence the name stochastic\n",
    "#randomseed for reproducible results\n",
    "np.random.seed(42)\n",
    "sgd_clf = SGDClassifier()\n",
    "sgd_clf.fit(X_train, y_train_2)"
   ]
  },
  {
   "cell_type": "code",
   "execution_count": 30,
   "id": "c7c0d95e",
   "metadata": {},
   "outputs": [
    {
     "data": {
      "text/plain": [
       "array([ True])"
      ]
     },
     "execution_count": 30,
     "metadata": {},
     "output_type": "execute_result"
    }
   ],
   "source": [
    "#predicting\n",
    "sgd_clf.predict([some_digit])"
   ]
  },
  {
   "cell_type": "markdown",
   "id": "4c90584b",
   "metadata": {},
   "source": [
    "## Performance Measure\n",
    "\n",
    "### Measuring Accuracy Using Cross-validation\n",
    "\n",
    "1. Let's implement cross validation without `cross_val_score`\n",
    "    - The `StratifiedKFold` class performs stratified sampling to produce folds that contains a representative ration of each class. At each iteration the code creates a clone of the classifier, train that clone on the training folds, and make prediction on the test fold. Then it counts the number of correct predictions and outputs tha ratio of correct predictions."
   ]
  },
  {
   "cell_type": "code",
   "execution_count": 35,
   "id": "99c9caeb",
   "metadata": {},
   "outputs": [
    {
     "name": "stdout",
     "output_type": "stream",
     "text": [
      "0.9638\n",
      "0.9679\n",
      "0.9575\n"
     ]
    }
   ],
   "source": [
    "from sklearn.model_selection import StratifiedKFold\n",
    "from sklearn.base import clone\n",
    "\n",
    "skfolds = StratifiedKFold(n_splits=3)\n",
    "\n",
    "for train_index, test_index in skfolds.split(X_train, y_train_2):\n",
    "    clone_clf = clone(sgd_clf)\n",
    "    X_train_folds = X_train.iloc[train_index]\n",
    "    y_train_folds = y_train_2[train_index]\n",
    "    X_test_fold = X_train.iloc[test_index]\n",
    "    y_test_fold = y_train_2[test_index]\n",
    "    \n",
    "    clone_clf.fit(X_train_folds, y_train_folds)\n",
    "    y_preds = clone_clf.predict(X_test_fold)\n",
    "    n_correct = sum(y_preds == y_test_fold)\n",
    "    print(n_correct/len(y_preds))"
   ]
  },
  {
   "cell_type": "markdown",
   "id": "7168ccb7",
   "metadata": {},
   "source": [
    "2. Using `cross_val_score()` function"
   ]
  },
  {
   "cell_type": "code",
   "execution_count": 36,
   "id": "1ce58f9e",
   "metadata": {},
   "outputs": [
    {
     "data": {
      "text/plain": [
       "array([0.97185, 0.95635, 0.95825])"
      ]
     },
     "execution_count": 36,
     "metadata": {},
     "output_type": "execute_result"
    }
   ],
   "source": [
    "from sklearn.model_selection import cross_val_score\n",
    "\n",
    "cross_val_score(sgd_clf, X_train, y_train_2, \n",
    "                cv=3, \n",
    "                scoring=\"accuracy\")"
   ]
  },
  {
   "cell_type": "markdown",
   "id": "8537e65a",
   "metadata": {},
   "source": [
    "This accuracy is amazing 95% But let's just look at our data first"
   ]
  },
  {
   "cell_type": "code",
   "execution_count": 40,
   "id": "513de761",
   "metadata": {},
   "outputs": [
    {
     "data": {
      "text/plain": [
       "False    54042\n",
       "True      5958\n",
       "Name: class, dtype: int64"
      ]
     },
     "execution_count": 40,
     "metadata": {},
     "output_type": "execute_result"
    }
   ],
   "source": [
    "y_train_2.value_counts()"
   ]
  },
  {
   "cell_type": "code",
   "execution_count": 43,
   "id": "ec0f0be5",
   "metadata": {},
   "outputs": [
    {
     "data": {
      "text/plain": [
       "False    0.9007\n",
       "True     0.0993\n",
       "Name: class, dtype: float64"
      ]
     },
     "execution_count": 43,
     "metadata": {},
     "output_type": "execute_result"
    }
   ],
   "source": [
    "y_train_2.value_counts(normalize = True)"
   ]
  },
  {
   "cell_type": "markdown",
   "id": "6f8b7e1f",
   "metadata": {},
   "source": [
    "So, we have about 10% of the images that are 2s, so if you always guess that an image is not a 2, you will be right about 90% of the time. Beats Nostradamus.\n",
    "\n",
    "This demonstrates why accuracy is generally not the preferred performance measure for classifiers, especially when you are dealing with skewed datasets."
   ]
  },
  {
   "cell_type": "markdown",
   "id": "3976c83a",
   "metadata": {},
   "source": [
    "### Confusion Matrix"
   ]
  },
  {
   "cell_type": "code",
   "execution_count": 44,
   "id": "071f28ee",
   "metadata": {},
   "outputs": [],
   "source": [
    "from sklearn.model_selection import cross_val_predict\n",
    "\n",
    "y_train_pred = cross_val_predict(sgd_clf,X_train, y_train_2, cv=3)"
   ]
  },
  {
   "cell_type": "markdown",
   "id": "8160e8f7",
   "metadata": {},
   "source": [
    "Just like `cross_val_score()` function, `cross_val_predict()` performs K-fold cross-validation, but instead of returning the evaluation scores, it returns the prediction made on each test fold.\n"
   ]
  },
  {
   "cell_type": "code",
   "execution_count": 45,
   "id": "e740353a",
   "metadata": {},
   "outputs": [
    {
     "data": {
      "text/plain": [
       "array([[52539,  1503],\n",
       "       [  718,  5240]])"
      ]
     },
     "execution_count": 45,
     "metadata": {},
     "output_type": "execute_result"
    }
   ],
   "source": [
    "#this is with cross validation prediction\n",
    "from sklearn.metrics import confusion_matrix\n",
    "confusion_matrix(y_train_2, y_train_pred)"
   ]
  },
  {
   "cell_type": "code",
   "execution_count": 47,
   "id": "48a686c0",
   "metadata": {},
   "outputs": [
    {
     "data": {
      "text/plain": [
       "<sklearn.metrics._plot.confusion_matrix.ConfusionMatrixDisplay at 0x7f8ca06994f0>"
      ]
     },
     "execution_count": 47,
     "metadata": {},
     "output_type": "execute_result"
    },
    {
     "data": {
      "image/png": "[encoded data removed]",
      "text/plain": [
       "<Figure size 432x288 with 2 Axes>"
      ]
     },
     "metadata": {
      "needs_background": "light"
     },
     "output_type": "display_data"
    }
   ],
   "source": [
    "#confusion matrix with our normal selection with training data\n",
    "from sklearn.metrics import plot_confusion_matrix\n",
    "plot_confusion_matrix(sgd_clf, X_train, y_train_2)"
   ]
  },
  {
   "cell_type": "markdown",
   "id": "cb218d3c",
   "metadata": {},
   "source": [
    "We can make predictions on test set as well but let's keep that untouched for now. We want to use test data at the very end of the project."
   ]
  },
  {
   "cell_type": "code",
   "execution_count": null,
   "id": "0134d772",
   "metadata": {},
   "outputs": [],
   "source": []
  }
 ],
 "metadata": {
  "kernelspec": {
   "display_name": "Python 3",
   "language": "python",
   "name": "python3"
  },
  "language_info": {
   "codemirror_mode": {
    "name": "ipython",
    "version": 3
   },
   "file_extension": ".py",
   "mimetype": "text/x-python",
   "name": "python",
   "nbconvert_exporter": "python",
   "pygments_lexer": "ipython3",
   "version": "3.9.5"
  }
 },
 "nbformat": 4,
 "nbformat_minor": 5
}
