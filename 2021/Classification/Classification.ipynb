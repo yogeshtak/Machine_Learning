{
 "cells": [
  {
   "cell_type": "markdown",
   "id": "5a126b63",
   "metadata": {},
   "source": [
    "# Classification\n",
    "\n",
    "**Following code from book - Hands-on Machine Learning with Scikit Learn, Keras, and TensorFlow** <br>\n",
    "**Author - Aurélien Géron**\n",
    "Link to book - https://www.oreilly.com/library/view/hands-on-machine-learning/9781492032632/ \n",
    "\n",
    "We'll be using MNIST dataset, which is a set of 70,000 small images of digital handwritten by high school students and employees of the US Census Bureau.\n",
    "\n",
    "This dataset is called the **\"Hello World\"** of Machine Learning."
   ]
  },
  {
   "cell_type": "code",
   "execution_count": 1,
   "id": "b3db799d",
   "metadata": {},
   "outputs": [
    {
     "data": {
      "text/plain": [
       "dict_keys(['data', 'target', 'frame', 'categories', 'feature_names', 'target_names', 'DESCR', 'details', 'url'])"
      ]
     },
     "execution_count": 1,
     "metadata": {},
     "output_type": "execute_result"
    }
   ],
   "source": [
    "from sklearn.datasets import fetch_openml\n",
    "mnist = fetch_openml('mnist_784', version=1)\n",
    "mnist.keys()"
   ]
  },
  {
   "cell_type": "markdown",
   "id": "94bf166d",
   "metadata": {},
   "source": [
    "- DESCR key describing the dataset\n",
    "- data key containing an array with one row per instamce and one column per feature\n",
    "- target key containing an array with labels"
   ]
  },
  {
   "cell_type": "code",
   "execution_count": 2,
   "id": "12a0406b",
   "metadata": {},
   "outputs": [],
   "source": [
    "X,y = mnist['data'], mnist['target']"
   ]
  },
  {
   "cell_type": "code",
   "execution_count": 3,
   "id": "0b108930",
   "metadata": {},
   "outputs": [
    {
     "data": {
      "text/plain": [
       "((70000, 784), (70000,))"
      ]
     },
     "execution_count": 3,
     "metadata": {},
     "output_type": "execute_result"
    }
   ],
   "source": [
    "X.shape, y.shape"
   ]
  },
  {
   "cell_type": "code",
   "execution_count": 4,
   "id": "3a7396bc",
   "metadata": {},
   "outputs": [
    {
     "data": {
      "text/plain": [
       "pixel1      0.0\n",
       "pixel2      0.0\n",
       "pixel3      0.0\n",
       "pixel4      0.0\n",
       "pixel5      0.0\n",
       "           ... \n",
       "pixel780    0.0\n",
       "pixel781    0.0\n",
       "pixel782    0.0\n",
       "pixel783    0.0\n",
       "pixel784    0.0\n",
       "Name: 0, Length: 784, dtype: float64"
      ]
     },
     "execution_count": 4,
     "metadata": {},
     "output_type": "execute_result"
    }
   ],
   "source": [
    "X.loc[0]"
   ]
  },
  {
   "cell_type": "markdown",
   "id": "20b5199b",
   "metadata": {},
   "source": [
    "There are 70,000 images and each image have 784 features. This is because each image is 28x28 pixels, and each feature simply represents one pixel;s intensity, from 0 to 255(black).\n",
    "\n",
    "Let's look at one of the digit. We mneed to grab an instance's feature vector, reshape it to 28x28 array and display using Matplotlib's `imshow()` function."
   ]
  },
  {
   "cell_type": "code",
   "execution_count": 5,
   "id": "11baf90e",
   "metadata": {},
   "outputs": [
    {
     "data": {
      "image/png": "[encoded data removed]",
      "text/plain": [
       "<Figure size 432x288 with 1 Axes>"
      ]
     },
     "metadata": {
      "needs_background": "light"
     },
     "output_type": "display_data"
    }
   ],
   "source": [
    "import matplotlib as mpl\n",
    "import matplotlib.pyplot as plt\n",
    "\n",
    "some_digit = X.loc[5] #any random digit\n",
    "some_digit_image = some_digit.values.reshape(28,28)\n",
    "\n",
    "plt.imshow(some_digit_image)\n",
    "plt.show()"
   ]
  },
  {
   "cell_type": "markdown",
   "id": "6738b3dc",
   "metadata": {},
   "source": [
    "This looks like number 2\n",
    "\n",
    "let's check the target for this."
   ]
  },
  {
   "cell_type": "code",
   "execution_count": 6,
   "id": "03b6e382",
   "metadata": {},
   "outputs": [
    {
     "data": {
      "text/plain": [
       "'2'"
      ]
     },
     "execution_count": 6,
     "metadata": {},
     "output_type": "execute_result"
    }
   ],
   "source": [
    "y[5]"
   ]
  },
  {
   "cell_type": "markdown",
   "id": "1be903d8",
   "metadata": {},
   "source": [
    "Note that the label is a string. We prefer numbers. So, let's cast y to integres"
   ]
  },
  {
   "cell_type": "code",
   "execution_count": 7,
   "id": "5f65d88a",
   "metadata": {},
   "outputs": [],
   "source": [
    "import numpy as np\n",
    "\n",
    "y = y.astype(np.uint8)"
   ]
  },
  {
   "cell_type": "markdown",
   "id": "50e584a1",
   "metadata": {},
   "source": [
    "Let's split the data before inspecting anything."
   ]
  },
  {
   "cell_type": "code",
   "execution_count": 8,
   "id": "2dafbc0b",
   "metadata": {},
   "outputs": [],
   "source": [
    "X_train, X_test , y_train, y_test = X[:60000], X[60000:], y[:60000], y[60000:]"
   ]
  },
  {
   "cell_type": "markdown",
   "id": "5f7157c2",
   "metadata": {},
   "source": [
    "## Training a Binary Classifier\n",
    "\n",
    "Let's simplify the problem and just try to identify one digit - number 2. This 2 detector is an example of binary classifier. So, it will give output \"num 2\" or \"not num 2\""
   ]
  },
  {
   "cell_type": "code",
   "execution_count": 9,
   "id": "aff30f74",
   "metadata": {},
   "outputs": [],
   "source": [
    "y_train_2 = (y_train == 2) #True for all 2s, False for other digits\n",
    "y_test_2 = (y_test ==2)"
   ]
  },
  {
   "cell_type": "markdown",
   "id": "e1d57ac2",
   "metadata": {},
   "source": [
    "We'll use **Stochastic Gradient Descent (SGD)** classifer, using scikit learn's `SGDClassifier` class. This classifier has the advantage of being capable of handling large datasets efficiently."
   ]
  },
  {
   "cell_type": "code",
   "execution_count": 10,
   "id": "ddde4bc6",
   "metadata": {},
   "outputs": [
    {
     "data": {
      "text/plain": [
       "SGDClassifier()"
      ]
     },
     "execution_count": 10,
     "metadata": {},
     "output_type": "execute_result"
    }
   ],
   "source": [
    "from sklearn.linear_model import SGDClassifier\n",
    "\n",
    "#SGDClassifier relies on randomness during training hence the name stochastic\n",
    "#randomseed for reproducible results\n",
    "np.random.seed(42)\n",
    "sgd_clf = SGDClassifier()\n",
    "sgd_clf.fit(X_train, y_train_2)"
   ]
  },
  {
   "cell_type": "code",
   "execution_count": 11,
   "id": "e667185c",
   "metadata": {},
   "outputs": [
    {
     "data": {
      "text/plain": [
       "array([ True])"
      ]
     },
     "execution_count": 11,
     "metadata": {},
     "output_type": "execute_result"
    }
   ],
   "source": [
    "#predicting\n",
    "sgd_clf.predict([some_digit])"
   ]
  },
  {
   "cell_type": "markdown",
   "id": "6baefbae",
   "metadata": {},
   "source": [
    "## Performance Measure\n",
    "\n",
    "### Measuring Accuracy Using Cross-validation\n",
    "\n",
    "1. Let's implement cross validation without `cross_val_score`\n",
    "    - The `StratifiedKFold` class performs stratified sampling to produce folds that contains a representative ration of each class. At each iteration the code creates a clone of the classifier, train that clone on the training folds, and make prediction on the test fold. Then it counts the number of correct predictions and outputs tha ratio of correct predictions."
   ]
  },
  {
   "cell_type": "code",
   "execution_count": 12,
   "id": "8443b73a",
   "metadata": {},
   "outputs": [
    {
     "name": "stdout",
     "output_type": "stream",
     "text": [
      "0.96005\n",
      "0.9749\n",
      "0.97335\n"
     ]
    }
   ],
   "source": [
    "from sklearn.model_selection import StratifiedKFold\n",
    "from sklearn.base import clone\n",
    "\n",
    "skfolds = StratifiedKFold(n_splits=3)\n",
    "\n",
    "for train_index, test_index in skfolds.split(X_train, y_train_2):\n",
    "    clone_clf = clone(sgd_clf)\n",
    "    X_train_folds = X_train.iloc[train_index]\n",
    "    y_train_folds = y_train_2[train_index]\n",
    "    X_test_fold = X_train.iloc[test_index]\n",
    "    y_test_fold = y_train_2[test_index]\n",
    "    \n",
    "    clone_clf.fit(X_train_folds, y_train_folds)\n",
    "    y_preds = clone_clf.predict(X_test_fold)\n",
    "    n_correct = sum(y_preds == y_test_fold)\n",
    "    print(n_correct/len(y_preds))"
   ]
  },
  {
   "cell_type": "markdown",
   "id": "2c17c13e",
   "metadata": {},
   "source": [
    "2. Using `cross_val_score()` function"
   ]
  },
  {
   "cell_type": "code",
   "execution_count": 13,
   "id": "4c411cd1",
   "metadata": {},
   "outputs": [
    {
     "data": {
      "text/plain": [
       "array([0.97225, 0.97345, 0.97255])"
      ]
     },
     "execution_count": 13,
     "metadata": {},
     "output_type": "execute_result"
    }
   ],
   "source": [
    "from sklearn.model_selection import cross_val_score\n",
    "\n",
    "cross_val_score(sgd_clf, X_train, y_train_2, \n",
    "                cv=3, \n",
    "                scoring=\"accuracy\")"
   ]
  },
  {
   "cell_type": "markdown",
   "id": "976f28ce",
   "metadata": {},
   "source": [
    "This accuracy is amazing 95% But let's just look at our data first"
   ]
  },
  {
   "cell_type": "code",
   "execution_count": 14,
   "id": "dd0f1db4",
   "metadata": {},
   "outputs": [
    {
     "data": {
      "text/plain": [
       "False    54042\n",
       "True      5958\n",
       "Name: class, dtype: int64"
      ]
     },
     "execution_count": 14,
     "metadata": {},
     "output_type": "execute_result"
    }
   ],
   "source": [
    "y_train_2.value_counts()"
   ]
  },
  {
   "cell_type": "code",
   "execution_count": 15,
   "id": "074b4e15",
   "metadata": {},
   "outputs": [
    {
     "data": {
      "text/plain": [
       "False    0.9007\n",
       "True     0.0993\n",
       "Name: class, dtype: float64"
      ]
     },
     "execution_count": 15,
     "metadata": {},
     "output_type": "execute_result"
    }
   ],
   "source": [
    "y_train_2.value_counts(normalize = True)"
   ]
  },
  {
   "cell_type": "markdown",
   "id": "d6d7c7ee",
   "metadata": {},
   "source": [
    "So, we have about 10% of the images that are 2s, so if you always guess that an image is not a 2, you will be right about 90% of the time. Beats Nostradamus.\n",
    "\n",
    "This demonstrates why accuracy is generally not the preferred performance measure for classifiers, especially when you are dealing with skewed datasets."
   ]
  },
  {
   "cell_type": "markdown",
   "id": "a2bf6640",
   "metadata": {},
   "source": [
    "### Confusion Matrix"
   ]
  },
  {
   "cell_type": "code",
   "execution_count": 16,
   "id": "d747c820",
   "metadata": {},
   "outputs": [],
   "source": [
    "from sklearn.model_selection import cross_val_predict\n",
    "\n",
    "y_train_pred = cross_val_predict(sgd_clf,X_train, y_train_2, cv=3)"
   ]
  },
  {
   "cell_type": "markdown",
   "id": "d864c64e",
   "metadata": {},
   "source": [
    "Just like `cross_val_score()` function, `cross_val_predict()` performs K-fold cross-validation, but instead of returning the evaluation scores, it returns the prediction made on each test fold.\n"
   ]
  },
  {
   "cell_type": "code",
   "execution_count": 17,
   "id": "cdc34a20",
   "metadata": {},
   "outputs": [
    {
     "data": {
      "text/plain": [
       "array([[53278,   764],\n",
       "       [ 1110,  4848]])"
      ]
     },
     "execution_count": 17,
     "metadata": {},
     "output_type": "execute_result"
    }
   ],
   "source": [
    "#this is with cross validation prediction\n",
    "from sklearn.metrics import confusion_matrix\n",
    "confusion_matrix(y_train_2, y_train_pred)"
   ]
  },
  {
   "cell_type": "code",
   "execution_count": 18,
   "id": "833fee83",
   "metadata": {},
   "outputs": [
    {
     "data": {
      "text/plain": [
       "<sklearn.metrics._plot.confusion_matrix.ConfusionMatrixDisplay at 0x7fe5b8188f10>"
      ]
     },
     "execution_count": 18,
     "metadata": {},
     "output_type": "execute_result"
    },
    {
     "data": {
      "image/png": "[encoded data removed]",
      "text/plain": [
       "<Figure size 432x288 with 2 Axes>"
      ]
     },
     "metadata": {
      "needs_background": "light"
     },
     "output_type": "display_data"
    }
   ],
   "source": [
    "#confusion matrix with our normal selection with training data\n",
    "from sklearn.metrics import plot_confusion_matrix\n",
    "plot_confusion_matrix(sgd_clf, X_train, y_train_2)"
   ]
  },
  {
   "cell_type": "markdown",
   "id": "e3e8d762",
   "metadata": {},
   "source": [
    "We can make predictions on test set as well but let's keep that untouched for now. We want to use test data at the very end of the project."
   ]
  },
  {
   "cell_type": "markdown",
   "id": "5b4c9529",
   "metadata": {},
   "source": [
    "#### Precision - Accuracy of the positive predictions\n",
    "\n",
    "precision = TP/(TP+FP)\n",
    "\n",
    "#### Recall - Sensitivity or True positive rate\n",
    "\n",
    "recall = TP/(TP+FN)"
   ]
  },
  {
   "cell_type": "code",
   "execution_count": 19,
   "id": "0ffbb68e",
   "metadata": {},
   "outputs": [
    {
     "data": {
      "text/plain": [
       "0.8638631503920171"
      ]
     },
     "execution_count": 19,
     "metadata": {},
     "output_type": "execute_result"
    }
   ],
   "source": [
    "from sklearn.metrics import precision_score, recall_score\n",
    "\n",
    "precision_score(y_train_2, y_train_pred) #using cross_val_predictions"
   ]
  },
  {
   "cell_type": "code",
   "execution_count": 20,
   "id": "fdef1eef",
   "metadata": {},
   "outputs": [
    {
     "data": {
      "text/plain": [
       "0.8136958710976838"
      ]
     },
     "execution_count": 20,
     "metadata": {},
     "output_type": "execute_result"
    }
   ],
   "source": [
    "recall_score(y_train_2, y_train_pred) # using cross_val_predictions"
   ]
  },
  {
   "cell_type": "markdown",
   "id": "6812bbb2",
   "metadata": {},
   "source": [
    "Now our 2-detector does not look that good. When it claims an image represents a 2, it is correct only 77.7% of the time. Moreover, it only detects 87.48% of the 2s.\n",
    "\n",
    "### F1 Score\n",
    "\n",
    "It is often good to combine both into f1 score. It is harmonic mean of precision and recall. Where the regular mean treats all values equally, harmonic mean gives much more weight. to low values. So, f1 score will be high only if both precision and recall are high.\n",
    "\n",
    "f1 = (2*(precision * recall))/(precision + recall)"
   ]
  },
  {
   "cell_type": "code",
   "execution_count": 21,
   "id": "474a0dee",
   "metadata": {},
   "outputs": [
    {
     "data": {
      "text/plain": [
       "0.8380293863439932"
      ]
     },
     "execution_count": 21,
     "metadata": {},
     "output_type": "execute_result"
    }
   ],
   "source": [
    "from sklearn.metrics import f1_score\n",
    "\n",
    "f1_score(y_train_2, y_train_pred)"
   ]
  },
  {
   "cell_type": "markdown",
   "id": "3a16312c",
   "metadata": {},
   "source": [
    "For example, if you trained a classifier to detect videos that are safe for kids, you would probably prefer a classifier that rejects many good videos (low recall) but keeps only safe ones (high precision), rather than a classifier that has a much higher recall but lets a few really bad videos show up in your product (in such cases, you may even want to add a human pipeline to check the classifier’s video selection). On the other hand, suppose you train a classifier to detect shoplifters on surveillance images: it is probably fine if your classifier has only 30% precision as long as it has 99% recall (sure, the security guards will get a few false alerts, but almost all shoplifters will get caught).\n",
    "\n",
    "Unfortunately, you can’t have it both ways: increasing precision reduces recall and vice versa. This is called the **precision/recall tradeoff.**"
   ]
  },
  {
   "cell_type": "markdown",
   "id": "3518c8b4",
   "metadata": {},
   "source": [
    "#### Drawing Precision Recall Curve\n",
    "\n",
    "We'll need scores of all instances in the training set using the `cross_val_predict()` function, but this time specifying that we want it to return decision score instead of predictions.\n",
    "\n",
    "**Decision Score** is some kind of score that it uses to make predictions. For each instance, it computes a score and if the score is greater than threshold, it assigns the instance to positive class, or else it assigns it to negative class.\n",
    "\n",
    "Scikit-Learn does not let us set the threshold directly, but it gives us access to **decision scores** that it uses to make predictions. This can be done by calling `decision_function()` method instead of `predict()` method."
   ]
  },
  {
   "cell_type": "code",
   "execution_count": 22,
   "id": "84eda8e1",
   "metadata": {},
   "outputs": [],
   "source": [
    "y_score = sgd_clf.decision_function([some_digit])"
   ]
  },
  {
   "cell_type": "code",
   "execution_count": 23,
   "id": "df2d49be",
   "metadata": {},
   "outputs": [
    {
     "data": {
      "text/plain": [
       "array([4616.86417714])"
      ]
     },
     "execution_count": 23,
     "metadata": {},
     "output_type": "execute_result"
    }
   ],
   "source": [
    "y_score"
   ]
  },
  {
   "cell_type": "markdown",
   "id": "0accc27d",
   "metadata": {},
   "source": [
    "I cannot directly change the threshold, but I can do something else. I can manually put threshold value and do predictions."
   ]
  },
  {
   "cell_type": "code",
   "execution_count": 24,
   "id": "6aa5bc92",
   "metadata": {},
   "outputs": [],
   "source": [
    "threshold = 0\n",
    "y_some_digit_pred = (y_score > threshold)"
   ]
  },
  {
   "cell_type": "code",
   "execution_count": 25,
   "id": "7eba01c6",
   "metadata": {},
   "outputs": [
    {
     "data": {
      "text/plain": [
       "array([ True])"
      ]
     },
     "execution_count": 25,
     "metadata": {},
     "output_type": "execute_result"
    }
   ],
   "source": [
    "y_some_digit_pred"
   ]
  },
  {
   "cell_type": "code",
   "execution_count": 26,
   "id": "d563c82a",
   "metadata": {},
   "outputs": [
    {
     "data": {
      "text/plain": [
       "array([False])"
      ]
     },
     "execution_count": 26,
     "metadata": {},
     "output_type": "execute_result"
    }
   ],
   "source": [
    "threshold = 8000\n",
    "y_some_digit_pred = (y_score > threshold)\n",
    "y_some_digit_pred"
   ]
  },
  {
   "cell_type": "markdown",
   "id": "b700e8c9",
   "metadata": {},
   "source": [
    "This is how I can change threshold as per my need. So, when my threshold was 0, it predicted True, which is correct. But when I increased the threshold to 8000, it predicted False, which is not correct. But now, we know how to adjust threshold.\n",
    "\n",
    "#### Decide which threshold to use?\n",
    "\n",
    "First getting scores of all instances\n",
    "\n",
    "with those scores we can computer precision and recall for all possible thresholds using `precision_recall_curve()` function."
   ]
  },
  {
   "cell_type": "code",
   "execution_count": 27,
   "id": "55e7baa5",
   "metadata": {},
   "outputs": [],
   "source": [
    "y_scores = cross_val_predict(sgd_clf, X_train, y_train_2, cv =3,\n",
    "                             method = 'decision_function') #this will give us decision score instead of predictions"
   ]
  },
  {
   "cell_type": "code",
   "execution_count": 29,
   "id": "e4d395a8",
   "metadata": {},
   "outputs": [],
   "source": [
    "from sklearn.metrics import precision_recall_curve\n",
    "\n",
    "precisions, recalls, thresholds = precision_recall_curve(y_train_2, y_scores)"
   ]
  },
  {
   "cell_type": "code",
   "execution_count": 30,
   "id": "4a2d3369",
   "metadata": {},
   "outputs": [],
   "source": [
    "def plot_precision_recall_vs_threshold(precisions, recalls, thresholds):\n",
    "    plt.plot(thresholds, precisions[:-1], \"b--\", label =\"Precision\")\n",
    "    plt.plot(thresholds, recalls[:-1], \"g-\", label=\"Recall\")\n",
    "    [...] #highlight the threshold, add the legend, axis label and grid"
   ]
  },
  {
   "cell_type": "code",
   "execution_count": 32,
   "id": "0a85e4c5",
   "metadata": {},
   "outputs": [
    {
     "data": {
      "image/png": "[encoded data removed]",
      "text/plain": [
       "<Figure size 432x288 with 1 Axes>"
      ]
     },
     "metadata": {
      "needs_background": "light"
     },
     "output_type": "display_data"
    }
   ],
   "source": [
    "plot_precision_recall_vs_threshold(precisions, recalls, thresholds)\n",
    "plt.show()"
   ]
  },
  {
   "cell_type": "markdown",
   "id": "15201bd8",
   "metadata": {},
   "source": [
    "Another way to select a good precision/recall tradeoff is to plot precision directly against recall."
   ]
  },
  {
   "cell_type": "code",
   "execution_count": 34,
   "id": "edfdbc45",
   "metadata": {},
   "outputs": [
    {
     "data": {
      "text/plain": [
       "Text(0, 0.5, 'Precision')"
      ]
     },
     "execution_count": 34,
     "metadata": {},
     "output_type": "execute_result"
    },
    {
     "data": {
      "image/png": "[encoded data removed]",
      "text/plain": [
       "<Figure size 432x288 with 1 Axes>"
      ]
     },
     "metadata": {
      "needs_background": "light"
     },
     "output_type": "display_data"
    }
   ],
   "source": [
    "plt.plot(recalls, precisions)\n",
    "plt.xlabel(\"Recall\")\n",
    "plt.ylabel(\"Precision\")"
   ]
  },
  {
   "cell_type": "markdown",
   "id": "122e8739",
   "metadata": {},
   "source": [
    "We can see that precision really starts to fall sharply around 80% recall. We'll probably want to select a precision/recall tradeoff just before that drop, maybe around 60% recall. But it all depends on your project.\n",
    "\n",
    "Let's suppose we decide to aim for 90% precision. We can look up the first plot and find that threshold. But to be precise, we can search for the lowest threshold that gives us at least 90% precision (`np.argmax()` will give us the first index of the maximum value, which in this case means the first True value)"
   ]
  },
  {
   "cell_type": "code",
   "execution_count": 35,
   "id": "dc7d7e8e",
   "metadata": {},
   "outputs": [
    {
     "data": {
      "text/plain": [
       "2500.398172030182"
      ]
     },
     "execution_count": 35,
     "metadata": {},
     "output_type": "execute_result"
    }
   ],
   "source": [
    "threshold_90_precision = thresholds[np.argmax(precisions >= 0.90)]\n",
    "threshold_90_precision"
   ]
  },
  {
   "cell_type": "markdown",
   "id": "2694103c",
   "metadata": {},
   "source": [
    "To make predictions, instead of calling the classifier's `predict()` method, we can just run below code. We'll use trainings set, we want to keep test set for later use."
   ]
  },
  {
   "cell_type": "code",
   "execution_count": 36,
   "id": "0a5189e9",
   "metadata": {},
   "outputs": [],
   "source": [
    "y_train_pred_90 = (y_scores >= threshold_90_precision)"
   ]
  },
  {
   "cell_type": "code",
   "execution_count": 37,
   "id": "9fa33863",
   "metadata": {},
   "outputs": [
    {
     "data": {
      "text/plain": [
       "array([False, False, False, ..., False, False, False])"
      ]
     },
     "execution_count": 37,
     "metadata": {},
     "output_type": "execute_result"
    }
   ],
   "source": [
    "y_train_pred_90"
   ]
  },
  {
   "cell_type": "code",
   "execution_count": 38,
   "id": "777f9404",
   "metadata": {},
   "outputs": [
    {
     "data": {
      "text/plain": [
       "0.9000565717518386"
      ]
     },
     "execution_count": 38,
     "metadata": {},
     "output_type": "execute_result"
    }
   ],
   "source": [
    "#checking precision score\n",
    "precision_score(y_train_2, y_train_pred_90)"
   ]
  },
  {
   "cell_type": "code",
   "execution_count": 40,
   "id": "ca5d19c5",
   "metadata": {},
   "outputs": [
    {
     "data": {
      "text/plain": [
       "0.8011077542799597"
      ]
     },
     "execution_count": 40,
     "metadata": {},
     "output_type": "execute_result"
    }
   ],
   "source": [
    "#checking recall score\n",
    "recall_score(y_train_2, y_train_pred_90)"
   ]
  },
  {
   "cell_type": "markdown",
   "id": "a3e3aea3",
   "metadata": {},
   "source": [
    "##### THIS IS AMAZING!!\n",
    "\n",
    "Now we can create a classifier with any precision we want but a high precision classifier is not very useful if its recall is too low!\n",
    "\n",
    "**If someone says \"let's reach 99% precision\", you should ask, \"at what recall?\"**\n",
    "\n",
    "## ROC - Curve\n",
    "\n",
    "The Receiver operating characyeristic (ROC) curve is another common tool used with binary classifiers. It is very similar to precision/recall, but it plots the **true positive rate (another name for recall)** against the **false positive rate**. "
   ]
  },
  {
   "cell_type": "code",
   "execution_count": 41,
   "id": "334b2d49",
   "metadata": {},
   "outputs": [],
   "source": [
    "from sklearn.metrics import roc_curve\n",
    "\n",
    "fpr, tpr, thresholds = roc_curve(y_train_2, y_scores)"
   ]
  },
  {
   "cell_type": "code",
   "execution_count": 46,
   "id": "a1a228a9",
   "metadata": {},
   "outputs": [],
   "source": [
    "def plot_roc_curve(fpr, tpr, label = None):\n",
    "    plt.plot(fpr, tpr, linewidth=2, label = label)\n",
    "    plt.plot([0,1],[0,1], 'k--') #dashed diagnol\n",
    "    plt.xlabel(\"False Positive Rate\")\n",
    "    plt.ylabel(\"True Positive Rate (Recall)\")\n",
    "    plt.grid()\n",
    "    [...] #add axis labels and grid"
   ]
  },
  {
   "cell_type": "code",
   "execution_count": 47,
   "id": "76e3cadb",
   "metadata": {},
   "outputs": [
    {
     "data": {
      "image/png": "[encoded data removed]",
      "text/plain": [
       "<Figure size 432x288 with 1 Axes>"
      ]
     },
     "metadata": {
      "needs_background": "light"
     },
     "output_type": "display_data"
    }
   ],
   "source": [
    "plot_roc_curve(fpr, tpr)\n",
    "plt.show()"
   ]
  },
  {
   "cell_type": "markdown",
   "id": "8b7f84a6",
   "metadata": {},
   "source": [
    "Once again there is a tradeoff: the higher the recall (TPR), the more false positives (FPR) the classifier produces. The dotted line represents the ROC curve of a purely random classifier; a good classifier stays as away from that line as possible (towards the top-left corner)\n",
    "\n",
    "One way to produce compare classifiers is to measure the area under the curve (AUC). A perfect classifer will have a ROC AUC equal to 1, whereas a purely random classifer will have a ROC AUC equal to 0.5\n",
    "\n",
    "we can use `roc_auc_score`"
   ]
  },
  {
   "cell_type": "code",
   "execution_count": 48,
   "id": "e7ed8509",
   "metadata": {},
   "outputs": [
    {
     "data": {
      "text/plain": [
       "0.969541092944022"
      ]
     },
     "execution_count": 48,
     "metadata": {},
     "output_type": "execute_result"
    }
   ],
   "source": [
    "from sklearn.metrics import roc_auc_score\n",
    "\n",
    "roc_auc_score(y_train_2, y_scores)"
   ]
  },
  {
   "cell_type": "markdown",
   "id": "8a1ce0ee",
   "metadata": {},
   "source": [
    "**Note**\n",
    "\n",
    "Since the ROC curve is so similar to the precision/recall curve, you may wonder how to decide which one to use. As a rule of thumb, you should prefer the precision/recall curve whenever positive class is rare or when you care more about the false positive than the false negatives, and the ROC curve otherwise.\n",
    "\n",
    "### Training a RandomForestClassifier and comparing it with SGDClassifier\n",
    "\n",
    "RandomForestClassifer does not have decision_function() method. Instead it has a `predict_proba()` method . It returns an array containing a row per instance and a column per class, each containing probability that the given instance belongs to the given class (eg 70% chance that the image represents a 2)"
   ]
  },
  {
   "cell_type": "code",
   "execution_count": 49,
   "id": "697f44b7",
   "metadata": {},
   "outputs": [],
   "source": [
    "from sklearn.ensemble import RandomForestClassifier\n",
    "\n",
    "forest_clf = RandomForestClassifier(random_state = 42)\n",
    "y_probas_forest = cross_val_predict(forest_clf, X_train, y_train_2, cv=3,\n",
    "                                    method=\"predict_proba\")"
   ]
  },
  {
   "cell_type": "code",
   "execution_count": 50,
   "id": "fbac16eb",
   "metadata": {},
   "outputs": [
    {
     "data": {
      "text/plain": [
       "array([[1.  , 0.  ],\n",
       "       [1.  , 0.  ],\n",
       "       [0.98, 0.02],\n",
       "       ...,\n",
       "       [1.  , 0.  ],\n",
       "       [0.99, 0.01],\n",
       "       [0.99, 0.01]])"
      ]
     },
     "execution_count": 50,
     "metadata": {},
     "output_type": "execute_result"
    }
   ],
   "source": [
    "y_probas_forest"
   ]
  },
  {
   "cell_type": "markdown",
   "id": "ea9db64d",
   "metadata": {},
   "source": [
    "But to plot a ROC curve, you need scores, not probabilities. A simple solution is to use the positive class's probability as the score"
   ]
  },
  {
   "cell_type": "code",
   "execution_count": 51,
   "id": "e51d215a",
   "metadata": {},
   "outputs": [],
   "source": [
    "y_scores_forest = y_probas_forest[:,1] #score = proba of positive class\n",
    "fpr_forest, tpr_forest, thresholds_forest = roc_curve(y_train_2, y_scores_forest)"
   ]
  },
  {
   "cell_type": "code",
   "execution_count": 52,
   "id": "6089a43b",
   "metadata": {},
   "outputs": [
    {
     "data": {
      "image/png": "[encoded data removed]",
      "text/plain": [
       "<Figure size 432x288 with 1 Axes>"
      ]
     },
     "metadata": {
      "needs_background": "light"
     },
     "output_type": "display_data"
    }
   ],
   "source": [
    "plt.plot(fpr, tpr, \"b:\", label=\"SGD\")\n",
    "plot_roc_curve(fpr_forest, tpr_forest, \"Random Forest\")\n",
    "plt.legend(loc=\"lower right\")\n",
    "plt.show()"
   ]
  },
  {
   "cell_type": "code",
   "execution_count": 53,
   "id": "4c459e2f",
   "metadata": {},
   "outputs": [
    {
     "data": {
      "text/plain": [
       "0.9976087190102003"
      ]
     },
     "execution_count": 53,
     "metadata": {},
     "output_type": "execute_result"
    }
   ],
   "source": [
    "roc_auc_score(y_train_2, y_scores_forest)"
   ]
  },
  {
   "cell_type": "markdown",
   "id": "a55b9f1c",
   "metadata": {},
   "source": [
    "# Multiclass Classification\n",
    "\n",
    "These algorithms can handle multiclass\n",
    "- Random Forest Classifier\n",
    "- Naive Bayes Classifier\n",
    "\n",
    "While the below one are strictly binary classifiers\n",
    "- Support Vector Machine classifier\n",
    "- Linear classifier\n",
    "\n",
    "However there are ways to perform multiclass classification using multiple binary classifiers.\n",
    "\n",
    "For example, one way to create a system that can classify the digit images into 10 classes (from 0 to 9) is to train 10 binary classifiers, one for each digit (0-detector, 1-detector, 2-detector, so on) This is called **one-versus-all (OvA) method**\n",
    "\n",
    "Another strategy is to train a binary classifier for each pair of digits: one to distinguist 0s and 1s, another to distinguish 0s and 2s, and so on. This is called **one-versus-one (OvO) method** for N classes you need N*(N-1) / 2 classifiers. \n",
    "\n",
    "Some algorithms (such as SVM classifiers) scale poorly with the size of the training set, so for these algorithms OvO is preferred since it is faster to train many classifiers on small training sets than training a few classifiers on large training set.\n",
    "\n",
    "For many binary classification problems, however OvA is preferred.\n",
    "\n",
    "Scikit learn detects when you try to use a binary classification algorithm for multi-class classification task, and it automatically runs OvA (except for SVM classifier which it uses OvO). Let's try this"
   ]
  },
  {
   "cell_type": "code",
   "execution_count": 58,
   "id": "9c04c3eb",
   "metadata": {},
   "outputs": [
    {
     "data": {
      "text/plain": [
       "array([2], dtype=uint8)"
      ]
     },
     "execution_count": 58,
     "metadata": {},
     "output_type": "execute_result"
    }
   ],
   "source": [
    "sgd_clf.fit(X_train,y_train) #not y_train_2 because we are doing multiclass\n",
    "sgd_clf.predict([some_digit])"
   ]
  },
  {
   "cell_type": "markdown",
   "id": "25bf2017",
   "metadata": {},
   "source": [
    "This is easy. Under the hood Scikit-Learn actually trained 10 binary classifiers, got their decision scores for the image, and selected the class with the highest score. We can check the `decision_function()` . This will return 10 scores instead of 1."
   ]
  },
  {
   "cell_type": "code",
   "execution_count": 59,
   "id": "c2cb55c5",
   "metadata": {},
   "outputs": [
    {
     "data": {
      "text/plain": [
       "array([[-16662.66480684, -31922.12773779,   5868.10396885,\n",
       "         -8894.76692851, -13268.96104982,  -8098.048966  ,\n",
       "        -16029.3813198 , -25115.34993579,  -6854.98302622,\n",
       "          -529.24629135]])"
      ]
     },
     "execution_count": 59,
     "metadata": {},
     "output_type": "execute_result"
    }
   ],
   "source": [
    "some_digit_scores = sgd_clf.decision_function([some_digit])\n",
    "some_digit_scores"
   ]
  },
  {
   "cell_type": "code",
   "execution_count": 67,
   "id": "ca7b9070",
   "metadata": {},
   "outputs": [
    {
     "name": "stdout",
     "output_type": "stream",
     "text": [
      "For 0 decision score is -16662.664806836012 \n",
      "For 1 decision score is -31922.127737794606 \n",
      "For 2 decision score is 5868.1039688544515 \n",
      "For 3 decision score is -8894.766928508538 \n",
      "For 4 decision score is -13268.961049817997 \n",
      "For 5 decision score is -8098.048965995969 \n",
      "For 6 decision score is -16029.38131979697 \n",
      "For 7 decision score is -25115.349935788407 \n",
      "For 8 decision score is -6854.983026223796 \n",
      "For 9 decision score is -529.2462913475715 \n"
     ]
    }
   ],
   "source": [
    "for x in range(10):\n",
    "    print(f\"For {x} decision score is {some_digit_scores[0,x]} \")"
   ]
  },
  {
   "cell_type": "markdown",
   "id": "188a816d",
   "metadata": {},
   "source": [
    "These are the scores of 10 different binary classifiers that scikit-learn trained in the backend. We can see that for 2 it has a positive score, rest all are negative, hence it predicted 2. "
   ]
  },
  {
   "cell_type": "code",
   "execution_count": 68,
   "id": "992ae80a",
   "metadata": {},
   "outputs": [
    {
     "data": {
      "text/plain": [
       "array([0, 1, 2, 3, 4, 5, 6, 7, 8, 9], dtype=uint8)"
      ]
     },
     "execution_count": 68,
     "metadata": {},
     "output_type": "execute_result"
    }
   ],
   "source": [
    "sgd_clf.classes_"
   ]
  },
  {
   "cell_type": "markdown",
   "id": "e4b3a695",
   "metadata": {},
   "source": [
    "When a classifier is trained, it stores the list of target classes in its `classes_` attribute, ordered by value. In this case, the each index class in `classes_` conveniently matches the class itself, but in general we won't be this lucky. Hence always check.\n",
    "\n",
    "If we want to force Scikit-Learn to use one-versus-one or one-versus-all, we can do it using `OneVsOneClassifier` or `OneVsRestClassifier` classes. Simply create an instance and pass a binary classifier to its constructor."
   ]
  },
  {
   "cell_type": "code",
   "execution_count": 69,
   "id": "afb4e05d",
   "metadata": {},
   "outputs": [
    {
     "data": {
      "text/plain": [
       "array([2], dtype=uint8)"
      ]
     },
     "execution_count": 69,
     "metadata": {},
     "output_type": "execute_result"
    }
   ],
   "source": [
    "from sklearn.multiclass import OneVsOneClassifier\n",
    "\n",
    "ovo_clf = OneVsOneClassifier(SGDClassifier(random_state=42))\n",
    "ovo_clf.fit(X_train, y_train)\n",
    "ovo_clf.predict([some_digit])"
   ]
  },
  {
   "cell_type": "code",
   "execution_count": 70,
   "id": "1af96b75",
   "metadata": {},
   "outputs": [
    {
     "data": {
      "text/plain": [
       "45"
      ]
     },
     "execution_count": 70,
     "metadata": {},
     "output_type": "execute_result"
    }
   ],
   "source": [
    "len(ovo_clf.estimators_)"
   ]
  },
  {
   "cell_type": "code",
   "execution_count": 71,
   "id": "7adfa8b6",
   "metadata": {},
   "outputs": [
    {
     "data": {
      "text/plain": [
       "array([2], dtype=uint8)"
      ]
     },
     "execution_count": 71,
     "metadata": {},
     "output_type": "execute_result"
    }
   ],
   "source": [
    "forest_clf.fit(X_train,y_train)\n",
    "forest_clf.predict([some_digit])"
   ]
  },
  {
   "cell_type": "markdown",
   "id": "fcd0ac2d",
   "metadata": {},
   "source": [
    "This time Scikit-Learn did not have to run OvO or OvA because RandomForestClassifier can directly classify instances into multiple classes. \n",
    "\n",
    "We can still call `predict_proba()` to get the list of probabilities that the classifer assigned to each instance for each class."
   ]
  },
  {
   "cell_type": "code",
   "execution_count": 72,
   "id": "66282a84",
   "metadata": {},
   "outputs": [
    {
     "data": {
      "text/plain": [
       "array([[0.01, 0.  , 0.88, 0.01, 0.  , 0.04, 0.01, 0.  , 0.03, 0.02]])"
      ]
     },
     "execution_count": 72,
     "metadata": {},
     "output_type": "execute_result"
    }
   ],
   "source": [
    "forest_clf.predict_proba([some_digit])"
   ]
  },
  {
   "cell_type": "markdown",
   "id": "06a9b05e",
   "metadata": {},
   "source": [
    "We can see that it is 0.88 sure about class at index 2\n",
    "\n",
    "**Evaluate these models**"
   ]
  },
  {
   "cell_type": "code",
   "execution_count": 73,
   "id": "18c5100f",
   "metadata": {},
   "outputs": [
    {
     "data": {
      "text/plain": [
       "array([0.85195, 0.89105, 0.8615 ])"
      ]
     },
     "execution_count": 73,
     "metadata": {},
     "output_type": "execute_result"
    }
   ],
   "source": [
    "cross_val_score(sgd_clf, X_train, y_train, cv=3, scoring=\"accuracy\")"
   ]
  },
  {
   "cell_type": "code",
   "execution_count": 74,
   "id": "f28a5ff4",
   "metadata": {},
   "outputs": [
    {
     "data": {
      "text/plain": [
       "array([0.89735, 0.89615, 0.90355])"
      ]
     },
     "execution_count": 74,
     "metadata": {},
     "output_type": "execute_result"
    }
   ],
   "source": [
    "# we can improve model by scaling inputs\n",
    "from sklearn.preprocessing import StandardScaler\n",
    "\n",
    "scaler = StandardScaler()\n",
    "X_train_scaled = scaler.fit_transform(X_train.astype(np.float64))\n",
    "cross_val_score(sgd_clf, X_train_scaled, y_train, cv=3, scoring=\"accuracy\")"
   ]
  },
  {
   "cell_type": "markdown",
   "id": "c64ba306",
   "metadata": {},
   "source": [
    "## Error Analysis\n",
    "\n",
    "**Confusion Matrix**"
   ]
  },
  {
   "cell_type": "code",
   "execution_count": 75,
   "id": "1e17303b",
   "metadata": {},
   "outputs": [
    {
     "name": "stderr",
     "output_type": "stream",
     "text": [
      "/Users/yogeshtak/Documents/Python3/datascience_env/lib/python3.9/site-packages/sklearn/linear_model/_stochastic_gradient.py:574: ConvergenceWarning: Maximum number of iteration reached before convergence. Consider increasing max_iter to improve the fit.\n",
      "  warnings.warn(\"Maximum number of iteration reached before \"\n"
     ]
    },
    {
     "data": {
      "text/plain": [
       "array([[5587,    0,   21,    6,    9,   46,   35,    6,  212,    1],\n",
       "       [   0, 6402,   38,   23,    4,   46,    4,    8,  205,   12],\n",
       "       [  28,   27, 5237,   96,   73,   28,   66,   37,  356,   10],\n",
       "       [  23,   17,  117, 5238,    2,  219,   26,   42,  377,   70],\n",
       "       [  12,   14,   45,   13, 5214,   12,   34,   26,  306,  166],\n",
       "       [  28,   15,   31,  172,   54, 4493,   72,   16,  483,   57],\n",
       "       [  28,   15,   44,    2,   43,   98, 5554,    6,  127,    1],\n",
       "       [  20,    8,   53,   26,   51,   14,    3, 5718,  167,  205],\n",
       "       [  19,   60,   44,   91,    3,  131,   25,   11, 5422,   45],\n",
       "       [  24,   18,   29,   64,  117,   40,    1,  181,  341, 5134]])"
      ]
     },
     "execution_count": 75,
     "metadata": {},
     "output_type": "execute_result"
    }
   ],
   "source": [
    "y_train_pred = cross_val_predict(sgd_clf, X_train_scaled, y_train, cv=3)\n",
    "conf_mx = confusion_matrix(y_train, y_train_pred)\n",
    "conf_mx"
   ]
  },
  {
   "cell_type": "code",
   "execution_count": 76,
   "id": "329dd7aa",
   "metadata": {},
   "outputs": [
    {
     "data": {
      "image/png": "[encoded data removed]",
      "text/plain": [
       "<Figure size 288x288 with 1 Axes>"
      ]
     },
     "metadata": {
      "needs_background": "light"
     },
     "output_type": "display_data"
    }
   ],
   "source": [
    "plt.matshow(conf_mx, cmap=plt.cm.gray)\n",
    "plt.show()"
   ]
  },
  {
   "cell_type": "markdown",
   "id": "3ad5e100",
   "metadata": {},
   "source": [
    "This looks fairly good. But let's focus on the errors. First, we need to divide each value in the confusion matrix by the number of images in the corresponding class, so you can compare error rates instead of absolute errors (which would make abundant classes look unfairly bad)"
   ]
  },
  {
   "cell_type": "code",
   "execution_count": 77,
   "id": "019c9822",
   "metadata": {},
   "outputs": [],
   "source": [
    "row_sums = conf_mx.sum(axis=1, keepdims=True)\n",
    "norm_conf_mx = conf_mx/row_sums"
   ]
  },
  {
   "cell_type": "code",
   "execution_count": 78,
   "id": "5999fb38",
   "metadata": {},
   "outputs": [
    {
     "data": {
      "image/png": "[encoded data removed]",
      "text/plain": [
       "<Figure size 288x288 with 1 Axes>"
      ]
     },
     "metadata": {
      "needs_background": "light"
     },
     "output_type": "display_data"
    }
   ],
   "source": [
    "#filling diagonal with zeros to keep only the errors\n",
    "np.fill_diagonal(norm_conf_mx, 0)\n",
    "plt.matshow(norm_conf_mx, cmap = plt.cm.gray)\n",
    "plt.show()"
   ]
  },
  {
   "cell_type": "markdown",
   "id": "673d0379",
   "metadata": {},
   "source": [
    "Now you can clearly see the kinds of errors the classifier makes. Remember that rows represent actual classes, while columns represent predicted classes. The column for 8 is quite bright, which tells you that many images get misclassified as 8s. However row 8 is not that bad, which tells us that actual 8s in general gets properly classified. We can see 3s and 5s also often get confused. \n",
    "\n",
    "We need to work on reducing the false 8s. Maybe gather more data for digits that look like 8s (but are not) so that classifier can learn to distinguish them from real 8s. Or we could engineer new features that would help classifier.\n",
    "\n",
    "-for example: **Writing an algorithm to count the number of closed loops (eg, 8 has two, 6 has one, 5 has none).** or you could preprocess the images (using Scikit-Image, Pillow, or OpenCV) to make some patterns stand out more, such as closed loops.\n",
    "\n",
    "Analysing individual errors can also be a goodway to gain insights on what your classifier is doing and why it is failing, but it is more difficult and time consuimg. Let's do it with 3s and 5s."
   ]
  },
  {
   "cell_type": "code",
   "execution_count": 85,
   "id": "0b86b687",
   "metadata": {},
   "outputs": [],
   "source": [
    "def plot_digits(instances, images_per_row=10, **options):\n",
    "    size = 28\n",
    "    images_per_row = min(len(instances), images_per_row)\n",
    "    images = [np.array(instances.iloc[i]).reshape(size, size) for i in range(instances.shape[0])] #change done here\n",
    "    \n",
    "    if images_per_row == 0:\n",
    "        images_per_row = 0.1\n",
    "    \n",
    "    n_rows = (len(instances) - 1) // images_per_row + 1\n",
    "    row_images = []\n",
    "    n_empty = n_rows * images_per_row - len(instances)\n",
    "    images.append(np.zeros((size, size * n_empty)))\n",
    "    for row in range(n_rows):\n",
    "        rimages = images[row * images_per_row : (row + 1) * images_per_row]\n",
    "        row_images.append(np.concatenate(rimages, axis=1))\n",
    "    image = np.concatenate(row_images, axis=0)\n",
    "    plt.imshow(image, cmap = plt.cm.binary, **options)\n",
    "    plt.axis(\"off\")"
   ]
  },
  {
   "cell_type": "code",
   "execution_count": 90,
   "id": "8961739d",
   "metadata": {},
   "outputs": [
    {
     "data": {
      "image/png": "[encoded data removed]",
      "text/plain": [
       "<Figure size 576x576 with 4 Axes>"
      ]
     },
     "metadata": {
      "needs_background": "light"
     },
     "output_type": "display_data"
    }
   ],
   "source": [
    "cl_a, cl_b = 3, 5\n",
    "X_aa = X_train[(y_train == cl_a) & (y_train_pred == cl_a)]\n",
    "X_ab = X_train[(y_train == cl_a) & (y_train_pred == cl_b)]\n",
    "X_ba = X_train[(y_train == cl_b) & (y_train_pred == cl_a)]\n",
    "X_bb = X_train[(y_train == cl_b) & (y_train_pred == cl_b)]\n",
    "\n",
    "plt.figure(figsize = (8,8))\n",
    "plt.subplot(221); plot_digits(X_aa[:25], images_per_row =5)\n",
    "plt.subplot(222); plot_digits(X_ab[:25], images_per_row =5)\n",
    "plt.subplot(223); plot_digits(X_ba[:25], images_per_row =5)\n",
    "plt.subplot(224); plot_digits(X_bb[:25], images_per_row =5)\n",
    "plt.show()"
   ]
  },
  {
   "cell_type": "code",
   "execution_count": null,
   "id": "b6036a7f",
   "metadata": {},
   "outputs": [],
   "source": []
  }
 ],
 "metadata": {
  "kernelspec": {
   "display_name": "Python 3",
   "language": "python",
   "name": "python3"
  },
  "language_info": {
   "codemirror_mode": {
    "name": "ipython",
    "version": 3
   },
   "file_extension": ".py",
   "mimetype": "text/x-python",
   "name": "python",
   "nbconvert_exporter": "python",
   "pygments_lexer": "ipython3",
   "version": "3.9.5"
  }
 },
 "nbformat": 4,
 "nbformat_minor": 5
}
