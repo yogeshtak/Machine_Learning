{
  "nbformat": 4,
  "nbformat_minor": 0,
  "metadata": {
    "colab": {
      "name": "Machine Learning 1 - Classifiers (Udacity).ipynb",
      "provenance": [],
      "mount_file_id": "1Fi-H882vFa1UK1Lze6hz4XmdvNHRsucm",
      "authorship_tag": "ABX9TyOfWW2o7LlVrq4yUXTEgNB5",
      "include_colab_link": true
    },
    "kernelspec": {
      "name": "python3",
      "display_name": "Python 3"
    }
  },
  "cells": [
    {
      "cell_type": "markdown",
      "metadata": {
        "id": "view-in-github",
        "colab_type": "text"
      },
      "source": [
        "<a href=\"https://colab.research.google.com/github/yogeshtak/Machine_Learning/blob/master/Machine_Learning_1_Classifiers_(Udacity).ipynb\" target=\"_parent\"><img src=\"https://colab.research.google.com/assets/colab-badge.svg\" alt=\"Open In Colab\"/></a>"
      ]
    },
    {
      "cell_type": "markdown",
      "metadata": {
        "id": "V6cqn2WWa0Qp",
        "colab_type": "text"
      },
      "source": [
        "### **Gaussian NB**\n",
        "https://scikit-learn.org/stable/modules/generated/sklearn.naive_bayes.GaussianNB.html\n"
      ]
    },
    {
      "cell_type": "code",
      "metadata": {
        "id": "tHup-qtuajjo",
        "colab_type": "code",
        "colab": {}
      },
      "source": [
        "import numpy as np"
      ],
      "execution_count": 0,
      "outputs": []
    },
    {
      "cell_type": "code",
      "metadata": {
        "id": "O-TIK_C_bJsO",
        "colab_type": "code",
        "colab": {}
      },
      "source": [
        "x = np.array([[-1,-1],[-2,-1],[-3,-2],[1,1],[2,1],[3,2]])\n",
        "y = np.array([1,1,1,2,2,2])"
      ],
      "execution_count": 0,
      "outputs": []
    },
    {
      "cell_type": "code",
      "metadata": {
        "id": "QtpP1m2LbUpS",
        "colab_type": "code",
        "colab": {}
      },
      "source": [
        "from sklearn.naive_bayes import GaussianNB"
      ],
      "execution_count": 0,
      "outputs": []
    },
    {
      "cell_type": "code",
      "metadata": {
        "id": "17-GZxBZbd0x",
        "colab_type": "code",
        "outputId": "7c7ddcf5-dee9-4213-e305-e69a276cb828",
        "colab": {
          "base_uri": "https://localhost:8080/",
          "height": 33
        }
      },
      "source": [
        "clf = GaussianNB()\n",
        "clf.fit(x,y)"
      ],
      "execution_count": 43,
      "outputs": [
        {
          "output_type": "execute_result",
          "data": {
            "text/plain": [
              "GaussianNB(priors=None, var_smoothing=1e-09)"
            ]
          },
          "metadata": {
            "tags": []
          },
          "execution_count": 43
        }
      ]
    },
    {
      "cell_type": "code",
      "metadata": {
        "id": "MqxyXqfZbiZg",
        "colab_type": "code",
        "outputId": "74b11bce-b1bd-44de-fc0e-045e071ceb38",
        "colab": {
          "base_uri": "https://localhost:8080/",
          "height": 33
        }
      },
      "source": [
        "print(clf.predict([[-0.8,-1]]))"
      ],
      "execution_count": 44,
      "outputs": [
        {
          "output_type": "stream",
          "text": [
            "[1]\n"
          ],
          "name": "stdout"
        }
      ]
    },
    {
      "cell_type": "markdown",
      "metadata": {
        "id": "O3H1F5kobynP",
        "colab_type": "text"
      },
      "source": [
        "**Accuracy** -- no. of points classified correctly/all points (in test data)"
      ]
    },
    {
      "cell_type": "code",
      "metadata": {
        "id": "XStyrvoyboxf",
        "colab_type": "code",
        "colab": {}
      },
      "source": [
        "a = np.array([[-1,-2]])\n",
        "b = np.array([1])\n",
        "accuracy = clf.score(a,b)"
      ],
      "execution_count": 0,
      "outputs": []
    },
    {
      "cell_type": "code",
      "metadata": {
        "id": "x_pFVpUUeFpc",
        "colab_type": "code",
        "outputId": "54ee8a20-c9bc-444e-d7fe-e9fbed0178e5",
        "colab": {
          "base_uri": "https://localhost:8080/",
          "height": 33
        }
      },
      "source": [
        "accuracy"
      ],
      "execution_count": 46,
      "outputs": [
        {
          "output_type": "execute_result",
          "data": {
            "text/plain": [
              "1.0"
            ]
          },
          "metadata": {
            "tags": []
          },
          "execution_count": 46
        }
      ]
    },
    {
      "cell_type": "code",
      "metadata": {
        "id": "GjJS5-qceP6o",
        "colab_type": "code",
        "colab": {}
      },
      "source": [
        "import nltk\n",
        "import numpy\n",
        "import scipy\n",
        "import sklearn"
      ],
      "execution_count": 0,
      "outputs": []
    },
    {
      "cell_type": "code",
      "metadata": {
        "id": "4tHkLIRjwyJq",
        "colab_type": "code",
        "colab": {}
      },
      "source": [
        "import tarfile\n",
        "import os\n",
        "tfile = tarfile.open(\"/content/drive/My Drive/Colab Notebooks/Data/enron_mail_20150507.tar.gz\")\n",
        "tfile.extractall(\".\")"
      ],
      "execution_count": 0,
      "outputs": []
    },
    {
      "cell_type": "code",
      "metadata": {
        "id": "Ifo5_9y0WPum",
        "colab_type": "code",
        "colab": {}
      },
      "source": [
        "import sys\n",
        "from time import time\n"
      ],
      "execution_count": 0,
      "outputs": []
    },
    {
      "cell_type": "code",
      "metadata": {
        "id": "OpHX98HPW-dT",
        "colab_type": "code",
        "colab": {}
      },
      "source": [
        "import pickle\n",
        "import _pickle as cPickle\n",
        "from sklearn.model_selection import cross_validate\n",
        "from sklearn.feature_extraction.text import TfidfVectorizer\n",
        "from sklearn.feature_selection import SelectPercentile, f_classif\n",
        "from sklearn.model_selection import train_test_split"
      ],
      "execution_count": 0,
      "outputs": []
    },
    {
      "cell_type": "code",
      "metadata": {
        "id": "RNL0TLPIb4mS",
        "colab_type": "code",
        "colab": {}
      },
      "source": [
        "def preprocess(words_file = \"/content/drive/My Drive/Colab Notebooks/Udacity/tools/word_data.pkl\", authors_file=\"/content/drive/My Drive/Colab Notebooks/Udacity/tools/email_authors.pkl\"):\n",
        "    \"\"\" \n",
        "        this function takes a pre-made list of email texts (by default word_data.pkl)\n",
        "        and the corresponding authors (by default email_authors.pkl) and performs\n",
        "        a number of preprocessing steps:\n",
        "            -- splits into training/testing sets (10% testing)\n",
        "            -- vectorizes into tfidf matrix\n",
        "            -- selects/keeps most helpful features\n",
        "        after this, the feaures and labels are put into numpy arrays, which play nice with sklearn functions\n",
        "        4 objects are returned:\n",
        "            -- training/testing features\n",
        "            -- training/testing labels\n",
        "    \"\"\"\n",
        "\n",
        "    ### the words (features) and authors (labels), already largely preprocessed\n",
        "    ### this preprocessing will be repeated in the text learning mini-project\n",
        "    authors_file_handler = open(authors_file, \"rb\")\n",
        "    authors = pickle.load(authors_file_handler)\n",
        "    authors_file_handler.close()\n",
        "\n",
        "    words_file_handler = open(words_file, \"rb\")\n",
        "    word_data = cPickle.load(words_file_handler)\n",
        "    words_file_handler.close()\n",
        "\n",
        "    ### test_size is the percentage of events assigned to the test set\n",
        "    ### (remainder go into training)\n",
        "    features_train, features_test, labels_train, labels_test = train_test_split(word_data, authors, test_size=0.1, random_state=42)\n",
        "\n",
        "\n",
        "\n",
        "    ### text vectorization--go from strings to lists of numbers\n",
        "    vectorizer = TfidfVectorizer(sublinear_tf=True, max_df=0.5,\n",
        "                                 stop_words='english')\n",
        "    features_train_transformed = vectorizer.fit_transform(features_train)\n",
        "    features_test_transformed  = vectorizer.transform(features_test)\n",
        "\n",
        "\n",
        "\n",
        "    ### feature selection, because text is super high dimensional and \n",
        "    ### can be really computationally chewy as a result\n",
        "    selector = SelectPercentile(f_classif, percentile=1)\n",
        "    selector.fit(features_train_transformed, labels_train)\n",
        "    features_train_transformed = selector.transform(features_train_transformed).toarray()\n",
        "    features_test_transformed  = selector.transform(features_test_transformed).toarray()\n",
        "\n",
        "    ### info on the data\n",
        "    print(\"no. of Chris training emails:\", sum(labels_train))\n",
        "    print(\"no. of Sara training emails:\", len(labels_train)-sum(labels_train))\n",
        "    \n",
        "    return features_train_transformed, features_test_transformed, labels_train, labels_test"
      ],
      "execution_count": 0,
      "outputs": []
    },
    {
      "cell_type": "code",
      "metadata": {
        "id": "oV2_gmvbdIeT",
        "colab_type": "code",
        "outputId": "4debfade-98b5-4812-fb1a-d6585d902695",
        "colab": {
          "base_uri": "https://localhost:8080/",
          "height": 50
        }
      },
      "source": [
        "features_train, features_test, labels_train, labels_test = preprocess()"
      ],
      "execution_count": 93,
      "outputs": [
        {
          "output_type": "stream",
          "text": [
            "no. of Chris training emails: 7936\n",
            "no. of Sara training emails: 7884\n"
          ],
          "name": "stdout"
        }
      ]
    },
    {
      "cell_type": "code",
      "metadata": {
        "id": "_Mbtx2PddYAc",
        "colab_type": "code",
        "outputId": "0e5b5f3e-2f4d-4460-a6d1-5709b62d7215",
        "colab": {
          "base_uri": "https://localhost:8080/",
          "height": 33
        }
      },
      "source": [
        "from sklearn.naive_bayes import GaussianNB\n",
        "clf = GaussianNB()\n",
        "t0 = time()\n",
        "clf.fit(features_train,labels_train)\n",
        "print(\"training time:\", round(time()-t0, 3), \"s\")"
      ],
      "execution_count": 53,
      "outputs": [
        {
          "output_type": "stream",
          "text": [
            "training time: 1.478 s\n"
          ],
          "name": "stdout"
        }
      ]
    },
    {
      "cell_type": "code",
      "metadata": {
        "id": "37qeyriaflZV",
        "colab_type": "code",
        "colab": {}
      },
      "source": [
        "accuracy = clf.score(features_test,labels_test)"
      ],
      "execution_count": 0,
      "outputs": []
    },
    {
      "cell_type": "code",
      "metadata": {
        "id": "FlbzcX3Wf6J3",
        "colab_type": "code",
        "outputId": "a22aca44-7b7c-4e63-c316-e13acd18039d",
        "colab": {
          "base_uri": "https://localhost:8080/",
          "height": 33
        }
      },
      "source": [
        "accuracy"
      ],
      "execution_count": 55,
      "outputs": [
        {
          "output_type": "execute_result",
          "data": {
            "text/plain": [
              "0.9732650739476678"
            ]
          },
          "metadata": {
            "tags": []
          },
          "execution_count": 55
        }
      ]
    },
    {
      "cell_type": "code",
      "metadata": {
        "id": "eM8t9EqFf7Ug",
        "colab_type": "code",
        "outputId": "76fb6779-d4bb-43f6-cd45-a145ab497350",
        "colab": {
          "base_uri": "https://localhost:8080/",
          "height": 33
        }
      },
      "source": [
        "t1 = time()\n",
        "clf.predict(features_test)\n",
        "print(\"predicting time:\", round(time()-t1, 3), \"s\")"
      ],
      "execution_count": 56,
      "outputs": [
        {
          "output_type": "stream",
          "text": [
            "predicting time: 0.1 s\n"
          ],
          "name": "stdout"
        }
      ]
    },
    {
      "cell_type": "code",
      "metadata": {
        "id": "Ne2Oee9cgbsG",
        "colab_type": "code",
        "colab": {}
      },
      "source": [
        ""
      ],
      "execution_count": 0,
      "outputs": []
    },
    {
      "cell_type": "markdown",
      "metadata": {
        "id": "BdAv-fMmo8Lz",
        "colab_type": "text"
      },
      "source": [
        "### **Support Vector Machine (SVM)**"
      ]
    },
    {
      "cell_type": "code",
      "metadata": {
        "id": "Qu-rPR-ShCkP",
        "colab_type": "code",
        "outputId": "c3a721a9-368b-416e-ed0e-b91de9b37cc1",
        "colab": {
          "base_uri": "https://localhost:8080/",
          "height": 82
        }
      },
      "source": [
        "from sklearn import svm\n",
        "X = [[0, 0], [1, 1]]\n",
        "y = [0, 1]\n",
        "clf = svm.SVC()\n",
        "clf.fit(X, y)"
      ],
      "execution_count": 57,
      "outputs": [
        {
          "output_type": "execute_result",
          "data": {
            "text/plain": [
              "SVC(C=1.0, break_ties=False, cache_size=200, class_weight=None, coef0=0.0,\n",
              "    decision_function_shape='ovr', degree=3, gamma='scale', kernel='rbf',\n",
              "    max_iter=-1, probability=False, random_state=None, shrinking=True,\n",
              "    tol=0.001, verbose=False)"
            ]
          },
          "metadata": {
            "tags": []
          },
          "execution_count": 57
        }
      ]
    },
    {
      "cell_type": "code",
      "metadata": {
        "id": "MBGZQ1smhHDu",
        "colab_type": "code",
        "outputId": "185804c9-3c21-471c-9f25-41659c16fa3d",
        "colab": {
          "base_uri": "https://localhost:8080/",
          "height": 33
        }
      },
      "source": [
        "clf.predict([[2., 2.]])"
      ],
      "execution_count": 58,
      "outputs": [
        {
          "output_type": "execute_result",
          "data": {
            "text/plain": [
              "array([1])"
            ]
          },
          "metadata": {
            "tags": []
          },
          "execution_count": 58
        }
      ]
    },
    {
      "cell_type": "markdown",
      "metadata": {
        "id": "EooBHlqR41yh",
        "colab_type": "text"
      },
      "source": [
        "**Using the same email dataset for SVM, so that we can compare the accuracy with Naive Bayes**"
      ]
    },
    {
      "cell_type": "code",
      "metadata": {
        "id": "rbLXpRbcptLB",
        "colab_type": "code",
        "outputId": "37180eae-bf4a-4892-d3cb-03bec1e2d1a2",
        "colab": {
          "base_uri": "https://localhost:8080/",
          "height": 33
        }
      },
      "source": [
        " clf = svm.SVC(kernel=\"linear\")\n",
        " t0 = time()\n",
        " clf.fit(features_train,labels_train)\n",
        " print(\"training time:\", round(time()-t0, 3), \"s\")"
      ],
      "execution_count": 59,
      "outputs": [
        {
          "output_type": "stream",
          "text": [
            "training time: 256.56 s\n"
          ],
          "name": "stdout"
        }
      ]
    },
    {
      "cell_type": "code",
      "metadata": {
        "id": "CBZ34z2r2LG8",
        "colab_type": "code",
        "outputId": "f52a112c-565a-4892-a441-2a89d472e1de",
        "colab": {
          "base_uri": "https://localhost:8080/",
          "height": 33
        }
      },
      "source": [
        "t1 = time()\n",
        "clf.predict(features_test)\n",
        "print(\"Prediction time:\", round(time()-t1,3),\"s\")"
      ],
      "execution_count": 60,
      "outputs": [
        {
          "output_type": "stream",
          "text": [
            "Prediction time: 26.449 s\n"
          ],
          "name": "stdout"
        }
      ]
    },
    {
      "cell_type": "code",
      "metadata": {
        "id": "UQIufGGr4f2t",
        "colab_type": "code",
        "colab": {}
      },
      "source": [
        "accuracy = clf.score(features_test,labels_test)"
      ],
      "execution_count": 0,
      "outputs": []
    },
    {
      "cell_type": "code",
      "metadata": {
        "id": "xCzKNVKQ4v3C",
        "colab_type": "code",
        "outputId": "2cf08f96-4ad3-4094-cdf7-dbb655aa6fde",
        "colab": {
          "base_uri": "https://localhost:8080/",
          "height": 33
        }
      },
      "source": [
        "accuracy"
      ],
      "execution_count": 62,
      "outputs": [
        {
          "output_type": "execute_result",
          "data": {
            "text/plain": [
              "0.9840728100113766"
            ]
          },
          "metadata": {
            "tags": []
          },
          "execution_count": 62
        }
      ]
    },
    {
      "cell_type": "markdown",
      "metadata": {
        "id": "hE42klJx5IdC",
        "colab_type": "text"
      },
      "source": [
        "**Accuracy is pretty good but in general, the SVM is MUCH slower to train and use for predicting.**\n",
        "\n",
        "One way to speed up an algorithm is to train it on a smaller training dataset. The tradeoff is that the accuracy almost always goes down when you do this. Let’s explore this more concretely: "
      ]
    },
    {
      "cell_type": "code",
      "metadata": {
        "id": "3VRC17634xfq",
        "colab_type": "code",
        "colab": {}
      },
      "source": [
        "features_train_min = features_train[:len(features_train)//100]\n",
        "labels_train_min = labels_train[:len(labels_train)//100]"
      ],
      "execution_count": 0,
      "outputs": []
    },
    {
      "cell_type": "markdown",
      "metadata": {
        "id": "hI8MMnzC59F5",
        "colab_type": "text"
      },
      "source": [
        "These lines effectively slice the training dataset down to 1% of its original size, tossing out 99% of the training data. You can leave all other code unchanged. What’s the accuracy now?"
      ]
    },
    {
      "cell_type": "code",
      "metadata": {
        "id": "YK5lzzlv5mXt",
        "colab_type": "code",
        "outputId": "74ca4f30-3a87-4f13-e6b8-a9c91625f7bb",
        "colab": {
          "base_uri": "https://localhost:8080/",
          "height": 33
        }
      },
      "source": [
        "clf = svm.SVC(kernel=\"linear\")\n",
        "t0 = time()\n",
        "clf.fit(features_train_min,labels_train_min)\n",
        "print(\"training time:\", round(time()-t0, 3),\"s\")\n"
      ],
      "execution_count": 64,
      "outputs": [
        {
          "output_type": "stream",
          "text": [
            "training time: 0.137 s\n"
          ],
          "name": "stdout"
        }
      ]
    },
    {
      "cell_type": "code",
      "metadata": {
        "id": "jggaYAkR6RSq",
        "colab_type": "code",
        "colab": {}
      },
      "source": [
        "accuracy = clf.score(features_test,labels_test)"
      ],
      "execution_count": 0,
      "outputs": []
    },
    {
      "cell_type": "code",
      "metadata": {
        "id": "gUMfcOKN6W4N",
        "colab_type": "code",
        "outputId": "05e44f43-0c58-412d-adce-6790a4b7907a",
        "colab": {
          "base_uri": "https://localhost:8080/",
          "height": 33
        }
      },
      "source": [
        "accuracy"
      ],
      "execution_count": 67,
      "outputs": [
        {
          "output_type": "execute_result",
          "data": {
            "text/plain": [
              "0.8845278725824801"
            ]
          },
          "metadata": {
            "tags": []
          },
          "execution_count": 67
        }
      ]
    },
    {
      "cell_type": "markdown",
      "metadata": {
        "id": "8CYUe4Bu6Zdd",
        "colab_type": "text"
      },
      "source": [
        "**Now our model trained at faster spped but accuracy has gone down because we used just a little bit of test dataset**\n",
        "\n",
        "**Only 1% of the features, but over 88% the performance?  Not too shabby!**\n",
        "\n"
      ]
    },
    {
      "cell_type": "code",
      "metadata": {
        "id": "h68HjgzE6X52",
        "colab_type": "code",
        "outputId": "ea89d76a-d966-445c-ff35-08684f00c78a",
        "colab": {
          "base_uri": "https://localhost:8080/",
          "height": 33
        }
      },
      "source": [
        "clf = svm.SVC(kernel=\"rbf\")\n",
        "t0 = time()\n",
        "clf.fit(features_train_min,labels_train_min)\n",
        "print(\"training time:\", round(time()-t0,3),\"s\")"
      ],
      "execution_count": 68,
      "outputs": [
        {
          "output_type": "stream",
          "text": [
            "training time: 0.157 s\n"
          ],
          "name": "stdout"
        }
      ]
    },
    {
      "cell_type": "code",
      "metadata": {
        "id": "4VFSVuSt8FOr",
        "colab_type": "code",
        "outputId": "75d9d19b-513f-43fd-aa32-be88ae55f5ad",
        "colab": {
          "base_uri": "https://localhost:8080/",
          "height": 33
        }
      },
      "source": [
        "accuracy = clf.score(features_test,labels_test)\n",
        "accuracy\n",
        "\n",
        "from sklearn.metrics import accuracy_score\n",
        "s1 = accuracy_score(labels_test,clf.predict(features_test))\n",
        "s1"
      ],
      "execution_count": 69,
      "outputs": [
        {
          "output_type": "execute_result",
          "data": {
            "text/plain": [
              "0.8953356086461889"
            ]
          },
          "metadata": {
            "tags": []
          },
          "execution_count": 69
        }
      ]
    },
    {
      "cell_type": "code",
      "metadata": {
        "id": "zSBqVQn58MQf",
        "colab_type": "code",
        "outputId": "5b4f469d-b4ee-4043-eb2a-b32d97409389",
        "colab": {
          "base_uri": "https://localhost:8080/",
          "height": 33
        }
      },
      "source": [
        "s1"
      ],
      "execution_count": 70,
      "outputs": [
        {
          "output_type": "execute_result",
          "data": {
            "text/plain": [
              "0.8953356086461889"
            ]
          },
          "metadata": {
            "tags": []
          },
          "execution_count": 70
        }
      ]
    },
    {
      "cell_type": "code",
      "metadata": {
        "id": "nu9t0_jx94JE",
        "colab_type": "code",
        "outputId": "6b06a454-5c61-46b5-a1b5-3f94af39340a",
        "colab": {
          "base_uri": "https://localhost:8080/",
          "height": 33
        }
      },
      "source": [
        "accuracy"
      ],
      "execution_count": 71,
      "outputs": [
        {
          "output_type": "execute_result",
          "data": {
            "text/plain": [
              "0.8953356086461889"
            ]
          },
          "metadata": {
            "tags": []
          },
          "execution_count": 71
        }
      ]
    },
    {
      "cell_type": "code",
      "metadata": {
        "id": "qigPuX9196_h",
        "colab_type": "code",
        "outputId": "341951d6-8205-4c79-98c7-1fc4a3f306f5",
        "colab": {
          "base_uri": "https://localhost:8080/",
          "height": 50
        }
      },
      "source": [
        "clf = svm.SVC(C=10.0, kernel=\"rbf\")\n",
        "t0 = time()\n",
        "clf.fit(features_train_min,labels_train_min)\n",
        "print(\"training time:\", round(time()-t0,3),\"s\")\n",
        "\n",
        "accuracy = clf.score(features_test,labels_test)\n",
        "accuracy"
      ],
      "execution_count": 72,
      "outputs": [
        {
          "output_type": "stream",
          "text": [
            "training time: 0.152 s\n"
          ],
          "name": "stdout"
        },
        {
          "output_type": "execute_result",
          "data": {
            "text/plain": [
              "0.8998862343572241"
            ]
          },
          "metadata": {
            "tags": []
          },
          "execution_count": 72
        }
      ]
    },
    {
      "cell_type": "code",
      "metadata": {
        "id": "pD6DbgHO-Mp4",
        "colab_type": "code",
        "outputId": "faeb107d-47bd-415f-f198-dd7e75006e3c",
        "colab": {
          "base_uri": "https://localhost:8080/",
          "height": 50
        }
      },
      "source": [
        "clf1 = svm.SVC(kernel=\"rbf\", C=100)\n",
        "t0 = time()\n",
        "clf1.fit(features_train_min,labels_train_min)\n",
        "print(\"training time:\", round(time()-t0,3),\"s\")\n",
        "\n",
        "accuracy = clf1.score(features_test,labels_test)\n",
        "accuracy"
      ],
      "execution_count": 73,
      "outputs": [
        {
          "output_type": "stream",
          "text": [
            "training time: 0.15 s\n"
          ],
          "name": "stdout"
        },
        {
          "output_type": "execute_result",
          "data": {
            "text/plain": [
              "0.8998862343572241"
            ]
          },
          "metadata": {
            "tags": []
          },
          "execution_count": 73
        }
      ]
    },
    {
      "cell_type": "code",
      "metadata": {
        "id": "M3Hb-SAI-QRf",
        "colab_type": "code",
        "outputId": "1cba9060-37b8-4123-8153-97d89cded71d",
        "colab": {
          "base_uri": "https://localhost:8080/",
          "height": 50
        }
      },
      "source": [
        "clf = svm.SVC(kernel=\"rbf\", C=1000)\n",
        "t0 = time()\n",
        "clf.fit(features_train_min,labels_train_min)\n",
        "print(\"training time:\", round(time()-t0,3),\"s\")\n",
        "\n",
        "accuracy = clf.score(features_test,labels_test)\n",
        "accuracy"
      ],
      "execution_count": 74,
      "outputs": [
        {
          "output_type": "stream",
          "text": [
            "training time: 0.151 s\n"
          ],
          "name": "stdout"
        },
        {
          "output_type": "execute_result",
          "data": {
            "text/plain": [
              "0.8998862343572241"
            ]
          },
          "metadata": {
            "tags": []
          },
          "execution_count": 74
        }
      ]
    },
    {
      "cell_type": "code",
      "metadata": {
        "id": "YiNbGq1s-TY3",
        "colab_type": "code",
        "outputId": "b897860b-9b29-4d01-b0ac-296bbde2216f",
        "colab": {
          "base_uri": "https://localhost:8080/",
          "height": 50
        }
      },
      "source": [
        "clf = svm.SVC(kernel=\"rbf\", C=10000)\n",
        "t0 = time()\n",
        "clf.fit(features_train_min,labels_train_min)\n",
        "print(\"training time:\", round(time()-t0,3),\"s\")\n",
        "\n",
        "accuracy = clf.score(features_test,labels_test)\n",
        "accuracy"
      ],
      "execution_count": 75,
      "outputs": [
        {
          "output_type": "stream",
          "text": [
            "training time: 0.149 s\n"
          ],
          "name": "stdout"
        },
        {
          "output_type": "execute_result",
          "data": {
            "text/plain": [
              "0.8998862343572241"
            ]
          },
          "metadata": {
            "tags": []
          },
          "execution_count": 75
        }
      ]
    },
    {
      "cell_type": "code",
      "metadata": {
        "id": "MFr5tUOf-Wbd",
        "colab_type": "code",
        "outputId": "dee9c882-a6d7-40a4-d4bc-cb18667144f3",
        "colab": {
          "base_uri": "https://localhost:8080/",
          "height": 33
        }
      },
      "source": [
        "clf = svm.SVC(kernel=\"rbf\",C=10000)\n",
        "t0 = time()\n",
        "clf.fit(features_train,labels_train)\n",
        "print(\"training time:\", round(time()-t0,3),\"s\")\n",
        "\n",
        "accuracy = clf.score(features_test,labels_test)"
      ],
      "execution_count": 76,
      "outputs": [
        {
          "output_type": "stream",
          "text": [
            "training time: 257.07 s\n"
          ],
          "name": "stdout"
        }
      ]
    },
    {
      "cell_type": "code",
      "metadata": {
        "id": "Bu41I-ujAIv-",
        "colab_type": "code",
        "outputId": "da3fb403-7282-4b5c-e5c9-883fd376a7fc",
        "colab": {
          "base_uri": "https://localhost:8080/",
          "height": 33
        }
      },
      "source": [
        "accuracy"
      ],
      "execution_count": 77,
      "outputs": [
        {
          "output_type": "execute_result",
          "data": {
            "text/plain": [
              "0.9960182025028441"
            ]
          },
          "metadata": {
            "tags": []
          },
          "execution_count": 77
        }
      ]
    },
    {
      "cell_type": "code",
      "metadata": {
        "id": "wKg259gbBRrf",
        "colab_type": "code",
        "colab": {}
      },
      "source": [
        "predictions = clf.predict(features_test)"
      ],
      "execution_count": 0,
      "outputs": []
    },
    {
      "cell_type": "markdown",
      "metadata": {
        "id": "mez2TDGsCPnY",
        "colab_type": "text"
      },
      "source": [
        "0 or 1 corresponds to mail written by SARA and CHRIS respectively"
      ]
    },
    {
      "cell_type": "code",
      "metadata": {
        "id": "an0oAShvBwIa",
        "colab_type": "code",
        "outputId": "91e4a70d-63ee-4790-cd84-dcfb6e4da33b",
        "colab": {
          "base_uri": "https://localhost:8080/",
          "height": 33
        }
      },
      "source": [
        "predictions[10]"
      ],
      "execution_count": 79,
      "outputs": [
        {
          "output_type": "execute_result",
          "data": {
            "text/plain": [
              "1"
            ]
          },
          "metadata": {
            "tags": []
          },
          "execution_count": 79
        }
      ]
    },
    {
      "cell_type": "code",
      "metadata": {
        "id": "EoEyeyCvCLh8",
        "colab_type": "code",
        "outputId": "42307b01-665c-47b0-ab70-d1e32545c863",
        "colab": {
          "base_uri": "https://localhost:8080/",
          "height": 33
        }
      },
      "source": [
        "predictions[26]"
      ],
      "execution_count": 80,
      "outputs": [
        {
          "output_type": "execute_result",
          "data": {
            "text/plain": [
              "0"
            ]
          },
          "metadata": {
            "tags": []
          },
          "execution_count": 80
        }
      ]
    },
    {
      "cell_type": "code",
      "metadata": {
        "id": "_ovvbrSRCOte",
        "colab_type": "code",
        "outputId": "8c7cf8d0-a962-4eed-c328-8f094fa57057",
        "colab": {
          "base_uri": "https://localhost:8080/",
          "height": 33
        }
      },
      "source": [
        "predictions[50]"
      ],
      "execution_count": 81,
      "outputs": [
        {
          "output_type": "execute_result",
          "data": {
            "text/plain": [
              "1"
            ]
          },
          "metadata": {
            "tags": []
          },
          "execution_count": 81
        }
      ]
    },
    {
      "cell_type": "code",
      "metadata": {
        "id": "IFLLi-u2CbgU",
        "colab_type": "code",
        "outputId": "78d74825-30de-4d40-85d6-b80249c2c59f",
        "colab": {
          "base_uri": "https://localhost:8080/",
          "height": 33
        }
      },
      "source": [
        "predictions"
      ],
      "execution_count": 82,
      "outputs": [
        {
          "output_type": "execute_result",
          "data": {
            "text/plain": [
              "array([0, 0, 1, ..., 1, 0, 0])"
            ]
          },
          "metadata": {
            "tags": []
          },
          "execution_count": 82
        }
      ]
    },
    {
      "cell_type": "code",
      "metadata": {
        "id": "cAsgxz3MCxyJ",
        "colab_type": "code",
        "outputId": "2d63d42c-d596-4491-fe06-82d3dc6ea729",
        "colab": {
          "base_uri": "https://localhost:8080/",
          "height": 50
        }
      },
      "source": [
        "unique_elements, count_elements = np.unique(predictions, return_counts=True)\n",
        "print(np.asarray((unique_elements, count_elements)))"
      ],
      "execution_count": 83,
      "outputs": [
        {
          "output_type": "stream",
          "text": [
            "[[  0   1]\n",
            " [892 866]]\n"
          ],
          "name": "stdout"
        }
      ]
    },
    {
      "cell_type": "code",
      "metadata": {
        "id": "8zj3k3kLDMdS",
        "colab_type": "code",
        "colab": {}
      },
      "source": [
        "import math"
      ],
      "execution_count": 0,
      "outputs": []
    },
    {
      "cell_type": "code",
      "metadata": {
        "id": "byWC64k-hYrg",
        "colab_type": "code",
        "colab": {
          "base_uri": "https://localhost:8080/",
          "height": 33
        },
        "outputId": "dd4622ae-8eca-453b-86e5-0c1574b260b8"
      },
      "source": [
        "ent = (-2/3)*math.log(2/3,2)-(1/3)*math.log(1/3,2)\n",
        "ent"
      ],
      "execution_count": 85,
      "outputs": [
        {
          "output_type": "execute_result",
          "data": {
            "text/plain": [
              "0.9182958340544896"
            ]
          },
          "metadata": {
            "tags": []
          },
          "execution_count": 85
        }
      ]
    },
    {
      "cell_type": "code",
      "metadata": {
        "id": "6HxFhP-ShuMZ",
        "colab_type": "code",
        "colab": {
          "base_uri": "https://localhost:8080/",
          "height": 33
        },
        "outputId": "772483af-b7e3-4380-aa44-edfa503370cc"
      },
      "source": [
        "ig = 1-((3/4)*ent)\n",
        "ig"
      ],
      "execution_count": 86,
      "outputs": [
        {
          "output_type": "execute_result",
          "data": {
            "text/plain": [
              "0.31127812445913283"
            ]
          },
          "metadata": {
            "tags": []
          },
          "execution_count": 86
        }
      ]
    },
    {
      "cell_type": "code",
      "metadata": {
        "id": "7kNiwkQiiUs8",
        "colab_type": "code",
        "colab": {
          "base_uri": "https://localhost:8080/",
          "height": 33
        },
        "outputId": "643e4720-d2c3-4f37-da88-d4a313547cf7"
      },
      "source": [
        "ent = (-1/2)*math.log(1/2,2)-(1/2)*math.log(1/2,2)\n",
        "ent"
      ],
      "execution_count": 87,
      "outputs": [
        {
          "output_type": "execute_result",
          "data": {
            "text/plain": [
              "1.0"
            ]
          },
          "metadata": {
            "tags": []
          },
          "execution_count": 87
        }
      ]
    },
    {
      "cell_type": "markdown",
      "metadata": {
        "id": "IxZtjuww0Sxp",
        "colab_type": "text"
      },
      "source": [
        "### **Decision Tree Classifier**"
      ]
    },
    {
      "cell_type": "code",
      "metadata": {
        "id": "LqBfoKn_jLL1",
        "colab_type": "code",
        "colab": {}
      },
      "source": [
        "from sklearn import tree\n",
        "clf = tree.DecisionTreeClassifier(min_samples_split =40)\n",
        "clf = clf.fit(features_train,labels_train)"
      ],
      "execution_count": 0,
      "outputs": []
    },
    {
      "cell_type": "code",
      "metadata": {
        "id": "3dOMhsuW0stA",
        "colab_type": "code",
        "colab": {
          "base_uri": "https://localhost:8080/",
          "height": 33
        },
        "outputId": "9b4dbfd9-9f66-408e-d2ea-8df98d6dd080"
      },
      "source": [
        "accuracy = clf.score(features_test,labels_test)\n",
        "accuracy"
      ],
      "execution_count": 89,
      "outputs": [
        {
          "output_type": "execute_result",
          "data": {
            "text/plain": [
              "0.9789533560864618"
            ]
          },
          "metadata": {
            "tags": []
          },
          "execution_count": 89
        }
      ]
    },
    {
      "cell_type": "code",
      "metadata": {
        "id": "cOLQdpi01DMC",
        "colab_type": "code",
        "colab": {
          "base_uri": "https://localhost:8080/",
          "height": 33
        },
        "outputId": "b2a69d09-f355-4653-b73d-49dac4a736cc"
      },
      "source": [
        "len(features_train[0])"
      ],
      "execution_count": 90,
      "outputs": [
        {
          "output_type": "execute_result",
          "data": {
            "text/plain": [
              "3785"
            ]
          },
          "metadata": {
            "tags": []
          },
          "execution_count": 90
        }
      ]
    },
    {
      "cell_type": "code",
      "metadata": {
        "id": "sJJjcWrr1O1A",
        "colab_type": "code",
        "colab": {
          "base_uri": "https://localhost:8080/",
          "height": 33
        },
        "outputId": "2b96dd77-8d49-4851-a037-5c79d4c83a07"
      },
      "source": [
        "features_train[0]"
      ],
      "execution_count": 91,
      "outputs": [
        {
          "output_type": "execute_result",
          "data": {
            "text/plain": [
              "array([0., 0., 0., ..., 0., 0., 0.])"
            ]
          },
          "metadata": {
            "tags": []
          },
          "execution_count": 91
        }
      ]
    },
    {
      "cell_type": "code",
      "metadata": {
        "id": "LbjZmdTn1T1w",
        "colab_type": "code",
        "colab": {
          "base_uri": "https://localhost:8080/",
          "height": 33
        },
        "outputId": "5a352ade-ce03-4811-9f36-ddb410d20619"
      },
      "source": [
        "len(features_train[0])"
      ],
      "execution_count": 94,
      "outputs": [
        {
          "output_type": "execute_result",
          "data": {
            "text/plain": [
              "379"
            ]
          },
          "metadata": {
            "tags": []
          },
          "execution_count": 94
        }
      ]
    },
    {
      "cell_type": "code",
      "metadata": {
        "id": "0UNONyg81ltw",
        "colab_type": "code",
        "colab": {
          "base_uri": "https://localhost:8080/",
          "height": 33
        },
        "outputId": "40c49afc-f03f-462e-9f9e-9b0d14c2a0ad"
      },
      "source": [
        "# using only 1% of available features (i.e percentile = 1)\n",
        "clf = tree.DecisionTreeClassifier(min_samples_split=40)\n",
        "clf = clf.fit(features_train,labels_train)\n",
        "accuracy = clf.score(features_test,labels_test)\n",
        "accuracy"
      ],
      "execution_count": 95,
      "outputs": [
        {
          "output_type": "execute_result",
          "data": {
            "text/plain": [
              "0.9664391353811149"
            ]
          },
          "metadata": {
            "tags": []
          },
          "execution_count": 95
        }
      ]
    },
    {
      "cell_type": "markdown",
      "metadata": {
        "id": "e0rw4JCp7pUV",
        "colab_type": "text"
      },
      "source": [
        "# Choosing my own Algorithm\n",
        "\n",
        "## 1. KNN (K nearest Neighbor)"
      ]
    },
    {
      "cell_type": "code",
      "metadata": {
        "id": "aLr1Vnwa3WfE",
        "colab_type": "code",
        "colab": {}
      },
      "source": [
        "import random\n",
        "\n",
        "\n",
        "def makeTerrainData(n_points=1000):\n",
        "###############################################################################\n",
        "### make the toy dataset\n",
        "    random.seed(42)\n",
        "    grade = [random.random() for ii in range(0,n_points)]\n",
        "    bumpy = [random.random() for ii in range(0,n_points)]\n",
        "    error = [random.random() for ii in range(0,n_points)]\n",
        "    y = [round(grade[ii]*bumpy[ii]+0.3+0.1*error[ii]) for ii in range(0,n_points)]\n",
        "    for ii in range(0, len(y)):\n",
        "        if grade[ii]>0.8 or bumpy[ii]>0.8:\n",
        "            y[ii] = 1.0\n",
        "\n",
        "### split into train/test sets\n",
        "    X = [[gg, ss] for gg, ss in zip(grade, bumpy)]\n",
        "    split = int(0.75*n_points)\n",
        "    X_train = X[0:split]\n",
        "    X_test  = X[split:]\n",
        "    y_train = y[0:split]\n",
        "    y_test  = y[split:]\n",
        "\n",
        "    grade_sig = [X_train[ii][0] for ii in range(0, len(X_train)) if y_train[ii]==0]\n",
        "    bumpy_sig = [X_train[ii][1] for ii in range(0, len(X_train)) if y_train[ii]==0]\n",
        "    grade_bkg = [X_train[ii][0] for ii in range(0, len(X_train)) if y_train[ii]==1]\n",
        "    bumpy_bkg = [X_train[ii][1] for ii in range(0, len(X_train)) if y_train[ii]==1]\n",
        "\n",
        "    training_data = {\"fast\":{\"grade\":grade_sig, \"bumpiness\":bumpy_sig}\n",
        "            , \"slow\":{\"grade\":grade_bkg, \"bumpiness\":bumpy_bkg}}\n",
        "\n",
        "\n",
        "    grade_sig = [X_test[ii][0] for ii in range(0, len(X_test)) if y_test[ii]==0]\n",
        "    bumpy_sig = [X_test[ii][1] for ii in range(0, len(X_test)) if y_test[ii]==0]\n",
        "    grade_bkg = [X_test[ii][0] for ii in range(0, len(X_test)) if y_test[ii]==1]\n",
        "    bumpy_bkg = [X_test[ii][1] for ii in range(0, len(X_test)) if y_test[ii]==1]\n",
        "\n",
        "    test_data = {\"fast\":{\"grade\":grade_sig, \"bumpiness\":bumpy_sig}\n",
        "            , \"slow\":{\"grade\":grade_bkg, \"bumpiness\":bumpy_bkg}}\n",
        "\n",
        "    return X_train, y_train, X_test, y_test"
      ],
      "execution_count": 0,
      "outputs": []
    },
    {
      "cell_type": "code",
      "metadata": {
        "id": "qGersNAD7utf",
        "colab_type": "code",
        "colab": {}
      },
      "source": [
        "import matplotlib.pyplot as plt\n",
        "import pylab as pl"
      ],
      "execution_count": 0,
      "outputs": []
    },
    {
      "cell_type": "code",
      "metadata": {
        "id": "ynUjDB3-75oN",
        "colab_type": "code",
        "colab": {}
      },
      "source": [
        "def prettyPicture(clf, X_test, y_test):\n",
        "    x_min = 0.0; x_max = 1.0\n",
        "    y_min = 0.0; y_max = 1.0\n",
        "    \n",
        "    # Plot the decision boundary. For that, we will assign a color to each\n",
        "    # point in the mesh [x_min, m_max]x[y_min, y_max].\n",
        "    h = .01  # step size in the mesh\n",
        "    xx, yy = np.meshgrid(np.arange(x_min, x_max, h), np.arange(y_min, y_max, h))\n",
        "    Z = clf.predict(np.c_[xx.ravel(), yy.ravel()])\n",
        "\n",
        "    # Put the result into a color plot\n",
        "    Z = Z.reshape(xx.shape)\n",
        "    plt.xlim(xx.min(), xx.max())\n",
        "    plt.ylim(yy.min(), yy.max())\n",
        "\n",
        "    plt.pcolormesh(xx, yy, Z, cmap=pl.cm.seismic)\n",
        "\n",
        "    # Plot also the test points\n",
        "    grade_sig = [X_test[ii][0] for ii in range(0, len(X_test)) if y_test[ii]==0]\n",
        "    bumpy_sig = [X_test[ii][1] for ii in range(0, len(X_test)) if y_test[ii]==0]\n",
        "    grade_bkg = [X_test[ii][0] for ii in range(0, len(X_test)) if y_test[ii]==1]\n",
        "    bumpy_bkg = [X_test[ii][1] for ii in range(0, len(X_test)) if y_test[ii]==1]\n",
        "\n",
        "    plt.scatter(grade_sig, bumpy_sig, color = \"b\", label=\"fast\")\n",
        "    plt.scatter(grade_bkg, bumpy_bkg, color = \"r\", label=\"slow\")\n",
        "    plt.legend()\n",
        "    plt.xlabel(\"bumpiness\")\n",
        "    plt.ylabel(\"grade\")\n",
        "\n",
        "    plt.savefig(\"test.png\")\n",
        "\n",
        "import base64\n",
        "import json\n",
        "import subprocess\n",
        "\n",
        "def output_image(name, format, bytes):\n",
        "    image_start = \"BEGIN_IMAGE_f9825uweof8jw9fj4r8\"\n",
        "    image_end = \"END_IMAGE_0238jfw08fjsiufhw8frs\"\n",
        "    data = {}\n",
        "    data['name'] = name\n",
        "    data['format'] = format\n",
        "    data['bytes'] = base64.encodestring(bytes)\n",
        "    print(image_start+json.dumps(data)+image_end)"
      ],
      "execution_count": 0,
      "outputs": []
    },
    {
      "cell_type": "code",
      "metadata": {
        "id": "wSaWJbmd78Qs",
        "colab_type": "code",
        "colab": {}
      },
      "source": [
        "features_train, labels_train, features_test, labels_test = makeTerrainData()"
      ],
      "execution_count": 0,
      "outputs": []
    },
    {
      "cell_type": "code",
      "metadata": {
        "id": "MxF69kk88H8y",
        "colab_type": "code",
        "colab": {}
      },
      "source": [
        "grade_fast = [features_train[ii][0] for ii in range(0, len(features_train)) if labels_train[ii]==0]\n",
        "bumpy_fast = [features_train[ii][1] for ii in range(0, len(features_train)) if labels_train[ii]==0]\n",
        "grade_slow = [features_train[ii][0] for ii in range(0, len(features_train)) if labels_train[ii]==1]\n",
        "bumpy_slow = [features_train[ii][1] for ii in range(0, len(features_train)) if labels_train[ii]==1]"
      ],
      "execution_count": 0,
      "outputs": []
    },
    {
      "cell_type": "code",
      "metadata": {
        "id": "BoUB2SWM8TfA",
        "colab_type": "code",
        "colab": {
          "base_uri": "https://localhost:8080/",
          "height": 282
        },
        "outputId": "b35adbff-a89c-4257-838b-24e7543cf2b8"
      },
      "source": [
        "plt.xlim(0.0, 1.0)\n",
        "plt.ylim(0.0, 1.0)\n",
        "plt.scatter(bumpy_fast, grade_fast, color = \"b\", label=\"fast\")\n",
        "plt.scatter(grade_slow, bumpy_slow, color = \"r\", label=\"slow\")\n",
        "plt.legend()\n",
        "plt.xlabel(\"bumpiness\")\n",
        "plt.ylabel(\"grade\")\n",
        "plt.show()"
      ],
      "execution_count": 102,
      "outputs": [
        {
          "output_type": "display_data",
          "data": {
            "image/png": "[encoded data removed]",
            "text/plain": [
              "<Figure size 432x288 with 1 Axes>"
            ]
          },
          "metadata": {
            "tags": [],
            "needs_background": "light"
          }
        }
      ]
    },
    {
      "cell_type": "code",
      "metadata": {
        "id": "iJxU3wXl8d-Q",
        "colab_type": "code",
        "colab": {}
      },
      "source": [
        "from sklearn.neighbors import KNeighborsClassifier"
      ],
      "execution_count": 0,
      "outputs": []
    },
    {
      "cell_type": "code",
      "metadata": {
        "id": "koawUY8DAJOV",
        "colab_type": "code",
        "colab": {
          "base_uri": "https://localhost:8080/",
          "height": 50
        },
        "outputId": "1c92a022-afc9-4c7a-a866-98de532a11cf"
      },
      "source": [
        "clf = KNeighborsClassifier()\n",
        "t0 = time()\n",
        "clf = clf.fit(features_train,labels_train)\n",
        "print(\"training time:\", round(time()-t0,3),\"s\")\n",
        "\n",
        "accuracy = clf.score(features_test,labels_test)\n",
        "accuracy"
      ],
      "execution_count": 104,
      "outputs": [
        {
          "output_type": "stream",
          "text": [
            "training time: 0.017 s\n"
          ],
          "name": "stdout"
        },
        {
          "output_type": "execute_result",
          "data": {
            "text/plain": [
              "0.92"
            ]
          },
          "metadata": {
            "tags": []
          },
          "execution_count": 104
        }
      ]
    },
    {
      "cell_type": "code",
      "metadata": {
        "id": "3eN2M8ALAptY",
        "colab_type": "code",
        "colab": {
          "base_uri": "https://localhost:8080/",
          "height": 278
        },
        "outputId": "8a56e0d9-959b-4a0e-dd32-b410a6373a3c"
      },
      "source": [
        "prettyPicture(clf,features_test,labels_test)"
      ],
      "execution_count": 105,
      "outputs": [
        {
          "output_type": "display_data",
          "data": {
            "image/png": "[encoded data removed]",
            "text/plain": [
              "<Figure size 432x288 with 1 Axes>"
            ]
          },
          "metadata": {
            "tags": [],
            "needs_background": "light"
          }
        }
      ]
    },
    {
      "cell_type": "code",
      "metadata": {
        "id": "s-xNpdA1AxIk",
        "colab_type": "code",
        "colab": {
          "base_uri": "https://localhost:8080/",
          "height": 50
        },
        "outputId": "2e94ced1-5dee-44a6-8546-3782484e55c6"
      },
      "source": [
        "clf = KNeighborsClassifier(n_neighbors=1)\n",
        "t0 = time()\n",
        "clf = clf.fit(features_train,labels_train)\n",
        "print(\"training time:\", round(time()-t0,3),\"s\")\n",
        "\n",
        "accuracy = clf.score(features_test,labels_test)\n",
        "accuracy"
      ],
      "execution_count": 106,
      "outputs": [
        {
          "output_type": "stream",
          "text": [
            "training time: 0.003 s\n"
          ],
          "name": "stdout"
        },
        {
          "output_type": "execute_result",
          "data": {
            "text/plain": [
              "0.94"
            ]
          },
          "metadata": {
            "tags": []
          },
          "execution_count": 106
        }
      ]
    },
    {
      "cell_type": "code",
      "metadata": {
        "id": "Z9I07uo1BCVS",
        "colab_type": "code",
        "colab": {
          "base_uri": "https://localhost:8080/",
          "height": 278
        },
        "outputId": "dabd4a8f-b63e-4102-c3f5-17080b10b35f"
      },
      "source": [
        "prettyPicture(clf,features_test,labels_test)"
      ],
      "execution_count": 107,
      "outputs": [
        {
          "output_type": "display_data",
          "data": {
            "image/png": "[encoded data removed]",
            "text/plain": [
              "<Figure size 432x288 with 1 Axes>"
            ]
          },
          "metadata": {
            "tags": [],
            "needs_background": "light"
          }
        }
      ]
    },
    {
      "cell_type": "code",
      "metadata": {
        "id": "-I2hSU2jBEZR",
        "colab_type": "code",
        "colab": {
          "base_uri": "https://localhost:8080/",
          "height": 311
        },
        "outputId": "70d30855-6be8-4893-f453-dba0028d74a9"
      },
      "source": [
        "clf = KNeighborsClassifier(n_neighbors=1, weights=\"distance\")\n",
        "t0 = time()\n",
        "clf = clf.fit(features_train,labels_train)\n",
        "print(\"training time:\", round(time()-t0,3),\"s\")\n",
        "\n",
        "accuracy = clf.score(features_test,labels_test)\n",
        "print(\"accuracy is\", accuracy)\n",
        "prettyPicture(clf,features_test,labels_test)"
      ],
      "execution_count": 108,
      "outputs": [
        {
          "output_type": "stream",
          "text": [
            "training time: 0.003 s\n",
            "accuracy is 0.94\n"
          ],
          "name": "stdout"
        },
        {
          "output_type": "display_data",
          "data": {
            "image/png": "[encoded data removed]",
            "text/plain": [
              "<Figure size 432x288 with 1 Axes>"
            ]
          },
          "metadata": {
            "tags": [],
            "needs_background": "light"
          }
        }
      ]
    },
    {
      "cell_type": "code",
      "metadata": {
        "id": "f41_uqPpCGuo",
        "colab_type": "code",
        "colab": {
          "base_uri": "https://localhost:8080/",
          "height": 326
        },
        "outputId": "9d366afa-c466-4e98-95f2-5c98f8e7f032"
      },
      "source": [
        "accuracy1 = []\n",
        "for i in range (1,20):\n",
        "  clf = KNeighborsClassifier(n_neighbors=i)\n",
        "  clf = clf.fit(features_train,labels_train)\n",
        "  accuracy = clf.score(features_test,labels_test)\n",
        "  accuracy1.append(accuracy)\n",
        "  print(\"for n_neighbors: \",i, \"---> Accuracy Score is: \",accuracy)\n",
        "  "
      ],
      "execution_count": 111,
      "outputs": [
        {
          "output_type": "stream",
          "text": [
            "for n_neighbors:  1 ---> Accuracy Score is:  0.94\n",
            "for n_neighbors:  2 ---> Accuracy Score is:  0.928\n",
            "for n_neighbors:  3 ---> Accuracy Score is:  0.936\n",
            "for n_neighbors:  4 ---> Accuracy Score is:  0.94\n",
            "for n_neighbors:  5 ---> Accuracy Score is:  0.92\n",
            "for n_neighbors:  6 ---> Accuracy Score is:  0.936\n",
            "for n_neighbors:  7 ---> Accuracy Score is:  0.936\n",
            "for n_neighbors:  8 ---> Accuracy Score is:  0.944\n",
            "for n_neighbors:  9 ---> Accuracy Score is:  0.936\n",
            "for n_neighbors:  10 ---> Accuracy Score is:  0.932\n",
            "for n_neighbors:  11 ---> Accuracy Score is:  0.932\n",
            "for n_neighbors:  12 ---> Accuracy Score is:  0.932\n",
            "for n_neighbors:  13 ---> Accuracy Score is:  0.936\n",
            "for n_neighbors:  14 ---> Accuracy Score is:  0.928\n",
            "for n_neighbors:  15 ---> Accuracy Score is:  0.928\n",
            "for n_neighbors:  16 ---> Accuracy Score is:  0.94\n",
            "for n_neighbors:  17 ---> Accuracy Score is:  0.928\n",
            "for n_neighbors:  18 ---> Accuracy Score is:  0.94\n",
            "for n_neighbors:  19 ---> Accuracy Score is:  0.928\n"
          ],
          "name": "stdout"
        }
      ]
    },
    {
      "cell_type": "code",
      "metadata": {
        "id": "4NDPshLHDg2k",
        "colab_type": "code",
        "colab": {
          "base_uri": "https://localhost:8080/",
          "height": 326
        },
        "outputId": "d7e91af5-b8c1-4cf7-cf95-7b769a9e9294"
      },
      "source": [
        "accuracy1"
      ],
      "execution_count": 112,
      "outputs": [
        {
          "output_type": "execute_result",
          "data": {
            "text/plain": [
              "[0.94,\n",
              " 0.928,\n",
              " 0.936,\n",
              " 0.94,\n",
              " 0.92,\n",
              " 0.936,\n",
              " 0.936,\n",
              " 0.944,\n",
              " 0.936,\n",
              " 0.932,\n",
              " 0.932,\n",
              " 0.932,\n",
              " 0.936,\n",
              " 0.928,\n",
              " 0.928,\n",
              " 0.94,\n",
              " 0.928,\n",
              " 0.94,\n",
              " 0.928]"
            ]
          },
          "metadata": {
            "tags": []
          },
          "execution_count": 112
        }
      ]
    },
    {
      "cell_type": "code",
      "metadata": {
        "id": "ZdSd8aH4Dmyr",
        "colab_type": "code",
        "colab": {
          "base_uri": "https://localhost:8080/",
          "height": 420
        },
        "outputId": "e423f046-28a4-4fa3-f61c-193f1fa2a1cf"
      },
      "source": [
        "plt.figure(figsize=(10,6))\n",
        "plt.plot(range(1,20),accuracy1,color='green',linestyle='dashed',marker='o',markerfacecolor='blue',markersize=10)\n",
        "plt.title(\"Accuracy vs K value\")\n",
        "plt.xlabel(\"K\")\n",
        "plt.ylabel(\"Accuracy\")\n"
      ],
      "execution_count": 113,
      "outputs": [
        {
          "output_type": "execute_result",
          "data": {
            "text/plain": [
              "Text(0, 0.5, 'Accuracy')"
            ]
          },
          "metadata": {
            "tags": []
          },
          "execution_count": 113
        },
        {
          "output_type": "display_data",
          "data": {
            "image/png": "[encoded data removed]",
            "text/plain": [
              "<Figure size 720x432 with 1 Axes>"
            ]
          },
          "metadata": {
            "tags": [],
            "needs_background": "light"
          }
        }
      ]
    },
    {
      "cell_type": "code",
      "metadata": {
        "id": "9ZOOYEedFjki",
        "colab_type": "code",
        "colab": {
          "base_uri": "https://localhost:8080/",
          "height": 311
        },
        "outputId": "3050149e-60a6-4cbe-db22-660172aedc45"
      },
      "source": [
        "clf = KNeighborsClassifier(n_neighbors=4, weights=\"distance\")\n",
        "t0 = time()\n",
        "clf = clf.fit(features_train,labels_train)\n",
        "print(\"training time:\", round(time()-t0,3),\"s\")\n",
        "\n",
        "accuracy = clf.score(features_test,labels_test)\n",
        "print(\"accuracy is\", accuracy)\n",
        "prettyPicture(clf,features_test,labels_test)"
      ],
      "execution_count": 114,
      "outputs": [
        {
          "output_type": "stream",
          "text": [
            "training time: 0.003 s\n",
            "accuracy is 0.94\n"
          ],
          "name": "stdout"
        },
        {
          "output_type": "display_data",
          "data": {
            "image/png": "[encoded data removed]",
            "text/plain": [
              "<Figure size 432x288 with 1 Axes>"
            ]
          },
          "metadata": {
            "tags": [],
            "needs_background": "light"
          }
        }
      ]
    },
    {
      "cell_type": "markdown",
      "metadata": {
        "id": "DZxavVDvBt9l",
        "colab_type": "text"
      },
      "source": [
        "## 2. Random Forest"
      ]
    },
    {
      "cell_type": "code",
      "metadata": {
        "id": "tAKu6MWfBZ2-",
        "colab_type": "code",
        "colab": {}
      },
      "source": [
        ""
      ],
      "execution_count": 0,
      "outputs": []
    }
  ]
}