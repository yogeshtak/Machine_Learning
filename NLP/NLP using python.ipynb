{
 "cells": [
  {
   "cell_type": "code",
   "execution_count": 1,
   "id": "bc8ad34b",
   "metadata": {},
   "outputs": [],
   "source": [
    "import pandas as pd"
   ]
  },
  {
   "cell_type": "markdown",
   "id": "742f82e1",
   "metadata": {},
   "source": [
    "We have a CSV file with flight arrival and departure data. We are interested in which aiport has the longest average delay in terms of flight departure"
   ]
  },
  {
   "cell_type": "code",
   "execution_count": 2,
   "id": "813edddc",
   "metadata": {},
   "outputs": [],
   "source": [
    "data = pd.read_csv(\"data/flight_data.csv\")"
   ]
  },
  {
   "cell_type": "code",
   "execution_count": 3,
   "id": "745eaff8",
   "metadata": {},
   "outputs": [
    {
     "data": {
      "text/html": [
       "<div>\n",
       "<style scoped>\n",
       "    .dataframe tbody tr th:only-of-type {\n",
       "        vertical-align: middle;\n",
       "    }\n",
       "\n",
       "    .dataframe tbody tr th {\n",
       "        vertical-align: top;\n",
       "    }\n",
       "\n",
       "    .dataframe thead th {\n",
       "        text-align: right;\n",
       "    }\n",
       "</style>\n",
       "<table border=\"1\" class=\"dataframe\">\n",
       "  <thead>\n",
       "    <tr style=\"text-align: right;\">\n",
       "      <th></th>\n",
       "      <th>YEAR</th>\n",
       "      <th>MONTH</th>\n",
       "      <th>DAY</th>\n",
       "      <th>CARRIER</th>\n",
       "      <th>ORIGIN</th>\n",
       "      <th>DEST</th>\n",
       "      <th>SCHED_DEP_TIME</th>\n",
       "      <th>ACT_DEP_TIME</th>\n",
       "      <th>DEP_DELAY</th>\n",
       "      <th>SCHED_ARR_TIME</th>\n",
       "      <th>ACT_ARR_TIME</th>\n",
       "      <th>ARR_DELAY</th>\n",
       "    </tr>\n",
       "  </thead>\n",
       "  <tbody>\n",
       "    <tr>\n",
       "      <th>0</th>\n",
       "      <td>2019</td>\n",
       "      <td>7</td>\n",
       "      <td>24</td>\n",
       "      <td>G4</td>\n",
       "      <td>PIE</td>\n",
       "      <td>AVL</td>\n",
       "      <td>1511</td>\n",
       "      <td>1533.0</td>\n",
       "      <td>22.0</td>\n",
       "      <td>1644</td>\n",
       "      <td>1659.0</td>\n",
       "      <td>15.0</td>\n",
       "    </tr>\n",
       "    <tr>\n",
       "      <th>1</th>\n",
       "      <td>2019</td>\n",
       "      <td>7</td>\n",
       "      <td>29</td>\n",
       "      <td>G4</td>\n",
       "      <td>AUS</td>\n",
       "      <td>SFB</td>\n",
       "      <td>2002</td>\n",
       "      <td>2010.0</td>\n",
       "      <td>8.0</td>\n",
       "      <td>2335</td>\n",
       "      <td>2344.0</td>\n",
       "      <td>9.0</td>\n",
       "    </tr>\n",
       "    <tr>\n",
       "      <th>2</th>\n",
       "      <td>2019</td>\n",
       "      <td>7</td>\n",
       "      <td>7</td>\n",
       "      <td>G4</td>\n",
       "      <td>GRI</td>\n",
       "      <td>LAS</td>\n",
       "      <td>1118</td>\n",
       "      <td>1118.0</td>\n",
       "      <td>0.0</td>\n",
       "      <td>1144</td>\n",
       "      <td>1139.0</td>\n",
       "      <td>-5.0</td>\n",
       "    </tr>\n",
       "    <tr>\n",
       "      <th>3</th>\n",
       "      <td>2019</td>\n",
       "      <td>7</td>\n",
       "      <td>7</td>\n",
       "      <td>G4</td>\n",
       "      <td>AUS</td>\n",
       "      <td>MEM</td>\n",
       "      <td>1643</td>\n",
       "      <td>1726.0</td>\n",
       "      <td>43.0</td>\n",
       "      <td>1827</td>\n",
       "      <td>1922.0</td>\n",
       "      <td>55.0</td>\n",
       "    </tr>\n",
       "    <tr>\n",
       "      <th>4</th>\n",
       "      <td>2019</td>\n",
       "      <td>7</td>\n",
       "      <td>8</td>\n",
       "      <td>G4</td>\n",
       "      <td>IND</td>\n",
       "      <td>PIE</td>\n",
       "      <td>858</td>\n",
       "      <td>905.0</td>\n",
       "      <td>7.0</td>\n",
       "      <td>1107</td>\n",
       "      <td>1119.0</td>\n",
       "      <td>12.0</td>\n",
       "    </tr>\n",
       "  </tbody>\n",
       "</table>\n",
       "</div>"
      ],
      "text/plain": [
       "   YEAR  MONTH  DAY CARRIER ORIGIN DEST  SCHED_DEP_TIME  ACT_DEP_TIME  \\\n",
       "0  2019      7   24      G4    PIE  AVL            1511        1533.0   \n",
       "1  2019      7   29      G4    AUS  SFB            2002        2010.0   \n",
       "2  2019      7    7      G4    GRI  LAS            1118        1118.0   \n",
       "3  2019      7    7      G4    AUS  MEM            1643        1726.0   \n",
       "4  2019      7    8      G4    IND  PIE             858         905.0   \n",
       "\n",
       "   DEP_DELAY  SCHED_ARR_TIME  ACT_ARR_TIME  ARR_DELAY  \n",
       "0       22.0            1644        1659.0       15.0  \n",
       "1        8.0            2335        2344.0        9.0  \n",
       "2        0.0            1144        1139.0       -5.0  \n",
       "3       43.0            1827        1922.0       55.0  \n",
       "4        7.0            1107        1119.0       12.0  "
      ]
     },
     "execution_count": 3,
     "metadata": {},
     "output_type": "execute_result"
    }
   ],
   "source": [
    "data.head()"
   ]
  },
  {
   "cell_type": "code",
   "execution_count": 6,
   "id": "0fbbd111",
   "metadata": {},
   "outputs": [
    {
     "data": {
      "text/plain": [
       "ORIGIN\n",
       "ABE    16.213974\n",
       "ABI     5.541872\n",
       "ABQ    10.080058\n",
       "ABR    16.032258\n",
       "ABY    34.939759\n",
       "         ...    \n",
       "WRG    -4.500000\n",
       "WYS    33.369231\n",
       "XNA    11.672665\n",
       "YAK   -10.166667\n",
       "YUM     1.013245\n",
       "Name: DEP_DELAY, Length: 356, dtype: float64"
      ]
     },
     "execution_count": 6,
     "metadata": {},
     "output_type": "execute_result"
    }
   ],
   "source": [
    "data.groupby(\"ORIGIN\").mean()[\"DEP_DELAY\"]"
   ]
  },
  {
   "cell_type": "code",
   "execution_count": 10,
   "id": "4ba1237f",
   "metadata": {},
   "outputs": [
    {
     "data": {
      "text/plain": [
       "'PPG'"
      ]
     },
     "execution_count": 10,
     "metadata": {},
     "output_type": "execute_result"
    }
   ],
   "source": [
    "print(data.groupby(\"ORIGIN\").mean()[\"DEP_DELAY\"].idxmax())\n",
    "print(data.groupby(\"ORIGIN\").mean()[\"DEP_DELAY\"].max())\n"
   ]
  },
  {
   "cell_type": "code",
   "execution_count": null,
   "id": "5cbd0f54",
   "metadata": {},
   "outputs": [],
   "source": []
  }
 ],
 "metadata": {
  "kernelspec": {
   "display_name": "Python 3",
   "language": "python",
   "name": "python3"
  },
  "language_info": {
   "codemirror_mode": {
    "name": "ipython",
    "version": 3
   },
   "file_extension": ".py",
   "mimetype": "text/x-python",
   "name": "python",
   "nbconvert_exporter": "python",
   "pygments_lexer": "ipython3",
   "version": "3.9.5"
  }
 },
 "nbformat": 4,
 "nbformat_minor": 5
}
