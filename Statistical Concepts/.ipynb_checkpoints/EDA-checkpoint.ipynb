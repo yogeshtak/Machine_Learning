{
 "cells": [
  {
   "cell_type": "code",
   "execution_count": 1,
   "id": "3e27060f",
   "metadata": {},
   "outputs": [],
   "source": [
    "#data\n",
    "AIRLINE_STATS_CSV = \"https://github.com/gedeck/practical-statistics-for-data-scientists/blob/master/data/airline_stats.csv\"\n",
    "KC_TAX_CSV = \"https://github.com/gedeck/practical-statistics-for-data-scientists/blob/master/data/kc_tax.csv.gz\"\n",
    "LC_LOANS_CSV = \"https://github.com/gedeck/practical-statistics-for-data-scientists/blob/master/data/lc_loans.csv\"\n",
    "AIRPORT_DELAYS_CSV = \"https://github.com/gedeck/practical-statistics-for-data-scientists/blob/master/data/dfw_airline.csv\"\n",
    "SP500_DATA_CSV = \"https://github.com/gedeck/practical-statistics-for-data-scientists/blob/master/data/sp500_data.csv.gz\"\n",
    "SP500_SECTORS_CSV = \"https://github.com/gedeck/practical-statistics-for-data-scientists/blob/master/data/sp500_sectors.csv\"\n",
    "STATE_CSV = \"https://github.com/gedeck/practical-statistics-for-data-scientists/blob/master/data/state.csv\""
   ]
  },
  {
   "cell_type": "code",
   "execution_count": 3,
   "id": "1e5f4288",
   "metadata": {},
   "outputs": [],
   "source": [
    "#importing libraries\n",
    "%matplotlib inline\n",
    "\n",
    "from pathlib import Path\n",
    "\n",
    "import pandas as pd\n",
    "import numpy as np\n",
    "from scipy.stats import trim_mean\n",
    "from statsmodels import robust\n",
    "\n",
    "import seaborn as sns\n",
    "import matplotlib.pylab as plt"
   ]
  },
  {
   "cell_type": "code",
   "execution_count": null,
   "id": "31875a2c",
   "metadata": {},
   "outputs": [],
   "source": []
  }
 ],
 "metadata": {
  "kernelspec": {
   "display_name": "Python 3",
   "language": "python",
   "name": "python3"
  },
  "language_info": {
   "codemirror_mode": {
    "name": "ipython",
    "version": 3
   },
   "file_extension": ".py",
   "mimetype": "text/x-python",
   "name": "python",
   "nbconvert_exporter": "python",
   "pygments_lexer": "ipython3",
   "version": "3.9.5"
  }
 },
 "nbformat": 4,
 "nbformat_minor": 5
}
