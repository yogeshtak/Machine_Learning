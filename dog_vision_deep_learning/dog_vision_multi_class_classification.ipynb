{
  "nbformat": 4,
  "nbformat_minor": 0,
  "metadata": {
    "colab": {
      "name": "dog-vision-multi-class-classification.ipynb",
      "provenance": [],
      "mount_file_id": "1YQso6ApMxjIuvX2Pcv4GxQvweTOVP9ys",
      "authorship_tag": "ABX9TyOJNirNaCo/MUBWQgcFHyP6",
      "include_colab_link": true
    },
    "kernelspec": {
      "name": "python3",
      "display_name": "Python 3"
    },
    "language_info": {
      "name": "python"
    },
    "accelerator": "GPU"
  },
  "cells": [
    {
      "cell_type": "markdown",
      "metadata": {
        "id": "view-in-github",
        "colab_type": "text"
      },
      "source": [
        "<a href=\"https://colab.research.google.com/github/yogeshtak/Machine_Learning/blob/master/dog_vision_deep_learning/dog_vision_multi_class_classification.ipynb\" target=\"_parent\"><img src=\"https://colab.research.google.com/assets/colab-badge.svg\" alt=\"Open In Colab\"/></a>"
      ]
    },
    {
      "cell_type": "markdown",
      "metadata": {
        "id": "E5K6Wy1_BeT2"
      },
      "source": [
        "# 🐶 End-to-end Multi-class Dog Breed Classification\n",
        "\n",
        "This notebook we build an end to end multi-class image classifier using TensorFlow 2.0 and TensorFlow Hub.\n",
        "\n",
        "## 1. Problem\n",
        "Identifying breed of the dog by just showing a picture.\n",
        "## 2. Data\n",
        "Kaggle: https://www.kaggle.com/c/dog-breed-identification \n",
        "\n",
        "## 3. Evaluation\n",
        "https://www.kaggle.com/c/dog-breed-identification/overview/evaluation \n",
        "## 4. Features\n",
        "\n",
        "* We're dealing with images (unstructured data) so it's probably best we use deep learning/transfer learning\n",
        "* There are 120 different dog classes.\n",
        "* There are around 10,000+ images in the training set. (these images have label)\n",
        "* There are around 10,000+ images in the test set. (label absent, we'll predict them)\n",
        "\n"
      ]
    },
    {
      "cell_type": "code",
      "metadata": {
        "id": "dVknLCmd7A_2"
      },
      "source": [
        "#unzip the data in the google drive\n",
        "#!unzip \"/content/drive/MyDrive/Projects/dog-vision/dog-breed-identification.zip\" -d \"/content/drive/MyDrive/Projects/dog-vision/\""
      ],
      "execution_count": 1,
      "outputs": []
    },
    {
      "cell_type": "markdown",
      "metadata": {
        "id": "TndKhoIIwZoE"
      },
      "source": [
        "# Get our workspace Ready\n",
        "\n",
        "* Import TensorFlow 2.x\n",
        "* Import TensorFlow Hub\n",
        "* Make sure we're using GPU"
      ]
    },
    {
      "cell_type": "code",
      "metadata": {
        "colab": {
          "base_uri": "https://localhost:8080/"
        },
        "id": "q895CFeZ-kPS",
        "outputId": "ab7f2267-c3f8-4ecd-bde7-2fca47f5a6e3"
      },
      "source": [
        "#import tensorflow into colab\n",
        "import tensorflow as tf\n",
        "print(\"TF version\", tf.__version__)"
      ],
      "execution_count": 1,
      "outputs": [
        {
          "output_type": "stream",
          "text": [
            "TF version 2.5.0\n"
          ],
          "name": "stdout"
        }
      ]
    },
    {
      "cell_type": "code",
      "metadata": {
        "colab": {
          "base_uri": "https://localhost:8080/"
        },
        "id": "ia0uzCUIwlbA",
        "outputId": "340ce6f0-9833-49db-80ef-d00894872d91"
      },
      "source": [
        "import tensorflow_hub as hub\n",
        "print(\"TF Hub Version\", hub.__version__)"
      ],
      "execution_count": 2,
      "outputs": [
        {
          "output_type": "stream",
          "text": [
            "TF Hub Version 0.12.0\n"
          ],
          "name": "stdout"
        }
      ]
    },
    {
      "cell_type": "code",
      "metadata": {
        "colab": {
          "base_uri": "https://localhost:8080/"
        },
        "id": "MOADQwgcyBTC",
        "outputId": "167a4927-b6b1-4ff7-eb6e-08b7a951bd72"
      },
      "source": [
        "#check for GPU availability \n",
        "print(\"GPU\", \"available (YESSS!!!)\") if tf.config.list_physical_devices(\"GPU\") else \"not available :(\""
      ],
      "execution_count": 3,
      "outputs": [
        {
          "output_type": "stream",
          "text": [
            "GPU available (YESSS!!!)\n"
          ],
          "name": "stdout"
        }
      ]
    },
    {
      "cell_type": "markdown",
      "metadata": {
        "id": "kYu9LD7r1ulA"
      },
      "source": [
        "## 2. Getting our data ready (turning data into tensors)\n",
        "\n",
        "With all ML models, our data need to be in numerical format. Turning images into tensors (numericao representatation)"
      ]
    },
    {
      "cell_type": "code",
      "metadata": {
        "id": "1xFGwFKkyU2q"
      },
      "source": [
        "#checkout the labels\n",
        "import pandas as pd\n",
        "labels_csv = pd.read_csv(\"/content/drive/MyDrive/Projects/dog-vision/labels.csv\")"
      ],
      "execution_count": 5,
      "outputs": []
    },
    {
      "cell_type": "code",
      "metadata": {
        "colab": {
          "base_uri": "https://localhost:8080/"
        },
        "id": "3pk8oDQ_2OXo",
        "outputId": "85190f21-a1b9-45a2-8511-5378575875d0"
      },
      "source": [
        "print(labels_csv.describe())\n",
        "print(labels_csv.head())"
      ],
      "execution_count": 6,
      "outputs": [
        {
          "output_type": "stream",
          "text": [
            "                                      id               breed\n",
            "count                              10222               10222\n",
            "unique                             10222                 120\n",
            "top     6fd91d9b93604a4b156662fb1d763d29  scottish_deerhound\n",
            "freq                                   1                 126\n",
            "                                 id             breed\n",
            "0  000bec180eb18c7604dcecc8fe0dba07       boston_bull\n",
            "1  001513dfcb2ffafc82cccf4d8bbaba97             dingo\n",
            "2  001cdf01b096e06d78e9e5112d419397          pekinese\n",
            "3  00214f311d5d2247d5dfe4fe24b2303d          bluetick\n",
            "4  0021f9ceb3235effd7fcde7f7538ed62  golden_retriever\n"
          ],
          "name": "stdout"
        }
      ]
    },
    {
      "cell_type": "code",
      "metadata": {
        "colab": {
          "base_uri": "https://localhost:8080/",
          "height": 204
        },
        "id": "ksb49pZB2XoJ",
        "outputId": "5fa7063d-a6bc-496c-d1a4-dae3ff6b3fb7"
      },
      "source": [
        "labels_csv.head()"
      ],
      "execution_count": 7,
      "outputs": [
        {
          "output_type": "execute_result",
          "data": {
            "text/html": [
              "<div>\n",
              "<style scoped>\n",
              "    .dataframe tbody tr th:only-of-type {\n",
              "        vertical-align: middle;\n",
              "    }\n",
              "\n",
              "    .dataframe tbody tr th {\n",
              "        vertical-align: top;\n",
              "    }\n",
              "\n",
              "    .dataframe thead th {\n",
              "        text-align: right;\n",
              "    }\n",
              "</style>\n",
              "<table border=\"1\" class=\"dataframe\">\n",
              "  <thead>\n",
              "    <tr style=\"text-align: right;\">\n",
              "      <th></th>\n",
              "      <th>id</th>\n",
              "      <th>breed</th>\n",
              "    </tr>\n",
              "  </thead>\n",
              "  <tbody>\n",
              "    <tr>\n",
              "      <th>0</th>\n",
              "      <td>000bec180eb18c7604dcecc8fe0dba07</td>\n",
              "      <td>boston_bull</td>\n",
              "    </tr>\n",
              "    <tr>\n",
              "      <th>1</th>\n",
              "      <td>001513dfcb2ffafc82cccf4d8bbaba97</td>\n",
              "      <td>dingo</td>\n",
              "    </tr>\n",
              "    <tr>\n",
              "      <th>2</th>\n",
              "      <td>001cdf01b096e06d78e9e5112d419397</td>\n",
              "      <td>pekinese</td>\n",
              "    </tr>\n",
              "    <tr>\n",
              "      <th>3</th>\n",
              "      <td>00214f311d5d2247d5dfe4fe24b2303d</td>\n",
              "      <td>bluetick</td>\n",
              "    </tr>\n",
              "    <tr>\n",
              "      <th>4</th>\n",
              "      <td>0021f9ceb3235effd7fcde7f7538ed62</td>\n",
              "      <td>golden_retriever</td>\n",
              "    </tr>\n",
              "  </tbody>\n",
              "</table>\n",
              "</div>"
            ],
            "text/plain": [
              "                                 id             breed\n",
              "0  000bec180eb18c7604dcecc8fe0dba07       boston_bull\n",
              "1  001513dfcb2ffafc82cccf4d8bbaba97             dingo\n",
              "2  001cdf01b096e06d78e9e5112d419397          pekinese\n",
              "3  00214f311d5d2247d5dfe4fe24b2303d          bluetick\n",
              "4  0021f9ceb3235effd7fcde7f7538ed62  golden_retriever"
            ]
          },
          "metadata": {
            "tags": []
          },
          "execution_count": 7
        }
      ]
    },
    {
      "cell_type": "code",
      "metadata": {
        "colab": {
          "base_uri": "https://localhost:8080/"
        },
        "id": "2FZT273P2a7m",
        "outputId": "6f01b03d-4564-461f-af23-81d01e4ef68b"
      },
      "source": [
        "#how many images are there for each breed\n",
        "labels_csv[\"breed\"].value_counts()"
      ],
      "execution_count": 9,
      "outputs": [
        {
          "output_type": "execute_result",
          "data": {
            "text/plain": [
              "scottish_deerhound      126\n",
              "maltese_dog             117\n",
              "afghan_hound            116\n",
              "entlebucher             115\n",
              "bernese_mountain_dog    114\n",
              "                       ... \n",
              "brabancon_griffon        67\n",
              "komondor                 67\n",
              "golden_retriever         67\n",
              "briard                   66\n",
              "eskimo_dog               66\n",
              "Name: breed, Length: 120, dtype: int64"
            ]
          },
          "metadata": {
            "tags": []
          },
          "execution_count": 9
        }
      ]
    },
    {
      "cell_type": "code",
      "metadata": {
        "colab": {
          "base_uri": "https://localhost:8080/",
          "height": 663
        },
        "id": "XPvC782u2yF1",
        "outputId": "86541ee5-b7a2-4bb1-ffac-902e895c8fca"
      },
      "source": [
        "labels_csv[\"breed\"].value_counts().plot.bar(figsize=(20,10))"
      ],
      "execution_count": 10,
      "outputs": [
        {
          "output_type": "execute_result",
          "data": {
            "text/plain": [
              "<matplotlib.axes._subplots.AxesSubplot at 0x7ff8bdd25d90>"
            ]
          },
          "metadata": {
            "tags": []
          },
          "execution_count": 10
        },
        {
          "output_type": "display_data",
          "data": {
            "image/png": "[encoded data removed]",
            "text/plain": [
              "<Figure size 1440x720 with 1 Axes>"
            ]
          },
          "metadata": {
            "tags": [],
            "needs_background": "light"
          }
        }
      ]
    },
    {
      "cell_type": "code",
      "metadata": {
        "colab": {
          "base_uri": "https://localhost:8080/"
        },
        "id": "C8yfQll03Aij",
        "outputId": "0f237f25-5cbb-4a8e-929c-e3503e825efe"
      },
      "source": [
        "labels_csv[\"breed\"].value_counts().median()"
      ],
      "execution_count": 12,
      "outputs": [
        {
          "output_type": "execute_result",
          "data": {
            "text/plain": [
              "82.0"
            ]
          },
          "metadata": {
            "tags": []
          },
          "execution_count": 12
        }
      ]
    },
    {
      "cell_type": "code",
      "metadata": {
        "colab": {
          "base_uri": "https://localhost:8080/",
          "height": 361
        },
        "id": "aFrvLCYe3HR4",
        "outputId": "8cb9c3d2-ec6f-4d1f-db72-a17978bfbd21"
      },
      "source": [
        "#view one sample image\n",
        "from IPython.display import Image\n",
        "Image(\"/content/drive/MyDrive/Projects/dog-vision/train/00214f311d5d2247d5dfe4fe24b2303d.jpg\")"
      ],
      "execution_count": 14,
      "outputs": [
        {
          "output_type": "execute_result",
          "data": {
            "image/jpeg": "[encoded data removed]",
            "text/plain": [
              "<IPython.core.display.Image object>"
            ]
          },
          "metadata": {
            "tags": []
          },
          "execution_count": 14
        }
      ]
    },
    {
      "cell_type": "markdown",
      "metadata": {
        "id": "oNVlYvqC39yA"
      },
      "source": [
        "### Getting images and their labels\n",
        "Let's get a list of all images file pathnames."
      ]
    },
    {
      "cell_type": "code",
      "metadata": {
        "colab": {
          "base_uri": "https://localhost:8080/",
          "height": 204
        },
        "id": "qsuiozrm3wUm",
        "outputId": "b15df9fd-789e-4b9a-b12e-5cc2e3be62ca"
      },
      "source": [
        "labels_csv.head()"
      ],
      "execution_count": 15,
      "outputs": [
        {
          "output_type": "execute_result",
          "data": {
            "text/html": [
              "<div>\n",
              "<style scoped>\n",
              "    .dataframe tbody tr th:only-of-type {\n",
              "        vertical-align: middle;\n",
              "    }\n",
              "\n",
              "    .dataframe tbody tr th {\n",
              "        vertical-align: top;\n",
              "    }\n",
              "\n",
              "    .dataframe thead th {\n",
              "        text-align: right;\n",
              "    }\n",
              "</style>\n",
              "<table border=\"1\" class=\"dataframe\">\n",
              "  <thead>\n",
              "    <tr style=\"text-align: right;\">\n",
              "      <th></th>\n",
              "      <th>id</th>\n",
              "      <th>breed</th>\n",
              "    </tr>\n",
              "  </thead>\n",
              "  <tbody>\n",
              "    <tr>\n",
              "      <th>0</th>\n",
              "      <td>000bec180eb18c7604dcecc8fe0dba07</td>\n",
              "      <td>boston_bull</td>\n",
              "    </tr>\n",
              "    <tr>\n",
              "      <th>1</th>\n",
              "      <td>001513dfcb2ffafc82cccf4d8bbaba97</td>\n",
              "      <td>dingo</td>\n",
              "    </tr>\n",
              "    <tr>\n",
              "      <th>2</th>\n",
              "      <td>001cdf01b096e06d78e9e5112d419397</td>\n",
              "      <td>pekinese</td>\n",
              "    </tr>\n",
              "    <tr>\n",
              "      <th>3</th>\n",
              "      <td>00214f311d5d2247d5dfe4fe24b2303d</td>\n",
              "      <td>bluetick</td>\n",
              "    </tr>\n",
              "    <tr>\n",
              "      <th>4</th>\n",
              "      <td>0021f9ceb3235effd7fcde7f7538ed62</td>\n",
              "      <td>golden_retriever</td>\n",
              "    </tr>\n",
              "  </tbody>\n",
              "</table>\n",
              "</div>"
            ],
            "text/plain": [
              "                                 id             breed\n",
              "0  000bec180eb18c7604dcecc8fe0dba07       boston_bull\n",
              "1  001513dfcb2ffafc82cccf4d8bbaba97             dingo\n",
              "2  001cdf01b096e06d78e9e5112d419397          pekinese\n",
              "3  00214f311d5d2247d5dfe4fe24b2303d          bluetick\n",
              "4  0021f9ceb3235effd7fcde7f7538ed62  golden_retriever"
            ]
          },
          "metadata": {
            "tags": []
          },
          "execution_count": 15
        }
      ]
    },
    {
      "cell_type": "code",
      "metadata": {
        "colab": {
          "base_uri": "https://localhost:8080/"
        },
        "id": "V8kZWpAM4HBx",
        "outputId": "5ef5b4c8-5ed0-4140-b34b-6d584ea7bfec"
      },
      "source": [
        "#creating pathname from Image list\n",
        "filenames = [\"/content/drive/MyDrive/Projects/dog-vision/train/\"+fname+\".jpg\" for fname in labels_csv[\"id\"]]\n",
        "\n",
        "#checking\n",
        "filenames[:5]"
      ],
      "execution_count": 17,
      "outputs": [
        {
          "output_type": "execute_result",
          "data": {
            "text/plain": [
              "['/content/drive/MyDrive/Projects/dog-vision/train/000bec180eb18c7604dcecc8fe0dba07.jpg',\n",
              " '/content/drive/MyDrive/Projects/dog-vision/train/001513dfcb2ffafc82cccf4d8bbaba97.jpg',\n",
              " '/content/drive/MyDrive/Projects/dog-vision/train/001cdf01b096e06d78e9e5112d419397.jpg',\n",
              " '/content/drive/MyDrive/Projects/dog-vision/train/00214f311d5d2247d5dfe4fe24b2303d.jpg',\n",
              " '/content/drive/MyDrive/Projects/dog-vision/train/0021f9ceb3235effd7fcde7f7538ed62.jpg']"
            ]
          },
          "metadata": {
            "tags": []
          },
          "execution_count": 17
        }
      ]
    },
    {
      "cell_type": "code",
      "metadata": {
        "colab": {
          "base_uri": "https://localhost:8080/",
          "height": 392
        },
        "id": "KQW72YJi4SWM",
        "outputId": "e06d8b13-82c3-4dcd-9af0-f3473acb7199"
      },
      "source": [
        "Image(filenames[5])"
      ],
      "execution_count": 18,
      "outputs": [
        {
          "output_type": "execute_result",
          "data": {
            "image/jpeg": "[encoded data removed]",
            "text/plain": [
              "<IPython.core.display.Image object>"
            ]
          },
          "metadata": {
            "tags": []
          },
          "execution_count": 18
        }
      ]
    },
    {
      "cell_type": "code",
      "metadata": {
        "colab": {
          "base_uri": "https://localhost:8080/"
        },
        "id": "BtafrQjD4nDA",
        "outputId": "dc8a1c8b-3770-4e85-b156-f898a76fcd56"
      },
      "source": [
        "#check whether number of filenames matches number of actual image files\n",
        "import os\n",
        "\n",
        "if len(os.listdir(\"/content/drive/MyDrive/Projects/dog-vision/train/\")) == len(filenames):\n",
        "  print(\"Filenames match actual amount of files!! Go ahead.\")\n",
        "else:\n",
        "  print(\"filenames do not match actual amount of files. Check the target directory.\")"
      ],
      "execution_count": 19,
      "outputs": [
        {
          "output_type": "stream",
          "text": [
            "Filenames match actual amount of files!! Go ahead.\n"
          ],
          "name": "stdout"
        }
      ]
    },
    {
      "cell_type": "markdown",
      "metadata": {
        "id": "64sOkXb_8Z08"
      },
      "source": [
        "Since we have got our training image filepaths in a list, let's prepare our labels"
      ]
    },
    {
      "cell_type": "code",
      "metadata": {
        "colab": {
          "base_uri": "https://localhost:8080/"
        },
        "id": "AhzMRejj6dod",
        "outputId": "b9730bf3-fb36-45d5-cd13-51cea07fb1e4"
      },
      "source": [
        "import numpy as np\n",
        "labels = labels_csv[\"breed\"].to_numpy()\n",
        "#labels = np.array(labels) does same thing\n",
        "labels"
      ],
      "execution_count": 20,
      "outputs": [
        {
          "output_type": "execute_result",
          "data": {
            "text/plain": [
              "array(['boston_bull', 'dingo', 'pekinese', ..., 'airedale',\n",
              "       'miniature_pinscher', 'chesapeake_bay_retriever'], dtype=object)"
            ]
          },
          "metadata": {
            "tags": []
          },
          "execution_count": 20
        }
      ]
    },
    {
      "cell_type": "code",
      "metadata": {
        "colab": {
          "base_uri": "https://localhost:8080/"
        },
        "id": "c_mvGdWx8sxO",
        "outputId": "0fbcf6b5-10e8-4a63-faea-8924581bb299"
      },
      "source": [
        "len(labels)"
      ],
      "execution_count": 21,
      "outputs": [
        {
          "output_type": "execute_result",
          "data": {
            "text/plain": [
              "10222"
            ]
          },
          "metadata": {
            "tags": []
          },
          "execution_count": 21
        }
      ]
    },
    {
      "cell_type": "code",
      "metadata": {
        "colab": {
          "base_uri": "https://localhost:8080/"
        },
        "id": "ZHVH_Psm8uCK",
        "outputId": "81118cfe-3039-496d-a918-755318a5ba09"
      },
      "source": [
        "#check if number of labels matches number of filenames\n",
        "if len(labels) == len(filenames):\n",
        "  print(\"Labels matches with filename, Nothing is missing\")\n",
        "else:\n",
        "  print(\"Number of labels does not match\")"
      ],
      "execution_count": 22,
      "outputs": [
        {
          "output_type": "stream",
          "text": [
            "Labels matches with filename, Nothing is missing\n"
          ],
          "name": "stdout"
        }
      ]
    },
    {
      "cell_type": "code",
      "metadata": {
        "colab": {
          "base_uri": "https://localhost:8080/"
        },
        "id": "EMDakW3i8-y8",
        "outputId": "55d543f8-0472-44f8-89a0-55bd790700df"
      },
      "source": [
        "#file unique labels\n",
        "unique_breeds = np.unique(labels)\n",
        "unique_breeds"
      ],
      "execution_count": 23,
      "outputs": [
        {
          "output_type": "execute_result",
          "data": {
            "text/plain": [
              "array(['affenpinscher', 'afghan_hound', 'african_hunting_dog', 'airedale',\n",
              "       'american_staffordshire_terrier', 'appenzeller',\n",
              "       'australian_terrier', 'basenji', 'basset', 'beagle',\n",
              "       'bedlington_terrier', 'bernese_mountain_dog',\n",
              "       'black-and-tan_coonhound', 'blenheim_spaniel', 'bloodhound',\n",
              "       'bluetick', 'border_collie', 'border_terrier', 'borzoi',\n",
              "       'boston_bull', 'bouvier_des_flandres', 'boxer',\n",
              "       'brabancon_griffon', 'briard', 'brittany_spaniel', 'bull_mastiff',\n",
              "       'cairn', 'cardigan', 'chesapeake_bay_retriever', 'chihuahua',\n",
              "       'chow', 'clumber', 'cocker_spaniel', 'collie',\n",
              "       'curly-coated_retriever', 'dandie_dinmont', 'dhole', 'dingo',\n",
              "       'doberman', 'english_foxhound', 'english_setter',\n",
              "       'english_springer', 'entlebucher', 'eskimo_dog',\n",
              "       'flat-coated_retriever', 'french_bulldog', 'german_shepherd',\n",
              "       'german_short-haired_pointer', 'giant_schnauzer',\n",
              "       'golden_retriever', 'gordon_setter', 'great_dane',\n",
              "       'great_pyrenees', 'greater_swiss_mountain_dog', 'groenendael',\n",
              "       'ibizan_hound', 'irish_setter', 'irish_terrier',\n",
              "       'irish_water_spaniel', 'irish_wolfhound', 'italian_greyhound',\n",
              "       'japanese_spaniel', 'keeshond', 'kelpie', 'kerry_blue_terrier',\n",
              "       'komondor', 'kuvasz', 'labrador_retriever', 'lakeland_terrier',\n",
              "       'leonberg', 'lhasa', 'malamute', 'malinois', 'maltese_dog',\n",
              "       'mexican_hairless', 'miniature_pinscher', 'miniature_poodle',\n",
              "       'miniature_schnauzer', 'newfoundland', 'norfolk_terrier',\n",
              "       'norwegian_elkhound', 'norwich_terrier', 'old_english_sheepdog',\n",
              "       'otterhound', 'papillon', 'pekinese', 'pembroke', 'pomeranian',\n",
              "       'pug', 'redbone', 'rhodesian_ridgeback', 'rottweiler',\n",
              "       'saint_bernard', 'saluki', 'samoyed', 'schipperke',\n",
              "       'scotch_terrier', 'scottish_deerhound', 'sealyham_terrier',\n",
              "       'shetland_sheepdog', 'shih-tzu', 'siberian_husky', 'silky_terrier',\n",
              "       'soft-coated_wheaten_terrier', 'staffordshire_bullterrier',\n",
              "       'standard_poodle', 'standard_schnauzer', 'sussex_spaniel',\n",
              "       'tibetan_mastiff', 'tibetan_terrier', 'toy_poodle', 'toy_terrier',\n",
              "       'vizsla', 'walker_hound', 'weimaraner', 'welsh_springer_spaniel',\n",
              "       'west_highland_white_terrier', 'whippet',\n",
              "       'wire-haired_fox_terrier', 'yorkshire_terrier'], dtype=object)"
            ]
          },
          "metadata": {
            "tags": []
          },
          "execution_count": 23
        }
      ]
    },
    {
      "cell_type": "code",
      "metadata": {
        "colab": {
          "base_uri": "https://localhost:8080/"
        },
        "id": "ELbD9i3g9N1a",
        "outputId": "19d0c5f3-f448-4cde-bdd2-c7b1abccc831"
      },
      "source": [
        "len(unique_breeds)"
      ],
      "execution_count": 24,
      "outputs": [
        {
          "output_type": "execute_result",
          "data": {
            "text/plain": [
              "120"
            ]
          },
          "metadata": {
            "tags": []
          },
          "execution_count": 24
        }
      ]
    },
    {
      "cell_type": "code",
      "metadata": {
        "colab": {
          "base_uri": "https://localhost:8080/"
        },
        "id": "5J7KeyJk9R4z",
        "outputId": "ab3c0bdc-c715-4db6-bf2b-7fa4af69d1f8"
      },
      "source": [
        "#Turn a single label into an array of booleans\n",
        "print(labels[0])\n",
        "labels[0] == unique_breeds"
      ],
      "execution_count": 25,
      "outputs": [
        {
          "output_type": "stream",
          "text": [
            "boston_bull\n"
          ],
          "name": "stdout"
        },
        {
          "output_type": "execute_result",
          "data": {
            "text/plain": [
              "array([False, False, False, False, False, False, False, False, False,\n",
              "       False, False, False, False, False, False, False, False, False,\n",
              "       False,  True, False, False, False, False, False, False, False,\n",
              "       False, False, False, False, False, False, False, False, False,\n",
              "       False, False, False, False, False, False, False, False, False,\n",
              "       False, False, False, False, False, False, False, False, False,\n",
              "       False, False, False, False, False, False, False, False, False,\n",
              "       False, False, False, False, False, False, False, False, False,\n",
              "       False, False, False, False, False, False, False, False, False,\n",
              "       False, False, False, False, False, False, False, False, False,\n",
              "       False, False, False, False, False, False, False, False, False,\n",
              "       False, False, False, False, False, False, False, False, False,\n",
              "       False, False, False, False, False, False, False, False, False,\n",
              "       False, False, False])"
            ]
          },
          "metadata": {
            "tags": []
          },
          "execution_count": 25
        }
      ]
    },
    {
      "cell_type": "code",
      "metadata": {
        "colab": {
          "base_uri": "https://localhost:8080/"
        },
        "id": "h-fWYb869dSa",
        "outputId": "f0c39c32-5143-49e2-c5f3-8860ceaa10c3"
      },
      "source": [
        "#Turn every label intp a boolean array\n",
        "boolean_labels = [label == unique_breeds for label in labels]\n",
        "boolean_labels[:2]"
      ],
      "execution_count": 28,
      "outputs": [
        {
          "output_type": "execute_result",
          "data": {
            "text/plain": [
              "[array([False, False, False, False, False, False, False, False, False,\n",
              "        False, False, False, False, False, False, False, False, False,\n",
              "        False,  True, False, False, False, False, False, False, False,\n",
              "        False, False, False, False, False, False, False, False, False,\n",
              "        False, False, False, False, False, False, False, False, False,\n",
              "        False, False, False, False, False, False, False, False, False,\n",
              "        False, False, False, False, False, False, False, False, False,\n",
              "        False, False, False, False, False, False, False, False, False,\n",
              "        False, False, False, False, False, False, False, False, False,\n",
              "        False, False, False, False, False, False, False, False, False,\n",
              "        False, False, False, False, False, False, False, False, False,\n",
              "        False, False, False, False, False, False, False, False, False,\n",
              "        False, False, False, False, False, False, False, False, False,\n",
              "        False, False, False]),\n",
              " array([False, False, False, False, False, False, False, False, False,\n",
              "        False, False, False, False, False, False, False, False, False,\n",
              "        False, False, False, False, False, False, False, False, False,\n",
              "        False, False, False, False, False, False, False, False, False,\n",
              "        False,  True, False, False, False, False, False, False, False,\n",
              "        False, False, False, False, False, False, False, False, False,\n",
              "        False, False, False, False, False, False, False, False, False,\n",
              "        False, False, False, False, False, False, False, False, False,\n",
              "        False, False, False, False, False, False, False, False, False,\n",
              "        False, False, False, False, False, False, False, False, False,\n",
              "        False, False, False, False, False, False, False, False, False,\n",
              "        False, False, False, False, False, False, False, False, False,\n",
              "        False, False, False, False, False, False, False, False, False,\n",
              "        False, False, False])]"
            ]
          },
          "metadata": {
            "tags": []
          },
          "execution_count": 28
        }
      ]
    },
    {
      "cell_type": "code",
      "metadata": {
        "colab": {
          "base_uri": "https://localhost:8080/"
        },
        "id": "Hzi3zaOe9vUc",
        "outputId": "df77ac6b-b240-48a8-9c2f-a01735a36d2f"
      },
      "source": [
        "len(boolean_labels)"
      ],
      "execution_count": 29,
      "outputs": [
        {
          "output_type": "execute_result",
          "data": {
            "text/plain": [
              "10222"
            ]
          },
          "metadata": {
            "tags": []
          },
          "execution_count": 29
        }
      ]
    },
    {
      "cell_type": "code",
      "metadata": {
        "colab": {
          "base_uri": "https://localhost:8080/"
        },
        "id": "fS4P4OKl96zN",
        "outputId": "9b3d00f5-e602-4061-e841-3eac0010fbc9"
      },
      "source": [
        "#example turning boolean array into integers\n",
        "print(labels[0]) #original label\n",
        "print(np.where(unique_breeds == labels[0])) #index where the label occurs\n",
        "print(boolean_labels[0].argmax()) #index where label occurs in boolean array\n",
        "print(boolean_labels[0].astype(int)) #there will be a 1 where the sample label occurs"
      ],
      "execution_count": 30,
      "outputs": [
        {
          "output_type": "stream",
          "text": [
            "boston_bull\n",
            "(array([19]),)\n",
            "19\n",
            "[0 0 0 0 0 0 0 0 0 0 0 0 0 0 0 0 0 0 0 1 0 0 0 0 0 0 0 0 0 0 0 0 0 0 0 0 0\n",
            " 0 0 0 0 0 0 0 0 0 0 0 0 0 0 0 0 0 0 0 0 0 0 0 0 0 0 0 0 0 0 0 0 0 0 0 0 0\n",
            " 0 0 0 0 0 0 0 0 0 0 0 0 0 0 0 0 0 0 0 0 0 0 0 0 0 0 0 0 0 0 0 0 0 0 0 0 0\n",
            " 0 0 0 0 0 0 0 0 0]\n"
          ],
          "name": "stdout"
        }
      ]
    },
    {
      "cell_type": "code",
      "metadata": {
        "colab": {
          "base_uri": "https://localhost:8080/"
        },
        "id": "GfztZMpr-gQ3",
        "outputId": "cbbbae5c-d604-4509-c538-014b4d82054a"
      },
      "source": [
        "print(labels[2])\n",
        "print(boolean_labels[2].astype(int))"
      ],
      "execution_count": 31,
      "outputs": [
        {
          "output_type": "stream",
          "text": [
            "pekinese\n",
            "[0 0 0 0 0 0 0 0 0 0 0 0 0 0 0 0 0 0 0 0 0 0 0 0 0 0 0 0 0 0 0 0 0 0 0 0 0\n",
            " 0 0 0 0 0 0 0 0 0 0 0 0 0 0 0 0 0 0 0 0 0 0 0 0 0 0 0 0 0 0 0 0 0 0 0 0 0\n",
            " 0 0 0 0 0 0 0 0 0 0 0 1 0 0 0 0 0 0 0 0 0 0 0 0 0 0 0 0 0 0 0 0 0 0 0 0 0\n",
            " 0 0 0 0 0 0 0 0 0]\n"
          ],
          "name": "stdout"
        }
      ]
    },
    {
      "cell_type": "markdown",
      "metadata": {
        "id": "uZr4MuFk-w7G"
      },
      "source": [
        "## creating our own validation set\n"
      ]
    },
    {
      "cell_type": "code",
      "metadata": {
        "id": "PBrPOf5HCDxs"
      },
      "source": [
        "#setup X and y\n",
        "X = filenames\n",
        "y = boolean_labels"
      ],
      "execution_count": 32,
      "outputs": []
    },
    {
      "cell_type": "code",
      "metadata": {
        "colab": {
          "base_uri": "https://localhost:8080/"
        },
        "id": "Bp08VA2ICIwB",
        "outputId": "f44b6a60-3e85-436e-ff8d-9b1e207f1a7d"
      },
      "source": [
        "len(filenames)"
      ],
      "execution_count": 33,
      "outputs": [
        {
          "output_type": "execute_result",
          "data": {
            "text/plain": [
              "10222"
            ]
          },
          "metadata": {
            "tags": []
          },
          "execution_count": 33
        }
      ]
    },
    {
      "cell_type": "markdown",
      "metadata": {
        "id": "l02hTq0hCNix"
      },
      "source": [
        "We'll start with 1000 images and increase as needed"
      ]
    },
    {
      "cell_type": "code",
      "metadata": {
        "id": "or4Bf5VqCKAU"
      },
      "source": [
        "# set number of images to use for experimenting\n",
        "NUM_IMAGES = 1000 #@param {type:\"slider\",min:1000, max:10000}"
      ],
      "execution_count": 35,
      "outputs": []
    },
    {
      "cell_type": "code",
      "metadata": {
        "colab": {
          "base_uri": "https://localhost:8080/"
        },
        "id": "0HicUD78CkUo",
        "outputId": "b457c4b6-6192-4359-f1ff-68c5a0eb9788"
      },
      "source": [
        "#lets split our data into train and validation sets\n",
        "from sklearn.model_selection import train_test_split\n",
        "\n",
        "#Split them into training and validation of total size NUM_IMAGES\n",
        "X_train, X_valid, y_train, y_valid = train_test_split(X[:NUM_IMAGES],\n",
        "                                                      y[:NUM_IMAGES],\n",
        "                                                      test_size = 0.2,\n",
        "                                                      random_state = 42)\n",
        "\n",
        "len(X_train), len(y_train), len(X_valid), len(y_valid)"
      ],
      "execution_count": 36,
      "outputs": [
        {
          "output_type": "execute_result",
          "data": {
            "text/plain": [
              "(800, 800, 200, 200)"
            ]
          },
          "metadata": {
            "tags": []
          },
          "execution_count": 36
        }
      ]
    },
    {
      "cell_type": "code",
      "metadata": {
        "colab": {
          "base_uri": "https://localhost:8080/"
        },
        "id": "2HBf7C-CDGsr",
        "outputId": "99df14b8-67e5-4e0d-bc10-31b864ded76b"
      },
      "source": [
        "X_train[:5]"
      ],
      "execution_count": 37,
      "outputs": [
        {
          "output_type": "execute_result",
          "data": {
            "text/plain": [
              "['/content/drive/MyDrive/Projects/dog-vision/train/00bee065dcec471f26394855c5c2f3de.jpg',\n",
              " '/content/drive/MyDrive/Projects/dog-vision/train/0d2f9e12a2611d911d91a339074c8154.jpg',\n",
              " '/content/drive/MyDrive/Projects/dog-vision/train/1108e48ce3e2d7d7fb527ae6e40ab486.jpg',\n",
              " '/content/drive/MyDrive/Projects/dog-vision/train/0dc3196b4213a2733d7f4bdcd41699d3.jpg',\n",
              " '/content/drive/MyDrive/Projects/dog-vision/train/146fbfac6b5b1f0de83a5d0c1b473377.jpg']"
            ]
          },
          "metadata": {
            "tags": []
          },
          "execution_count": 37
        }
      ]
    },
    {
      "cell_type": "code",
      "metadata": {
        "colab": {
          "base_uri": "https://localhost:8080/"
        },
        "id": "8N-8RMwhDKIA",
        "outputId": "7481f9f5-92d6-48fe-8fe1-27b2dc4b5e98"
      },
      "source": [
        "y_train[:2]"
      ],
      "execution_count": 38,
      "outputs": [
        {
          "output_type": "execute_result",
          "data": {
            "text/plain": [
              "[array([False, False, False, False, False, False, False, False, False,\n",
              "        False, False, False, False, False, False, False, False, False,\n",
              "        False, False, False, False, False, False, False, False,  True,\n",
              "        False, False, False, False, False, False, False, False, False,\n",
              "        False, False, False, False, False, False, False, False, False,\n",
              "        False, False, False, False, False, False, False, False, False,\n",
              "        False, False, False, False, False, False, False, False, False,\n",
              "        False, False, False, False, False, False, False, False, False,\n",
              "        False, False, False, False, False, False, False, False, False,\n",
              "        False, False, False, False, False, False, False, False, False,\n",
              "        False, False, False, False, False, False, False, False, False,\n",
              "        False, False, False, False, False, False, False, False, False,\n",
              "        False, False, False, False, False, False, False, False, False,\n",
              "        False, False, False]),\n",
              " array([False, False, False, False, False, False, False, False, False,\n",
              "        False, False, False, False, False, False, False, False, False,\n",
              "        False, False,  True, False, False, False, False, False, False,\n",
              "        False, False, False, False, False, False, False, False, False,\n",
              "        False, False, False, False, False, False, False, False, False,\n",
              "        False, False, False, False, False, False, False, False, False,\n",
              "        False, False, False, False, False, False, False, False, False,\n",
              "        False, False, False, False, False, False, False, False, False,\n",
              "        False, False, False, False, False, False, False, False, False,\n",
              "        False, False, False, False, False, False, False, False, False,\n",
              "        False, False, False, False, False, False, False, False, False,\n",
              "        False, False, False, False, False, False, False, False, False,\n",
              "        False, False, False, False, False, False, False, False, False,\n",
              "        False, False, False])]"
            ]
          },
          "metadata": {
            "tags": []
          },
          "execution_count": 38
        }
      ]
    },
    {
      "cell_type": "markdown",
      "metadata": {
        "id": "b2IQv1gPDp5H"
      },
      "source": [
        "## Preprocessing Images (turning images into Tensors)\n",
        "To preprocess our images into Tensors we're going to write a function which does a few things\n",
        "\n",
        "1. Take an image filepath as input\n",
        "2. Use TensorFlow to read the file and save it to a variable, `image`\n",
        "3. Turn our `image` (a jpg) into Tensors\n",
        "4. Resize the `image` to be a shape of (244,244)\n",
        "5. Return the modified `image`\n",
        "\n",
        "**Before we do, let's see what importing an image looks like**"
      ]
    },
    {
      "cell_type": "code",
      "metadata": {
        "colab": {
          "base_uri": "https://localhost:8080/"
        },
        "id": "usigQ1vRDMFu",
        "outputId": "74c4ce98-f23d-420a-ca4c-36071c265e8b"
      },
      "source": [
        "#convert an image to NumPy array\n",
        "from matplotlib.pyplot import imread\n",
        "image =imread(filenames[42])\n",
        "image.shape"
      ],
      "execution_count": 40,
      "outputs": [
        {
          "output_type": "execute_result",
          "data": {
            "text/plain": [
              "(257, 350, 3)"
            ]
          },
          "metadata": {
            "tags": []
          },
          "execution_count": 40
        }
      ]
    },
    {
      "cell_type": "code",
      "metadata": {
        "colab": {
          "base_uri": "https://localhost:8080/"
        },
        "id": "KwkSLzZNFO-Z",
        "outputId": "2ad124e7-ea8a-4779-9a66-39b8d2a6469d"
      },
      "source": [
        "image"
      ],
      "execution_count": 41,
      "outputs": [
        {
          "output_type": "execute_result",
          "data": {
            "text/plain": [
              "array([[[ 89, 137,  87],\n",
              "        [ 76, 124,  74],\n",
              "        [ 63, 111,  59],\n",
              "        ...,\n",
              "        [ 76, 134,  86],\n",
              "        [ 76, 134,  86],\n",
              "        [ 76, 134,  86]],\n",
              "\n",
              "       [[ 72, 119,  73],\n",
              "        [ 67, 114,  68],\n",
              "        [ 63, 111,  63],\n",
              "        ...,\n",
              "        [ 75, 131,  84],\n",
              "        [ 74, 132,  84],\n",
              "        [ 74, 131,  86]],\n",
              "\n",
              "       [[ 56, 104,  66],\n",
              "        [ 58, 106,  66],\n",
              "        [ 64, 112,  72],\n",
              "        ...,\n",
              "        [ 71, 127,  82],\n",
              "        [ 73, 129,  84],\n",
              "        [ 73, 130,  85]],\n",
              "\n",
              "       ...,\n",
              "\n",
              "       [[  2,  11,  10],\n",
              "        [  5,  14,  13],\n",
              "        [  6,  15,  14],\n",
              "        ...,\n",
              "        [120, 113,  67],\n",
              "        [126, 118,  72],\n",
              "        [122, 114,  67]],\n",
              "\n",
              "       [[  0,   4,   6],\n",
              "        [  0,   9,   8],\n",
              "        [  1,  10,   9],\n",
              "        ...,\n",
              "        [105,  98,  52],\n",
              "        [111, 104,  58],\n",
              "        [111, 103,  56]],\n",
              "\n",
              "       [[ 18,  16,  37],\n",
              "        [ 18,  18,  28],\n",
              "        [ 17,  20,  11],\n",
              "        ...,\n",
              "        [101,  92,  53],\n",
              "        [ 97,  88,  49],\n",
              "        [120, 111,  72]]], dtype=uint8)"
            ]
          },
          "metadata": {
            "tags": []
          },
          "execution_count": 41
        }
      ]
    },
    {
      "cell_type": "code",
      "metadata": {
        "colab": {
          "base_uri": "https://localhost:8080/"
        },
        "id": "yUhdLNP8FVT7",
        "outputId": "6c207817-ff53-4832-bf20-25b4faebd48e"
      },
      "source": [
        "image.max()"
      ],
      "execution_count": 49,
      "outputs": [
        {
          "output_type": "execute_result",
          "data": {
            "text/plain": [
              "255"
            ]
          },
          "metadata": {
            "tags": []
          },
          "execution_count": 49
        }
      ]
    },
    {
      "cell_type": "code",
      "metadata": {
        "colab": {
          "base_uri": "https://localhost:8080/"
        },
        "id": "bFnsmxOBFY6H",
        "outputId": "a618fb69-2c9f-40ae-b012-455a98083bf8"
      },
      "source": [
        "image.min()"
      ],
      "execution_count": 50,
      "outputs": [
        {
          "output_type": "execute_result",
          "data": {
            "text/plain": [
              "0"
            ]
          },
          "metadata": {
            "tags": []
          },
          "execution_count": 50
        }
      ]
    },
    {
      "cell_type": "code",
      "metadata": {
        "colab": {
          "base_uri": "https://localhost:8080/"
        },
        "id": "EarlGwqQFbYE",
        "outputId": "9ac7f010-5bf1-419a-a458-1386a4802066"
      },
      "source": [
        "#converts into tensor\n",
        "tf.constant(image)[:2]"
      ],
      "execution_count": 51,
      "outputs": [
        {
          "output_type": "execute_result",
          "data": {
            "text/plain": [
              "<tf.Tensor: shape=(2, 350, 3), dtype=uint8, numpy=\n",
              "array([[[ 89, 137,  87],\n",
              "        [ 76, 124,  74],\n",
              "        [ 63, 111,  59],\n",
              "        ...,\n",
              "        [ 76, 134,  86],\n",
              "        [ 76, 134,  86],\n",
              "        [ 76, 134,  86]],\n",
              "\n",
              "       [[ 72, 119,  73],\n",
              "        [ 67, 114,  68],\n",
              "        [ 63, 111,  63],\n",
              "        ...,\n",
              "        [ 75, 131,  84],\n",
              "        [ 74, 132,  84],\n",
              "        [ 74, 131,  86]]], dtype=uint8)>"
            ]
          },
          "metadata": {
            "tags": []
          },
          "execution_count": 51
        }
      ]
    },
    {
      "cell_type": "markdown",
      "metadata": {
        "id": "cCkt7UqUFt9X"
      },
      "source": [
        "tensor and numpy image imread looks same. tensor just runs on GPU"
      ]
    },
    {
      "cell_type": "markdown",
      "metadata": {
        "id": "v4GxAEcaF6I6"
      },
      "source": [
        "1. Take an image filepath as input\n",
        "2. Use TensorFlow to read the file and save it to a variable, `image`\n",
        "3. Turn our `image` (a jpg) into Tensors\n",
        "4. Normalise our image for faster processing\n",
        "5. Resize the `image` to be a shape of (244,244)\n",
        "6. Return the modified `image`\n"
      ]
    },
    {
      "cell_type": "code",
      "metadata": {
        "id": "BkiZjZjMFmxL"
      },
      "source": [
        "#define image size\n",
        "IMG_SIZE = 224\n",
        "\n",
        "#create a function for preprocessing images\n",
        "def process_image(image_path, image_size = IMG_SIZE):\n",
        "  \"\"\"\n",
        "  Takes an image path and turn the image into tensor\n",
        "  \"\"\"\n",
        "\n",
        "  #read in an image file\n",
        "  image = tf.io.read_file(image_path)\n",
        "\n",
        "  #turn the jpg into numerical tensor with 3 color channels\n",
        "  image = tf.image.decode_jpeg(image, channels=3)\n",
        "\n",
        "  #convert the color channel values from 0-255 values to 0-1 values\n",
        "  image = tf.image.convert_image_dtype(image, tf.float32) #this normalisation, we do for make processing faster\n",
        "\n",
        "  #Resize the image to our desired value (244)\n",
        "  image = tf.image.resize(image, size=[IMG_SIZE, IMG_SIZE])\n",
        "\n",
        "  return image"
      ],
      "execution_count": 52,
      "outputs": []
    },
    {
      "cell_type": "markdown",
      "metadata": {
        "id": "WqFsBOMMVc2v"
      },
      "source": [
        "## Turning our data into batches\n",
        "\n",
        "Why turn our data into batches?\n",
        "\n",
        "Let's say you're trying to process 10,000+ images in one go.. they all might not fit into memory.\n",
        "\n",
        "So, that's why we do 32 images (batch size) at a time. You can adjust if you want.\n",
        "\n",
        "In order to use TensorFlow effectively, we need our data in the form of Tensor tuples which look like this: `(image,label)`"
      ]
    },
    {
      "cell_type": "code",
      "metadata": {
        "id": "xNSsiGRlHm3W"
      },
      "source": [
        "#create a simple function to return tuples (image, label)\n",
        "def get_image_label(image_path, label):\n",
        "  \"\"\"\n",
        "  Takes image file path name and the associated label,\n",
        "  processes the image and returns a tuple of (image,label)\n",
        "  \"\"\"\n",
        "  image = process_image(image_path)\n",
        "  return image,label"
      ],
      "execution_count": 53,
      "outputs": []
    },
    {
      "cell_type": "code",
      "metadata": {
        "colab": {
          "base_uri": "https://localhost:8080/"
        },
        "id": "irLXTQrCWpt-",
        "outputId": "0da31002-c39a-4ded-d872-7c584294c1c6"
      },
      "source": [
        "#demo of the above\n",
        "(process_image(X[42]), tf.constant(y[42]))"
      ],
      "execution_count": 54,
      "outputs": [
        {
          "output_type": "execute_result",
          "data": {
            "text/plain": [
              "(<tf.Tensor: shape=(224, 224, 3), dtype=float32, numpy=\n",
              " array([[[0.3264178 , 0.5222886 , 0.3232816 ],\n",
              "         [0.2537167 , 0.44366494, 0.24117757],\n",
              "         [0.25699762, 0.4467087 , 0.23893751],\n",
              "         ...,\n",
              "         [0.29325107, 0.5189916 , 0.3215547 ],\n",
              "         [0.29721776, 0.52466875, 0.33030328],\n",
              "         [0.2948505 , 0.5223015 , 0.33406618]],\n",
              " \n",
              "        [[0.25903144, 0.4537807 , 0.27294815],\n",
              "         [0.24375686, 0.4407019 , 0.2554778 ],\n",
              "         [0.2838985 , 0.47213382, 0.28298813],\n",
              "         ...,\n",
              "         [0.2785345 , 0.5027992 , 0.31004712],\n",
              "         [0.28428748, 0.5108719 , 0.32523635],\n",
              "         [0.28821915, 0.5148036 , 0.32916805]],\n",
              " \n",
              "        [[0.20941195, 0.40692952, 0.25792548],\n",
              "         [0.24045378, 0.43900946, 0.2868911 ],\n",
              "         [0.29001117, 0.47937486, 0.32247734],\n",
              "         ...,\n",
              "         [0.26074055, 0.48414773, 0.30125174],\n",
              "         [0.27101526, 0.49454468, 0.32096273],\n",
              "         [0.27939945, 0.5029289 , 0.32934693]],\n",
              " \n",
              "        ...,\n",
              " \n",
              "        [[0.00634795, 0.03442048, 0.0258106 ],\n",
              "         [0.01408936, 0.04459917, 0.0301715 ],\n",
              "         [0.01385712, 0.04856448, 0.02839671],\n",
              "         ...,\n",
              "         [0.4220516 , 0.39761978, 0.21622123],\n",
              "         [0.47932503, 0.45370543, 0.2696505 ],\n",
              "         [0.48181024, 0.45828083, 0.27004552]],\n",
              " \n",
              "        [[0.00222061, 0.02262166, 0.03176915],\n",
              "         [0.01008397, 0.03669046, 0.02473482],\n",
              "         [0.00608852, 0.03890046, 0.01207283],\n",
              "         ...,\n",
              "         [0.36070833, 0.33803678, 0.16216145],\n",
              "         [0.42499566, 0.3976801 , 0.21701711],\n",
              "         [0.4405433 , 0.4139589 , 0.23183356]],\n",
              " \n",
              "        [[0.05608025, 0.06760229, 0.10401428],\n",
              "         [0.05441074, 0.07435255, 0.05428263],\n",
              "         [0.04734282, 0.07581793, 0.02060942],\n",
              "         ...,\n",
              "         [0.3397559 , 0.31265694, 0.14725602],\n",
              "         [0.387725  , 0.360274  , 0.18714729],\n",
              "         [0.43941984, 0.41196886, 0.23884216]]], dtype=float32)>,\n",
              " <tf.Tensor: shape=(120,), dtype=bool, numpy=\n",
              " array([False, False, False, False, False, False, False, False, False,\n",
              "        False, False, False, False, False, False, False, False, False,\n",
              "        False, False, False, False, False, False, False, False, False,\n",
              "        False, False, False, False, False, False, False, False, False,\n",
              "         True, False, False, False, False, False, False, False, False,\n",
              "        False, False, False, False, False, False, False, False, False,\n",
              "        False, False, False, False, False, False, False, False, False,\n",
              "        False, False, False, False, False, False, False, False, False,\n",
              "        False, False, False, False, False, False, False, False, False,\n",
              "        False, False, False, False, False, False, False, False, False,\n",
              "        False, False, False, False, False, False, False, False, False,\n",
              "        False, False, False, False, False, False, False, False, False,\n",
              "        False, False, False, False, False, False, False, False, False,\n",
              "        False, False, False])>)"
            ]
          },
          "metadata": {
            "tags": []
          },
          "execution_count": 54
        }
      ]
    },
    {
      "cell_type": "markdown",
      "metadata": {
        "id": "Ixnz3WG0YXbz"
      },
      "source": [
        "Now we've got a way to turn our data into tuples of Tensors in the form: `(image,label)` let's make a function to turn all our data (`X` & `y`) into batches"
      ]
    },
    {
      "cell_type": "code",
      "metadata": {
        "id": "LOwSHnIeWzaj"
      },
      "source": [
        "#define the batch size, 32 is a good start\n",
        "BATCH_SIZE = 32\n",
        "\n",
        "#create a function to turn data into batches\n",
        "def create_data_batches(X,y=None, batch_size=BATCH_SIZE, valid_data =False, test_data = False):\n",
        "  \"\"\"\n",
        "  Create batches out of data out of (X) and label (y) pairs.\n",
        "  Shuffles the data if it's training data but doesn't shuffle if it's validation data.\n",
        "  Also accepts test data as input (no labels)\n",
        "  \"\"\"\n",
        "\n",
        "  #if the data is a test dataset, we probably don't have labels\n",
        "\n",
        "  if test_data:\n",
        "    print(\"Creating test data batches...\")\n",
        "    data = tf.data.Dataset.from_tensor_slices((tf.constant(X))) #only filepath (no labels)\n",
        "    data_batch = data.map(process_image).batch(BATCH_SIZE)\n",
        "    return data_batch\n",
        "\n",
        "  #if the data is a valid dataset, we don't need to shuffle it\n",
        "  elif valid_data:\n",
        "    print(\"Creating validation data batches...\")\n",
        "    data = tf.data.Dataset.from_tensor_slices((tf.constant(X), #filepaths\n",
        "                                               tf.constant(y))) #labels\n",
        "                                              \n",
        "    data_batch = data.map(get_image_label).batch(BATCH_SIZE)\n",
        "    return data_batch\n",
        "\n",
        "  else:\n",
        "    print(\"Creating training data_batches...\")\n",
        "    #turn filepaths and labels to tensors\n",
        "    data = tf.data.Dataset.from_tensor_slices((tf.constant(X),\n",
        "                                               tf.constant(y)))\n",
        "    \n",
        "    #shuffling pathnames and labels before mapping image processor function\n",
        "    #shuffling filenames is faster than shuufling images\n",
        "    data = data.shuffle(buffer_size=len(X))\n",
        "    #creates (image,label) tuples, also turns image path into preprocessed images\n",
        "    data = data.map(get_image_label)\n",
        "\n",
        "    #turn the training data into batches\n",
        "    data_batch = data.batch(BATCH_SIZE)\n",
        "    return data_batch\n",
        "\n"
      ],
      "execution_count": 55,
      "outputs": []
    },
    {
      "cell_type": "code",
      "metadata": {
        "colab": {
          "base_uri": "https://localhost:8080/"
        },
        "id": "j44iyKJ4b0Rj",
        "outputId": "9da9f5bb-00b3-43be-a867-a692e37015f5"
      },
      "source": [
        "#create training and validation data batches\n",
        "train_data = create_data_batches(X_train, y_train)\n",
        "val_data = create_data_batches(X_valid, y_valid, valid_data=True)"
      ],
      "execution_count": 56,
      "outputs": [
        {
          "output_type": "stream",
          "text": [
            "Creating training data_batches...\n",
            "Creating validation data batches...\n"
          ],
          "name": "stdout"
        }
      ]
    },
    {
      "cell_type": "code",
      "metadata": {
        "colab": {
          "base_uri": "https://localhost:8080/"
        },
        "id": "jjRttkNocCNA",
        "outputId": "32a62f62-bad7-48f5-b4bf-da12db2ba641"
      },
      "source": [
        "#checkout different attributes of our data batches\n",
        "train_data.element_spec, val_data.element_spec"
      ],
      "execution_count": 57,
      "outputs": [
        {
          "output_type": "execute_result",
          "data": {
            "text/plain": [
              "((TensorSpec(shape=(None, 224, 224, 3), dtype=tf.float32, name=None),\n",
              "  TensorSpec(shape=(None, 120), dtype=tf.bool, name=None)),\n",
              " (TensorSpec(shape=(None, 224, 224, 3), dtype=tf.float32, name=None),\n",
              "  TensorSpec(shape=(None, 120), dtype=tf.bool, name=None)))"
            ]
          },
          "metadata": {
            "tags": []
          },
          "execution_count": 57
        }
      ]
    },
    {
      "cell_type": "code",
      "metadata": {
        "id": "npRNpU-4cO1o"
      },
      "source": [
        ""
      ],
      "execution_count": null,
      "outputs": []
    }
  ]
}